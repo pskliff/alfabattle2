{
 "cells": [
  {
   "source": [
    "# Imports"
   ],
   "cell_type": "markdown",
   "metadata": {}
  },
  {
   "cell_type": "code",
   "execution_count": 1,
   "metadata": {
    "id": "CK5YG8oF7Vvo"
   },
   "outputs": [],
   "source": [
    "import os\n",
    "import sys\n",
    "import gc\n",
    "import random\n",
    "import logging\n",
    "import pickle\n",
    "import typing as T\n",
    "from datetime import datetime\n",
    "from dateutil.relativedelta import relativedelta\n",
    "from logging import getLogger\n",
    "\n",
    "import numpy as np\n",
    "import pandas as pd\n",
    "import matplotlib.pyplot as plt\n",
    "import seaborn as sns\n",
    "from tqdm.notebook import tqdm\n",
    "from sklearn.preprocessing import LabelEncoder\n",
    "# from tensorflow.keras.preprocessing.sequence import pad_sequences\n",
    "\n",
    "tqdm.pandas()"
   ]
  },
  {
   "cell_type": "markdown",
   "metadata": {
    "id": "hGhRbb_w-dud"
   },
   "source": [
    "# Settings"
   ]
  },
  {
   "cell_type": "code",
   "execution_count": 2,
   "metadata": {
    "id": "i-NlXkZxywoW"
   },
   "outputs": [],
   "source": [
    "PROJ_PATH = \"..\"\n",
    "DATA_PATH = os.path.join(PROJ_PATH, \"data\")\n",
    "\n",
    "TEST_DATA_PATH = os.path.join(DATA_PATH, \"final/target\")\n",
    "PREPROCESSED_DATA_PATH = os.path.join(DATA_PATH, \"preprocessed\")\n",
    "MAPPERS_PATH = os.path.join(PREPROCESSED_DATA_PATH, \"mappers\")\n",
    "SESSION_DATA_PATH = os.path.join(\n",
    "    PREPROCESSED_DATA_PATH, \"ap-mobile_et-sv-se_cols-event-net\"\n",
    "    )"
   ]
  },
  {
   "cell_type": "code",
   "execution_count": 3,
   "metadata": {
    "id": "zUTQ5BbSqCb3"
   },
   "outputs": [],
   "source": [
    "def seed_everything(seed=42):\n",
    "    random.seed(seed)\n",
    "    os.environ['PYTHONHASHSEED'] = str(seed)\n",
    "    np.random.seed(seed)"
   ]
  },
  {
   "cell_type": "code",
   "execution_count": 4,
   "metadata": {
    "id": "khvQVZy7qM6A"
   },
   "outputs": [],
   "source": [
    "SEED = 42\n",
    "seed_everything(seed=SEED)"
   ]
  },
  {
   "cell_type": "code",
   "execution_count": 5,
   "metadata": {
    "id": "IGMll0E6nZjd"
   },
   "outputs": [],
   "source": [
    "logger = getLogger(name=__name__)\n",
    "logging.basicConfig(format = u'%(filename)s[LINE:%(lineno)d] # [%(levelname)-8s] [%(asctime)s]  %(message)s', level = logging.INFO)\n"
   ]
  },
  {
   "cell_type": "markdown",
   "metadata": {
    "id": "hGT1EjUT7Vvq"
   },
   "source": [
    "# Methods"
   ]
  },
  {
   "cell_type": "code",
   "execution_count": 6,
   "metadata": {
    "id": "5t5JxtVh7Vvq"
   },
   "outputs": [],
   "source": [
    "def save_pickle(a, filepath):\n",
    "    with open(filepath, 'wb') as handle:\n",
    "        pickle.dump(a, handle, protocol=pickle.HIGHEST_PROTOCOL)\n",
    "        \n",
    "        \n",
    "def load_pickle(filepath):\n",
    "    with open(filepath, 'rb') as handle:\n",
    "        b = pickle.load(handle)\n",
    "        \n",
    "    return b"
   ]
  },
  {
   "cell_type": "code",
   "execution_count": 7,
   "metadata": {
    "id": "H1cOB88BxIDw"
   },
   "outputs": [],
   "source": [
    "def get_full_dataset(\n",
    "    data_path: str,\n",
    "    part_names: T.List[str],\n",
    "    columns: T.Optional[T.List[str]] = None\n",
    "    ) -> pd.DataFrame:\n",
    "    df = pd.DataFrame(columns=columns)\n",
    "    for part in tqdm(part_names):\n",
    "        dft = load_pickle(os.path.join(data_path, part))\n",
    "        if columns:\n",
    "            dft = dft[columns]\n",
    "        df = pd.concat((df, dft))\n",
    "        del dft\n",
    "        collected_gc = gc.collect()\n",
    "        logger.info(f\"Partition read: {part}; gc.collect: {collected_gc}\")\n",
    "    return df.reset_index(drop=True)"
   ]
  },
  {
   "cell_type": "code",
   "execution_count": 8,
   "metadata": {
    "id": "Um74nQvYuL8g"
   },
   "outputs": [],
   "source": [
    "def show_df_memory_usage_gb(df: pd.DataFrame): \n",
    "    memory_usage = df.memory_usage(index=True, deep=True).sum() / 1024**3\n",
    "    print(f'RAM memory usage: {round(memory_usage, 4)} Gb')"
   ]
  },
  {
   "cell_type": "code",
   "execution_count": 9,
   "metadata": {
    "id": "vPU4eDiXnIx7"
   },
   "outputs": [],
   "source": [
    "def label_encode_arrs(series: pd.Series, le: LabelEncoder) -> pd.Series:\n",
    "    out = series.apply(lambda arr: le.transform(arr))\n",
    "    del series\n",
    "    gc.collect()\n",
    "    return out"
   ]
  },
  {
   "cell_type": "code",
   "execution_count": 10,
   "metadata": {
    "id": "W60ooHcPozWR"
   },
   "outputs": [],
   "source": [
    "def get_text_array(df, grp_col: str, txt_col: str, length: int):\n",
    "    df_grp = df.groupby(grp_col)\n",
    "    result = [\n",
    "            [str(el) for el in x[txt_col][max(i - length, 0):i].values]\n",
    "            for j, x in df_grp \n",
    "                for i in range(len(x))\n",
    "            ]\n",
    "    del df_grp\n",
    "    gc.collect()\n",
    "    return result"
   ]
  },
  {
   "cell_type": "markdown",
   "metadata": {
    "id": "tqohH5Sn7Vvr"
   },
   "source": [
    "# Get data"
   ]
  },
  {
   "cell_type": "markdown",
   "metadata": {
    "id": "w07lXAjg7Vvs"
   },
   "source": [
    "## Get tables"
   ]
  },
  {
   "cell_type": "markdown",
   "metadata": {
    "id": "Bk0parO27Vvs"
   },
   "source": [
    "### History (train) data"
   ]
  },
  {
   "cell_type": "code",
   "execution_count": 13,
   "metadata": {},
   "outputs": [],
   "source": [
    "def get_train_data(part_names: T.List[str]) -> pd.DataFrame:\n",
    "    df = get_full_dataset(\n",
    "        data_path=SESSION_DATA_PATH, part_names=part_names, columns=None\n",
    "    )\n",
    "    logger.info(f\"df_size = {show_df_memory_usage_gb(df=df)}\")\n",
    "    logger.info(f\"read df shape = {df.shape}\")\n",
    "    logger.info(f\"read df timestamps: min={df['timestamp'].min()}; max={df['timestamp'].max()}\")\n",
    "    return df"
   ]
  },
  {
   "cell_type": "code",
   "execution_count": 14,
   "metadata": {
    "id": "EalcBd6gzHmy"
   },
   "outputs": [],
   "source": [
    "part_names = [\n",
    "              'df_sess_part-00000.pickle',\n",
    "                'df_sess_part-00001.pickle',\n",
    "                'df_sess_part-00002.pickle',\n",
    "                'df_sess_part-00003.pickle',\n",
    "                'df_sess_part-00004.pickle',\n",
    "                'df_sess_part-00005.pickle',\n",
    "                'df_sess_part-00006.pickle',\n",
    "                'df_sess_part-00007.pickle',\n",
    "                'df_sess_part-00008.pickle',\n",
    "                'df_sess_part-00009.pickle'\n",
    "                ]"
   ]
  },
  {
   "cell_type": "code",
   "execution_count": 69,
   "metadata": {
    "id": "qN-blE4SDBb3"
   },
   "outputs": [
    {
     "data": {
      "text/plain": [
       "(Timestamp('2020-01-01 00:00:00.077000'),\n",
       " Timestamp('2020-09-30 22:41:48.848000'))"
      ]
     },
     "execution_count": 69,
     "metadata": {},
     "output_type": "execute_result"
    }
   ],
   "source": [
    "df = get_train_data(part_names=part_names)"
   ]
  },
  {
   "cell_type": "markdown",
   "metadata": {
    "id": "BDGYBP9bl12i"
   },
   "source": [
    "### Train target"
   ]
  },
  {
   "cell_type": "code",
   "execution_count": 15,
   "metadata": {},
   "outputs": [],
   "source": [
    "def get_target_data() -> pd.DataFrame:\n",
    "    df_target = pd.read_csv(\n",
    "        os.path.join(TEST_DATA_PATH, \"abattle_train_target.csv\")\n",
    "        )\n",
    "    logger.info(f\"target df shape = {df_target.shape}\")\n",
    "    return df_target"
   ]
  },
  {
   "cell_type": "code",
   "execution_count": null,
   "metadata": {},
   "outputs": [],
   "source": [
    "df_target = get_target_data()"
   ]
  },
  {
   "cell_type": "markdown",
   "metadata": {
    "id": "e-ITVDKNpMNz"
   },
   "source": [
    "### Join"
   ]
  },
  {
   "cell_type": "code",
   "execution_count": 18,
   "metadata": {},
   "outputs": [],
   "source": [
    "def prepare_train_df(df: pd.DataFrame, df_target: pd.DataFrame) -> pd.DataFrame:\n",
    "    df = pd.merge(\n",
    "        df,\n",
    "        df_target[['session_id', 'multi_class_target']], how='left', on='session_id'\n",
    "    ).reset_index(drop=True)\n",
    "    df = df.sort_values(by=['client', 'timestamp']).reset_index(drop=True)\n",
    "    logger.info(f\"df shape after merge = {df.shape}\")\n",
    "    return df"
   ]
  },
  {
   "cell_type": "code",
   "execution_count": null,
   "metadata": {},
   "outputs": [],
   "source": [
    "df = prepare_train_df(df, df_target)"
   ]
  },
  {
   "cell_type": "code",
   "execution_count": 77,
   "metadata": {
    "colab": {
     "base_uri": "https://localhost:8080/"
    },
    "id": "LYox1ldgwhJi",
    "outputId": "d4a2b45d-75e4-4834-c6b6-8d87b736b17e"
   },
   "outputs": [
    {
     "data": {
      "text/plain": [
       "0"
      ]
     },
     "execution_count": 77,
     "metadata": {},
     "output_type": "execute_result"
    }
   ],
   "source": [
    "del df_target\n",
    "# gc.collect()"
   ]
  },
  {
   "cell_type": "markdown",
   "metadata": {
    "id": "cJAFYRnTtY9W"
   },
   "source": [
    "## Get label encoders"
   ]
  },
  {
   "cell_type": "code",
   "execution_count": 17,
   "metadata": {},
   "outputs": [],
   "source": [
    "def get_label_encoders() -> T.Tuple[T.Any, T.Any]:\n",
    "    label_encoders = load_pickle(\n",
    "        os.path.join(\n",
    "            MAPPERS_PATH, \"label_encoders_from_pop_vals_50k.pickle\"\n",
    "            )\n",
    "        )\n",
    "    combined_label_encoders = load_pickle(\n",
    "        os.path.join(\n",
    "            MAPPERS_PATH, \"label_encoders_from_combi_pop_vals_mappers_25k.pickle\"\n",
    "            )\n",
    "        )\n",
    "    return label_encoders, combined_label_encoders"
   ]
  },
  {
   "cell_type": "code",
   "execution_count": 78,
   "metadata": {
    "id": "kgbqGcH4tboo"
   },
   "outputs": [],
   "source": [
    "label_encoders, combined_label_encoders = get_label_encoders()"
   ]
  },
  {
   "cell_type": "markdown",
   "metadata": {
    "id": "KFYMJktZqMIv"
   },
   "source": [
    "# Preprocessing"
   ]
  },
  {
   "cell_type": "markdown",
   "metadata": {
    "id": "W2fdOTI4EEjc"
   },
   "source": [
    "## Label encode"
   ]
  },
  {
   "cell_type": "code",
   "execution_count": 20,
   "metadata": {},
   "outputs": [],
   "source": [
    "def df_label_encode(\n",
    "    df: pd.DataFrame, label_encoders: T.Any, combined_label_encoders: T.Any\n",
    "    ) -> pd.DataFrame:\n",
    "    df['multi_class_target'] = df['multi_class_target'].fillna('null')\n",
    "\n",
    "    df['net'] = combined_label_encoders['net'].transform(df['net'])\n",
    "    df['multi_class_target'] = label_encoders['multi_class_target'].transform(df['multi_class_target'])\n",
    "\n",
    "    df['event_type'] = label_encode_arrs(\n",
    "        series=df['event_type'], le=label_encoders['event_type']\n",
    "        )\n",
    "    df['event_category'] = label_encode_arrs(\n",
    "        series=df['event_category'], le=label_encoders['event_category']\n",
    "        )\n",
    "    df['device_screen_name'] = label_encode_arrs(\n",
    "        series=df['device_screen_name'], le=label_encoders['device_screen_name']\n",
    "        )\n",
    "    logger.info(f\"df shape after label encode = {df.shape}\")\n",
    "    return df"
   ]
  },
  {
   "cell_type": "code",
   "execution_count": null,
   "metadata": {},
   "outputs": [],
   "source": [
    "%%time\n",
    "df = df_label_encode(df, label_encoders, combined_label_encoders)"
   ]
  },
  {
   "cell_type": "markdown",
   "metadata": {
    "id": "Vh1vW2f0qOwO"
   },
   "source": [
    "## Stage 1"
   ]
  },
  {
   "cell_type": "markdown",
   "metadata": {
    "id": "y5fpZeTaqRe_"
   },
   "source": [
    "### Time features"
   ]
  },
  {
   "cell_type": "code",
   "execution_count": 21,
   "metadata": {},
   "outputs": [],
   "source": [
    "def create_time_diff_seq(df: pd.DataFrame) -> pd.DataFrame:\n",
    "    min_td = 0.0\n",
    "    max_td = 5.0369526024136295\n",
    "    df_grp = df.groupby('client')\n",
    "    df['time_diff_hours'] = [\n",
    "                            el for uid, data in df_grp\n",
    "                            for el in (\n",
    "                                data['timestamp'] - data['timestamp'].shift(1)\n",
    "                                ).astype('timedelta64[h]').values\n",
    "                            ]\n",
    "    \n",
    "    df['time_diff_hours'] = df['time_diff_hours'].clip(0.0, 153.0)\n",
    "    df['time_diff_hours'] = np.log1p(df['time_diff_hours'])\n",
    "    df['time_diff_hours'] = (df['time_diff_hours'] - min_td)/(max_td - min_td)\n",
    "    df['time_diff_hours'] = df['time_diff_hours'] + 0.1\n",
    "    df['time_diff_hours'] = df['time_diff_hours'].fillna(0)\n",
    "\n",
    "    df['prev_time_diffs'] = [\n",
    "                         list(x.time_diff_hours[max(i-59, 0):i+1].values)\n",
    "                         for j, x in df.groupby('client')\n",
    "                            for i in range(len(x))\n",
    "                        ]\n",
    "    del df_grp\n",
    "    df['time_diff_hours'].hist(bins=100)\n",
    "    plt.title(\"time_diff_hours\")\n",
    "    plt.show()\n",
    "    logger.info(f\"df shape after time diff seq creation = {df.shape}\")\n",
    "    return df"
   ]
  },
  {
   "cell_type": "code",
   "execution_count": 22,
   "metadata": {},
   "outputs": [],
   "source": [
    "def create_sess_length_seq(df: pd.DataFrame) -> pd.DataFrame:\n",
    "    min_td = 1.0986122886681096\n",
    "    max_td = 6.661854740545311\n",
    "\n",
    "    df['sess_length_seconds'] = df['sess_length_seconds'].clip(2.0, 781.0)\n",
    "    df['sess_length_seconds'] = np.log1p(df['sess_length_seconds'])\n",
    "    df['sess_length_seconds'] = (df['sess_length_seconds'] - min_td)/(max_td-min_td)\n",
    "    df['sess_length_seconds'] = df['sess_length_seconds'] + 0.1\n",
    "    df['sess_length_seconds'] = df['sess_length_seconds'].fillna(0)\n",
    "\n",
    "    df_grp = df.groupby('client')\n",
    "    df['prev_sess_length_seconds'] = [list(x.sess_length_seconds[max(i-60, 0):i].values) for j, x in df_grp\n",
    "                                            for i in range(len(x))]\n",
    "\n",
    "    df['sess_length_seconds'].hist(bins=100)\n",
    "    plt.title(\"sess_length_seconds\")\n",
    "    plt.show()\n",
    "    logger.info(f\"df shape after sess length seq creation = {df.shape}\")\n",
    "    del df_grp\n",
    "    return df"
   ]
  },
  {
   "cell_type": "code",
   "execution_count": 23,
   "metadata": {},
   "outputs": [],
   "source": [
    "def get_time_seq(df: pd.DataFrame) -> pd.DataFrame:\n",
    "    df = create_time_diff_seq(df)\n",
    "    df = create_sess_length_seq(df)\n",
    "    return df"
   ]
  },
  {
   "cell_type": "code",
   "execution_count": 24,
   "metadata": {},
   "outputs": [
    {
     "output_type": "error",
     "ename": "NameError",
     "evalue": "name 'df' is not defined",
     "traceback": [
      "\u001b[0;31m---------------------------------------------------------------------------\u001b[0m",
      "\u001b[0;31mNameError\u001b[0m                                 Traceback (most recent call last)",
      "\u001b[0;32m<timed exec>\u001b[0m in \u001b[0;36m<module>\u001b[0;34m\u001b[0m\n",
      "\u001b[0;31mNameError\u001b[0m: name 'df' is not defined"
     ]
    }
   ],
   "source": [
    "%%time\n",
    "df = get_time_seq(df)"
   ]
  },
  {
   "cell_type": "markdown",
   "metadata": {
    "id": "8TAl4zrj7Vv1"
   },
   "source": [
    "### Text"
   ]
  },
  {
   "cell_type": "code",
   "execution_count": 25,
   "metadata": {},
   "outputs": [],
   "source": [
    "def get_text_seq(df: pd.DataFrame, length: T.Optional[int] = 60) -> pd.DataFrame:\n",
    "    df['prev_target'] = get_text_array(\n",
    "        df=df, grp_col='client', txt_col='multi_class_target', length=length\n",
    "        )\n",
    "    logger.info(f\"df shape after target seq creation = {df.shape}\")\n",
    "    \n",
    "    df['prev_net'] = get_text_array(\n",
    "        df=df, grp_col='client', txt_col='net', length=length\n",
    "        )\n",
    "    logger.info(f\"df shape after net seq creation = {df.shape}\")\n",
    "    return df"
   ]
  },
  {
   "cell_type": "code",
   "execution_count": null,
   "metadata": {},
   "outputs": [],
   "source": [
    "%%time\n",
    "df = get_text_seq(df, length=60)"
   ]
  },
  {
   "cell_type": "markdown",
   "metadata": {
    "id": "AamYhwVPwJvW"
   },
   "source": [
    "## List features"
   ]
  },
  {
   "cell_type": "code",
   "execution_count": 26,
   "metadata": {},
   "outputs": [],
   "source": [
    "def get_list_seq(df: pd.DataFrame, length: T.Optional[int] = 60) -> pd.DataFrame:\n",
    "    df_grp = df.groupby('client')\n",
    "    df['prev_event_type_seq'] = [x.event_type[max(i-length, 0):i].tolist() for j, x in df_grp\n",
    "                                          for i in range(len(x))]\n",
    "    logger.info(f\"df shape after event_type seq creation = {df.shape}\")\n",
    "    \n",
    "    df['prev_event_category_seq'] = [x.event_category[max(i-length, 0):i].tolist() for j, x in df_grp\n",
    "                                          for i in range(len(x))]\n",
    "    logger.info(f\"df shape after event_category seq creation = {df.shape}\")\n",
    "    \n",
    "    df['prev_event_device_screen_name_seq'] = [x.device_screen_name[max(i-length, 0):i].tolist() for j, x in df_grp\n",
    "                                          for i in range(len(x))]\n",
    "    logger.info(f\"df shape after screens seq creation = {df.shape}\")\n",
    "\n",
    "    del df_grp\n",
    "    return df"
   ]
  },
  {
   "cell_type": "code",
   "execution_count": null,
   "metadata": {},
   "outputs": [],
   "source": [
    "%%time\n",
    "df = get_list_seq(df, length=60)"
   ]
  },
  {
   "cell_type": "markdown",
   "metadata": {
    "id": "tbV8cqjr7Vv8"
   },
   "source": [
    "## Filter"
   ]
  },
  {
   "cell_type": "code",
   "execution_count": 27,
   "metadata": {},
   "outputs": [],
   "source": [
    "def filter_df_with_target(df: pd.DataFrame) -> pd.DataFrame:\n",
    "    null_label = label_encoders['multi_class_target'].transform(['null'])[0]\n",
    "    logger.info(f\"null_label = {null_label}\")\n",
    "    dfs = df[(df['multi_class_target'] != null_label)].reset_index(drop=True)\n",
    "    logger.info(f\"df shape after FILTER = {dfs.shape}\")\n",
    "    logger.info(f\"df_size after FILTER = {show_df_memory_usage_gb(df=dfs)}\")\n",
    "\n",
    "    del df\n",
    "    return dfs"
   ]
  },
  {
   "cell_type": "code",
   "execution_count": 155,
   "metadata": {
    "id": "2baqTEewzgp_"
   },
   "outputs": [],
   "source": [
    "%%time\n",
    "df = filter_df_with_target(df)"
   ]
  },
  {
   "cell_type": "code",
   "execution_count": 157,
   "metadata": {
    "colab": {
     "base_uri": "https://localhost:8080/"
    },
    "id": "_QuGBWvcrSfY",
    "outputId": "7536a671-4c7a-4ebb-8e46-dfcbb403eb36"
   },
   "outputs": [
    {
     "name": "stdout",
     "output_type": "stream",
     "text": [
      "RAM memory usage: 19.936 Gb\n"
     ]
    }
   ],
   "source": [
    "gc.collect()\n"
   ]
  },
  {
   "cell_type": "markdown",
   "metadata": {
    "id": "YcVou5Gx7Vv9"
   },
   "source": [
    "# Stage 2"
   ]
  },
  {
   "cell_type": "markdown",
   "metadata": {
    "id": "wo_dQwrn7Vv9"
   },
   "source": [
    "## Numbers (times) padding"
   ]
  },
  {
   "cell_type": "code",
   "execution_count": null,
   "metadata": {},
   "outputs": [],
   "source": [
    "def time_padding(df: pd.DataFrame, length: T.Optional[int] = 60) -> pd.DataFrame:\n",
    "    df['prev_time_diffs_token'] = df['prev_time_diffs'].progress_apply(lambda arr: [0.]*(length-len(arr))+arr[-length:])\n",
    "    df['prev_sess_length_seconds_token'] = df['prev_sess_length_seconds'].progress_apply(lambda arr: [0.]*(length-len(arr))+arr[-length:])\n",
    "    df.drop(['prev_time_diffs', 'prev_sess_length_seconds'], axis=1, inplace=True)\n",
    "\n",
    "    logger.info(f\"df shape after time padding = {df.shape}\")\n",
    "    return df"
   ]
  },
  {
   "cell_type": "code",
   "execution_count": null,
   "metadata": {},
   "outputs": [],
   "source": [
    "%%time\n",
    "df = time_padding(df, length=60)"
   ]
  },
  {
   "cell_type": "markdown",
   "metadata": {
    "id": "ynPOIm_y7Vv-"
   },
   "source": [
    "## Texts padding"
   ]
  },
  {
   "cell_type": "code",
   "execution_count": null,
   "metadata": {},
   "outputs": [],
   "source": [
    "def text_padding(df: pd.DataFrame, length: T.Optional[int] = 60) -> pd.DataFrame:\n",
    "    df['prev_target_token'] = list(pad_sequences(\n",
    "                df['prev_target'],\n",
    "                maxlen=length,\n",
    "                padding='pre'\n",
    "            ))\n",
    "    df['prev_net_token'] = list(pad_sequences(\n",
    "                    df['prev_net'],\n",
    "                    maxlen=length,\n",
    "                    padding='pre'\n",
    "                ))\n",
    "    df.drop(['prev_target', 'prev_net'], axis=1, inplace=True)\n",
    "    \n",
    "    logger.info(f\"df shape after text padding = {df.shape}\")\n",
    "    return df"
   ]
  },
  {
   "cell_type": "code",
   "execution_count": 161,
   "metadata": {
    "id": "6AxSCKtE7Vv_"
   },
   "outputs": [
    {
     "name": "stdout",
     "output_type": "stream",
     "text": [
      "CPU times: user 3min 35s, sys: 3min 2s, total: 6min 37s\n",
      "Wall time: 6min 35s\n"
     ]
    }
   ],
   "source": [
    "%%time\n",
    "df = text_padding(df, length=60)"
   ]
  },
  {
   "cell_type": "markdown",
   "metadata": {
    "id": "0zynCHp37Vv_"
   },
   "source": [
    "## Arrays padding"
   ]
  },
  {
   "cell_type": "code",
   "execution_count": 167,
   "metadata": {
    "id": "VWchcBri7VwA"
   },
   "outputs": [],
   "source": [
    "def get_encoded_row(\n",
    "    row: list,\n",
    "    maxsess: int,\n",
    "    maxlen: int,\n",
    "    padding: str\n",
    "):\n",
    "    sessions = []\n",
    "    if len(row[:maxsess]) < maxsess:\n",
    "        for _ in range(maxsess - len(row[:maxsess])):\n",
    "            sessions.append(np.zeros(maxlen))\n",
    "    for sess in row[:maxsess]:\n",
    "        sessions.append(sess+1)\n",
    "    return pad_sequences(\n",
    "                sessions,\n",
    "                maxlen=maxlen,\n",
    "                padding=padding\n",
    "            )"
   ]
  },
  {
   "cell_type": "code",
   "execution_count": 168,
   "metadata": {
    "id": "1uQfx7em7VwA"
   },
   "outputs": [],
   "source": [
    "def encode_arrays(series: pd.Series):\n",
    "    out = series.progress_apply(\n",
    "        lambda row: get_encoded_row(\n",
    "            row=row, maxsess=60, maxlen=10, padding='post'\n",
    "            )\n",
    "        )\n",
    "    return out\n"
   ]
  },
  {
   "cell_type": "code",
   "execution_count": null,
   "metadata": {},
   "outputs": [],
   "source": [
    "def list_padding(df: pd.DataFrame, length: T.Optional[int] = 60) -> pd.DataFrame:\n",
    "    df['prev_event_type_seq_token'] = encode_arrays(\n",
    "        series=df['prev_event_type_seq']\n",
    "        )\n",
    "    df['prev_event_category_seq_token'] = encode_arrays(\n",
    "        series=df['prev_event_category_seq']\n",
    "        )\n",
    "    df['prev_event_device_screen_name_seq_token'] = encode_arrays(\n",
    "        series=df['prev_event_device_screen_name_seq']\n",
    "        )\n",
    "    df.drop(['prev_event_type_seq', 'prev_event_category_seq', 'prev_event_device_screen_name_seq'], axis=1, inplace=True)\n",
    "    return df"
   ]
  },
  {
   "cell_type": "code",
   "execution_count": null,
   "metadata": {},
   "outputs": [],
   "source": [
    "%%time\n",
    "df = list_padding(df, length=60)"
   ]
  },
  {
   "source": [
    "gc.collect()"
   ],
   "cell_type": "markdown",
   "metadata": {
    "colab": {
     "base_uri": "https://localhost:8080/"
    },
    "id": "mlsILhql0pjP",
    "outputId": "28a31496-af5e-422a-92b5-d5a6ed565a9c"
   }
  },
  {
   "source": [
    "## Combine getting train data"
   ],
   "cell_type": "markdown",
   "metadata": {}
  },
  {
   "cell_type": "code",
   "execution_count": 28,
   "metadata": {},
   "outputs": [],
   "source": [
    "def get_train_prep_pipeline(part_names: T.List[str], length: T.Optional[int] = 60) -> pd.DataFrame:\n",
    "    df = get_train_data(part_names=part_names)\n",
    "    df_target = get_target_data()\n",
    "\n",
    "    df = prepare_train_df(df, df_target)\n",
    "    label_encoders, combined_label_encoders = get_label_encoders()\n",
    "    df = df_label_encode(df, label_encoders, combined_label_encoders)\n",
    "\n",
    "    df = get_time_seq(df)\n",
    "    df = get_text_seq(df, length=60)\n",
    "    df = get_list_seq(df, length=60)\n",
    "    df = filter_df_with_target(df)\n",
    "    logger.info(f\"gc.collect() = {gc.collect()}\")\n",
    "\n",
    "    df = time_padding(df, length=60)\n",
    "    df = text_padding(df, length=60)\n",
    "    df = list_padding(df, length=60)\n",
    "    logger.info(f\"gc.collect() = {gc.collect()}\")\n",
    "    return df, label_encoders, combined_label_encoders"
   ]
  },
  {
   "cell_type": "code",
   "execution_count": null,
   "metadata": {},
   "outputs": [],
   "source": [
    "# %%time\n",
    "# df, label_encoders, combined_label_encoders = get_train_prep_pipeline(part_names, length=60)"
   ]
  },
  {
   "cell_type": "code",
   "execution_count": null,
   "metadata": {},
   "outputs": [],
   "source": []
  },
  {
   "cell_type": "markdown",
   "metadata": {},
   "source": [
    "# Create test data"
   ]
  },
  {
   "cell_type": "markdown",
   "metadata": {},
   "source": [
    "## Get test data"
   ]
  },
  {
   "cell_type": "code",
   "execution_count": null,
   "metadata": {},
   "outputs": [],
   "source": [
    "def get_test_data() -> T.Tuple[pd.DataFrame, pd.DataFrame]:\n",
    "    df_test = pd.read_csv(os.path.join(\n",
    "    TEST_DATA_PATH, 'prediction_session_timestamp.csv'\n",
    "    ))\n",
    "\n",
    "    df_test_target = pd.read_csv(os.path.join(\n",
    "        TEST_DATA_PATH, 'abattle_test_target_both_private_and_public.csv'\n",
    "        ))\n",
    "\n",
    "    df_test.columns = ['client', 'current_timestamp']\n",
    "    df_test_target.columns = ['client', 'target']\n",
    "    df_test['current_timestamp'] = pd.to_datetime(df_test['current_timestamp'])\n",
    "    \n",
    "    logger.info(f\"Test datasets' shapes: {df_test.shape}, {df_test_target.shape}\")\n",
    "    return df_test, df_test_target"
   ]
  },
  {
   "cell_type": "code",
   "execution_count": null,
   "metadata": {},
   "outputs": [],
   "source": [
    "df_test, df_test_target = get_test_data()"
   ]
  },
  {
   "cell_type": "markdown",
   "metadata": {},
   "source": [
    "## Join"
   ]
  },
  {
   "cell_type": "code",
   "execution_count": 2,
   "metadata": {},
   "outputs": [],
   "source": [
    "def join_dataframes(\n",
    "    df: pd.DataFrame, df_test: pd.DataFrame, df_test_target: pd.DataFrame\n",
    "    ) -> pd.DataFrame:\n",
    "    df = df.sort_values(by=['client', 'timestamp']).reset_index(drop=True)\n",
    "    df_last = df.groupby('client').tail(1).reset_index(drop=True)\n",
    "\n",
    "    logger.info(f\"df_last shape before join: {df_last.shape}\")\n",
    "    logger.info(f\"test clients - train clients = {len(set(df_test['client']) - set(df_last['client']))}\")\n",
    "    \n",
    "    df_last = pd.merge(\n",
    "        df_test,\n",
    "        df_last[['client', 'timestamp', 'sess_length_seconds',\n",
    "            'event_type', 'event_category', 'net',\n",
    "            'device_screen_name', 'multi_class_target',\n",
    "            'prev_time_diffs_token', 'prev_sess_length_seconds_token',\n",
    "            'prev_target_token', 'prev_net_token',\n",
    "            'prev_event_type_seq_token', 'prev_event_category_seq_token',\n",
    "            'prev_event_device_screen_name_seq_token'\n",
    "            ]],\n",
    "        on='client',\n",
    "        how='inner'\n",
    "        ).reset_index(drop=True)\n",
    "\n",
    "    df_last = pd.merge(\n",
    "        df_last, df_test_target, on='client', how='inner'\n",
    "        ).reset_index(drop=True)\n",
    "\n",
    "    logger.info(f\"df_last shape after join: {df_last.shape}\")\n",
    "\n",
    "    return df_last"
   ]
  },
  {
   "cell_type": "code",
   "execution_count": null,
   "metadata": {},
   "outputs": [],
   "source": [
    "df_last = join_dataframes(df, df_test, df_test_target)"
   ]
  },
  {
   "cell_type": "markdown",
   "metadata": {},
   "source": [
    "## preproc"
   ]
  },
  {
   "cell_type": "code",
   "execution_count": null,
   "metadata": {},
   "outputs": [],
   "source": [
    "def get_new_seq(row, col, seq_col):\n",
    "    arr = list(row[col])\n",
    "    # arr = np.array([0]*(10-len(arr)) + arr[-10:]) # pre padding\n",
    "    arr = np.array(arr[:10] + [0]*(10-len(arr))) # post padding\n",
    "    row[seq_col] = np.array(list(row[seq_col][1:]) + [arr])\n",
    "    return row\n",
    "\n",
    "def get_new_row(row):\n",
    "    row['prev_time_diffs_token'] = list(row['prev_time_diffs_token'][1:]) + [row['time_diff']]\n",
    "    row['prev_sess_length_seconds_token'] = list(row['prev_sess_length_seconds_token'][1:]) + [row['sess_length_seconds']]\n",
    "\n",
    "    row['prev_target_token'] = np.array(list(row['prev_target_token'][1:]) + [row['multi_class_target']])\n",
    "    row['prev_net_token'] = np.array(list(row['prev_net_token'][1:]) + [row['net']])\n",
    "\n",
    "    row = get_new_seq(row=row, col='event_type', seq_col='prev_event_type_seq_token')\n",
    "    row = get_new_seq(row=row, col='event_category', seq_col='prev_event_category_seq_token')\n",
    "    row = get_new_seq(row=row, col='device_screen_name', seq_col='prev_event_device_screen_name_seq_token')\n",
    "    \n",
    "    return row"
   ]
  },
  {
   "cell_type": "code",
   "execution_count": null,
   "metadata": {},
   "outputs": [],
   "source": [
    "def prepare_test_data(df_last: pd.DataFrame) -> pd.DataFrame:\n",
    "    # add time diff col\n",
    "    min_td = 0.0\n",
    "    max_td = 5.0369526024136295\n",
    "    df_last['time_diff'] = (df_last['current_timestamp'] - df_last['timestamp']).astype('timedelta64[h]')\n",
    "    df_last['time_diff'] = np.log1p(df_last['time_diff'].clip(0.0, 153.0))\n",
    "    df_last['time_diff'] = (df_last['time_diff'] - min_td)/(max_td - min_td)\n",
    "    df_last['time_diff'] = df_last['time_diff'] + 0.1\n",
    "    df_last['time_diff'] = df_last['time_diff'].fillna(0)\n",
    "\n",
    "    df_last['time_diff'].hist(bins=100)\n",
    "    plt.title(\"test time diff\")\n",
    "    plt.show()\n",
    "\n",
    "    # get new sequence columns\n",
    "    df_prep = df_last.apply(get_new_row, axis=1)[['client', 'current_timestamp',\n",
    "             'prev_time_diffs_token', 'prev_sess_length_seconds_token',\n",
    "            'prev_target_token', 'prev_net_token',\n",
    "            'prev_event_type_seq_token', 'prev_event_category_seq_token',\n",
    "            'prev_event_device_screen_name_seq_token']]\n",
    "    logger.info(f\"df_prep shape after preparing: {df_prep.shape}\")\n",
    "    return df_prep\n"
   ]
  },
  {
   "cell_type": "code",
   "execution_count": null,
   "metadata": {},
   "outputs": [],
   "source": [
    "%%time\n",
    "df_test_prep = prepare_test_data(df_last)"
   ]
  },
  {
   "source": [
    "## Combine in pipeline"
   ],
   "cell_type": "markdown",
   "metadata": {}
  },
  {
   "cell_type": "code",
   "execution_count": null,
   "metadata": {},
   "outputs": [],
   "source": [
    "def get_test_prep_pipeline(df: pd.DataFrame) -> pd.DataFrame:\n",
    "    df_test, df_test_target = get_test_data()\n",
    "    df_last = join_dataframes(df, df_test, df_test_target)\n",
    "    df_test_prep = prepare_test_data(df_last)\n",
    "    return df_test_prep"
   ]
  },
  {
   "cell_type": "code",
   "execution_count": null,
   "metadata": {},
   "outputs": [],
   "source": [
    "# %%time\n",
    "# df_test_prep = get_test_prep_pipeline(df)"
   ]
  },
  {
   "cell_type": "markdown",
   "metadata": {
    "id": "WO142LLV7VwC"
   },
   "source": [
    "# Save"
   ]
  },
  {
   "cell_type": "code",
   "execution_count": 242,
   "metadata": {},
   "outputs": [],
   "source": [
    "SAVE_DATA_PATH = os.path.join(PREPROCESSED_DATA_PATH, \"sequence\")\n",
    "SAVE_TEST_DATA_PATH = os.path.join(SAVE_DATA_PATH, \"test\")\n",
    "SAVE_TRAIN_DATA_PATH = os.path.join(SAVE_DATA_PATH, \"train\")"
   ]
  },
  {
   "cell_type": "markdown",
   "metadata": {},
   "source": [
    "## Save test"
   ]
  },
  {
   "cell_type": "code",
   "execution_count": 243,
   "metadata": {},
   "outputs": [],
   "source": [
    "save_pickle(df_test_prep, os.path.join(SAVE_TEST_DATA_PATH, 'df_test.pickle'))"
   ]
  },
  {
   "cell_type": "markdown",
   "metadata": {},
   "source": [
    "## Save train"
   ]
  },
  {
   "cell_type": "code",
   "execution_count": 247,
   "metadata": {
    "id": "HULkav9r7VwD"
   },
   "outputs": [],
   "source": [
    "cols = ['session_id', 'timestamp', 'client',\n",
    "       'multi_class_target', 'prev_time_diffs_token',\n",
    "       'prev_sess_length_seconds_token', 'prev_target_token', 'prev_net_token',\n",
    "       'prev_event_type_seq_token', 'prev_event_category_seq_token',\n",
    "       'prev_event_device_screen_name_seq_token']\n"
   ]
  },
  {
   "cell_type": "code",
   "execution_count": 250,
   "metadata": {
    "id": "XinNIA6i7VwE"
   },
   "outputs": [],
   "source": [
    "df_april = df[(df['timestamp'] < '2020-04-01')].reset_index(drop=True)[cols]\n",
    "df_july = df[(df['timestamp'] < '2020-07-01') & (df['timestamp'] >= '2020-04-01')].reset_index(drop=True)[cols]\n",
    "df_sep = df[(df['timestamp'] >= '2020-07-01')].reset_index(drop=True)[cols]\n"
   ]
  },
  {
   "cell_type": "code",
   "execution_count": 251,
   "metadata": {
    "colab": {
     "base_uri": "https://localhost:8080/"
    },
    "id": "wRP3iKoh7VwF",
    "outputId": "a25b1c67-d2e7-4d87-d0cc-4ab6e8a1c1ac"
   },
   "outputs": [
    {
     "data": {
      "text/plain": [
       "((1751913, 11), (1868024, 11), (1445413, 11))"
      ]
     },
     "execution_count": 251,
     "metadata": {},
     "output_type": "execute_result"
    }
   ],
   "source": [
    "df_april.shape, df_july.shape, df_sep.shape"
   ]
  },
  {
   "cell_type": "code",
   "execution_count": 252,
   "metadata": {},
   "outputs": [
    {
     "name": "stdout",
     "output_type": "stream",
     "text": [
      "RAM memory usage: 15.6889 Gb\n"
     ]
    }
   ],
   "source": [
    "show_df_memory_usage_gb(df=df_july)\n",
    "\n"
   ]
  },
  {
   "cell_type": "code",
   "execution_count": 254,
   "metadata": {},
   "outputs": [
    {
     "data": {
      "text/plain": [
       "27675"
      ]
     },
     "execution_count": 254,
     "metadata": {},
     "output_type": "execute_result"
    }
   ],
   "source": [
    "gc.collect()"
   ]
  },
  {
   "cell_type": "code",
   "execution_count": 256,
   "metadata": {
    "id": "fCuYGSW47VwG"
   },
   "outputs": [
    {
     "name": "stdout",
     "output_type": "stream",
     "text": [
      "CPU times: user 12min 40s, sys: 4min 32s, total: 17min 12s\n",
      "Wall time: 17min 10s\n"
     ]
    }
   ],
   "source": [
    "%%time\n",
    "save_pickle(df_sep, os.path.join(SAVE_TRAIN_DATA_PATH, 'preprocessed_df_sep.pickle'))"
   ]
  },
  {
   "cell_type": "code",
   "execution_count": 257,
   "metadata": {},
   "outputs": [
    {
     "name": "stdout",
     "output_type": "stream",
     "text": [
      "CPU times: user 16min 35s, sys: 6min 11s, total: 22min 47s\n",
      "Wall time: 22min 44s\n"
     ]
    }
   ],
   "source": [
    "%%time\n",
    "save_pickle(df_july, os.path.join(SAVE_TRAIN_DATA_PATH, 'preprocessed_df_july.pickle'))"
   ]
  },
  {
   "cell_type": "code",
   "execution_count": 258,
   "metadata": {},
   "outputs": [
    {
     "name": "stdout",
     "output_type": "stream",
     "text": [
      "CPU times: user 10min 27s, sys: 3min 15s, total: 13min 43s\n",
      "Wall time: 13min 38s\n"
     ]
    }
   ],
   "source": [
    "%%time\n",
    "save_pickle(df_april, os.path.join(SAVE_TRAIN_DATA_PATH, 'preprocessed_df_april.pickle'))"
   ]
  }
 ],
 "metadata": {
  "colab": {
   "collapsed_sections": [
    "hGT1EjUT7Vvq",
    "BDGYBP9bl12i",
    "e-ITVDKNpMNz",
    "y5fpZeTaqRe_",
    "gfrOZ0ah7Vvw",
    "E-l6UeyG7Vvz",
    "gbV5P0ml7Vv1",
    "8TAl4zrj7Vv1",
    "ENp-TqOovyw4"
   ],
   "machine_shape": "hm",
   "name": "preprocessing_train_le_first.ipynb",
   "provenance": []
  },
  "kernelspec": {
   "name": "python3",
   "display_name": "Python 3.8.2 64-bit ('venv')",
   "metadata": {
    "interpreter": {
     "hash": "3bf227522ac80d738e422238f269df8db00ca2633f88abd2ac1c227bc85f4332"
    }
   }
  },
  "language_info": {
   "codemirror_mode": {
    "name": "ipython",
    "version": 3
   },
   "file_extension": ".py",
   "mimetype": "text/x-python",
   "name": "python",
   "nbconvert_exporter": "python",
   "pygments_lexer": "ipython3",
   "version": "3.8.2-final"
  },
  "widgets": {
   "application/vnd.jupyter.widget-state+json": {
    "01fad400269842b2b67f1542097dce75": {
     "model_module": "@jupyter-widgets/controls",
     "model_name": "HTMLModel",
     "state": {
      "_dom_classes": [],
      "_model_module": "@jupyter-widgets/controls",
      "_model_module_version": "1.5.0",
      "_model_name": "HTMLModel",
      "_view_count": null,
      "_view_module": "@jupyter-widgets/controls",
      "_view_module_version": "1.5.0",
      "_view_name": "HTMLView",
      "description": "",
      "description_tooltip": null,
      "layout": "IPY_MODEL_4e3d287682064c70a45c3c2689f90399",
      "placeholder": "​",
      "style": "IPY_MODEL_c8160833b48644f58e20e10894eab057",
      "value": " 482861/482861 [04:55&lt;00:00, 1633.30it/s]"
     }
    },
    "04ffbed479924635b591ac3b7503b769": {
     "model_module": "@jupyter-widgets/base",
     "model_name": "LayoutModel",
     "state": {
      "_model_module": "@jupyter-widgets/base",
      "_model_module_version": "1.2.0",
      "_model_name": "LayoutModel",
      "_view_count": null,
      "_view_module": "@jupyter-widgets/base",
      "_view_module_version": "1.2.0",
      "_view_name": "LayoutView",
      "align_content": null,
      "align_items": null,
      "align_self": null,
      "border": null,
      "bottom": null,
      "display": null,
      "flex": null,
      "flex_flow": null,
      "grid_area": null,
      "grid_auto_columns": null,
      "grid_auto_flow": null,
      "grid_auto_rows": null,
      "grid_column": null,
      "grid_gap": null,
      "grid_row": null,
      "grid_template_areas": null,
      "grid_template_columns": null,
      "grid_template_rows": null,
      "height": null,
      "justify_content": null,
      "justify_items": null,
      "left": null,
      "margin": null,
      "max_height": null,
      "max_width": null,
      "min_height": null,
      "min_width": null,
      "object_fit": null,
      "object_position": null,
      "order": null,
      "overflow": null,
      "overflow_x": null,
      "overflow_y": null,
      "padding": null,
      "right": null,
      "top": null,
      "visibility": null,
      "width": null
     }
    },
    "06691f12429643529e9929161e823bb4": {
     "model_module": "@jupyter-widgets/controls",
     "model_name": "HBoxModel",
     "state": {
      "_dom_classes": [],
      "_model_module": "@jupyter-widgets/controls",
      "_model_module_version": "1.5.0",
      "_model_name": "HBoxModel",
      "_view_count": null,
      "_view_module": "@jupyter-widgets/controls",
      "_view_module_version": "1.5.0",
      "_view_name": "HBoxView",
      "box_style": "",
      "children": [
       "IPY_MODEL_1be531950e134f2a876763df44dbd922",
       "IPY_MODEL_27ab6ea7aad541059d0acae2d7d4936d"
      ],
      "layout": "IPY_MODEL_eb9bb014d4614d3d8998e7aa94f9f506"
     }
    },
    "08956c747f28491692b3a41aaaa7ce16": {
     "model_module": "@jupyter-widgets/controls",
     "model_name": "ProgressStyleModel",
     "state": {
      "_model_module": "@jupyter-widgets/controls",
      "_model_module_version": "1.5.0",
      "_model_name": "ProgressStyleModel",
      "_view_count": null,
      "_view_module": "@jupyter-widgets/base",
      "_view_module_version": "1.2.0",
      "_view_name": "StyleView",
      "bar_color": null,
      "description_width": "initial"
     }
    },
    "0f4bb12f28334afa98c4a35899ec0338": {
     "model_module": "@jupyter-widgets/controls",
     "model_name": "DescriptionStyleModel",
     "state": {
      "_model_module": "@jupyter-widgets/controls",
      "_model_module_version": "1.5.0",
      "_model_name": "DescriptionStyleModel",
      "_view_count": null,
      "_view_module": "@jupyter-widgets/base",
      "_view_module_version": "1.2.0",
      "_view_name": "StyleView",
      "description_width": ""
     }
    },
    "14df5f36cca441fdbb236808877620e7": {
     "model_module": "@jupyter-widgets/controls",
     "model_name": "HTMLModel",
     "state": {
      "_dom_classes": [],
      "_model_module": "@jupyter-widgets/controls",
      "_model_module_version": "1.5.0",
      "_model_name": "HTMLModel",
      "_view_count": null,
      "_view_module": "@jupyter-widgets/controls",
      "_view_module_version": "1.5.0",
      "_view_name": "HTMLView",
      "description": "",
      "description_tooltip": null,
      "layout": "IPY_MODEL_fba639edeede4635971dd9950b59e6e2",
      "placeholder": "​",
      "style": "IPY_MODEL_44fb9255d4fb4995a916f5ce05ab08cc",
      "value": " 482861/482861 [11:02&lt;00:00, 728.87it/s]"
     }
    },
    "17c6aa38d33843ce82e0db5350534e95": {
     "model_module": "@jupyter-widgets/controls",
     "model_name": "ProgressStyleModel",
     "state": {
      "_model_module": "@jupyter-widgets/controls",
      "_model_module_version": "1.5.0",
      "_model_name": "ProgressStyleModel",
      "_view_count": null,
      "_view_module": "@jupyter-widgets/base",
      "_view_module_version": "1.2.0",
      "_view_name": "StyleView",
      "bar_color": null,
      "description_width": "initial"
     }
    },
    "1be531950e134f2a876763df44dbd922": {
     "model_module": "@jupyter-widgets/controls",
     "model_name": "FloatProgressModel",
     "state": {
      "_dom_classes": [],
      "_model_module": "@jupyter-widgets/controls",
      "_model_module_version": "1.5.0",
      "_model_name": "FloatProgressModel",
      "_view_count": null,
      "_view_module": "@jupyter-widgets/controls",
      "_view_module_version": "1.5.0",
      "_view_name": "ProgressView",
      "bar_style": "success",
      "description": "100%",
      "description_tooltip": null,
      "layout": "IPY_MODEL_d6fd1b1bd46a43fe9021abc16da41d93",
      "max": 482861,
      "min": 0,
      "orientation": "horizontal",
      "style": "IPY_MODEL_08956c747f28491692b3a41aaaa7ce16",
      "value": 482861
     }
    },
    "27ab6ea7aad541059d0acae2d7d4936d": {
     "model_module": "@jupyter-widgets/controls",
     "model_name": "HTMLModel",
     "state": {
      "_dom_classes": [],
      "_model_module": "@jupyter-widgets/controls",
      "_model_module_version": "1.5.0",
      "_model_name": "HTMLModel",
      "_view_count": null,
      "_view_module": "@jupyter-widgets/controls",
      "_view_module_version": "1.5.0",
      "_view_name": "HTMLView",
      "description": "",
      "description_tooltip": null,
      "layout": "IPY_MODEL_715f964595e447e183929491a059ccf1",
      "placeholder": "​",
      "style": "IPY_MODEL_e323ae1c8712485c8ee098d77369b6e2",
      "value": " 482861/482861 [00:23&lt;00:00, 20550.47it/s]"
     }
    },
    "2a7d1293a14844729931b819a7711487": {
     "model_module": "@jupyter-widgets/controls",
     "model_name": "FloatProgressModel",
     "state": {
      "_dom_classes": [],
      "_model_module": "@jupyter-widgets/controls",
      "_model_module_version": "1.5.0",
      "_model_name": "FloatProgressModel",
      "_view_count": null,
      "_view_module": "@jupyter-widgets/controls",
      "_view_module_version": "1.5.0",
      "_view_name": "ProgressView",
      "bar_style": "success",
      "description": "100%",
      "description_tooltip": null,
      "layout": "IPY_MODEL_71f757fdb15949dd8fa22546018ed10b",
      "max": 482861,
      "min": 0,
      "orientation": "horizontal",
      "style": "IPY_MODEL_9c1dc67b1f0946d6ac2618febaf1b1da",
      "value": 482861
     }
    },
    "2bb6d9a2964f49e0b4d8e33ab9e02553": {
     "model_module": "@jupyter-widgets/controls",
     "model_name": "FloatProgressModel",
     "state": {
      "_dom_classes": [],
      "_model_module": "@jupyter-widgets/controls",
      "_model_module_version": "1.5.0",
      "_model_name": "FloatProgressModel",
      "_view_count": null,
      "_view_module": "@jupyter-widgets/controls",
      "_view_module_version": "1.5.0",
      "_view_name": "ProgressView",
      "bar_style": "success",
      "description": "100%",
      "description_tooltip": null,
      "layout": "IPY_MODEL_394ec5fdb35642a0a70d623b371aed37",
      "max": 482861,
      "min": 0,
      "orientation": "horizontal",
      "style": "IPY_MODEL_ac7cc48608004a7eb278ae5308dd0a22",
      "value": 482861
     }
    },
    "2fc7b468f3ae4a909986f341dcedf1e5": {
     "model_module": "@jupyter-widgets/controls",
     "model_name": "HBoxModel",
     "state": {
      "_dom_classes": [],
      "_model_module": "@jupyter-widgets/controls",
      "_model_module_version": "1.5.0",
      "_model_name": "HBoxModel",
      "_view_count": null,
      "_view_module": "@jupyter-widgets/controls",
      "_view_module_version": "1.5.0",
      "_view_name": "HBoxView",
      "box_style": "",
      "children": [
       "IPY_MODEL_8b44fea36e7e46ef8c7c791a9fd92d80",
       "IPY_MODEL_14df5f36cca441fdbb236808877620e7"
      ],
      "layout": "IPY_MODEL_9455dc5d5c9b419b9da22aeeb77229b4"
     }
    },
    "34cb3e389c1147bebcbbf4e7224ea552": {
     "model_module": "@jupyter-widgets/base",
     "model_name": "LayoutModel",
     "state": {
      "_model_module": "@jupyter-widgets/base",
      "_model_module_version": "1.2.0",
      "_model_name": "LayoutModel",
      "_view_count": null,
      "_view_module": "@jupyter-widgets/base",
      "_view_module_version": "1.2.0",
      "_view_name": "LayoutView",
      "align_content": null,
      "align_items": null,
      "align_self": null,
      "border": null,
      "bottom": null,
      "display": null,
      "flex": null,
      "flex_flow": null,
      "grid_area": null,
      "grid_auto_columns": null,
      "grid_auto_flow": null,
      "grid_auto_rows": null,
      "grid_column": null,
      "grid_gap": null,
      "grid_row": null,
      "grid_template_areas": null,
      "grid_template_columns": null,
      "grid_template_rows": null,
      "height": null,
      "justify_content": null,
      "justify_items": null,
      "left": null,
      "margin": null,
      "max_height": null,
      "max_width": null,
      "min_height": null,
      "min_width": null,
      "object_fit": null,
      "object_position": null,
      "order": null,
      "overflow": null,
      "overflow_x": null,
      "overflow_y": null,
      "padding": null,
      "right": null,
      "top": null,
      "visibility": null,
      "width": null
     }
    },
    "394ec5fdb35642a0a70d623b371aed37": {
     "model_module": "@jupyter-widgets/base",
     "model_name": "LayoutModel",
     "state": {
      "_model_module": "@jupyter-widgets/base",
      "_model_module_version": "1.2.0",
      "_model_name": "LayoutModel",
      "_view_count": null,
      "_view_module": "@jupyter-widgets/base",
      "_view_module_version": "1.2.0",
      "_view_name": "LayoutView",
      "align_content": null,
      "align_items": null,
      "align_self": null,
      "border": null,
      "bottom": null,
      "display": null,
      "flex": null,
      "flex_flow": null,
      "grid_area": null,
      "grid_auto_columns": null,
      "grid_auto_flow": null,
      "grid_auto_rows": null,
      "grid_column": null,
      "grid_gap": null,
      "grid_row": null,
      "grid_template_areas": null,
      "grid_template_columns": null,
      "grid_template_rows": null,
      "height": null,
      "justify_content": null,
      "justify_items": null,
      "left": null,
      "margin": null,
      "max_height": null,
      "max_width": null,
      "min_height": null,
      "min_width": null,
      "object_fit": null,
      "object_position": null,
      "order": null,
      "overflow": null,
      "overflow_x": null,
      "overflow_y": null,
      "padding": null,
      "right": null,
      "top": null,
      "visibility": null,
      "width": null
     }
    },
    "3dc9c65fdc8e407f9b401220c7010d13": {
     "model_module": "@jupyter-widgets/base",
     "model_name": "LayoutModel",
     "state": {
      "_model_module": "@jupyter-widgets/base",
      "_model_module_version": "1.2.0",
      "_model_name": "LayoutModel",
      "_view_count": null,
      "_view_module": "@jupyter-widgets/base",
      "_view_module_version": "1.2.0",
      "_view_name": "LayoutView",
      "align_content": null,
      "align_items": null,
      "align_self": null,
      "border": null,
      "bottom": null,
      "display": null,
      "flex": null,
      "flex_flow": null,
      "grid_area": null,
      "grid_auto_columns": null,
      "grid_auto_flow": null,
      "grid_auto_rows": null,
      "grid_column": null,
      "grid_gap": null,
      "grid_row": null,
      "grid_template_areas": null,
      "grid_template_columns": null,
      "grid_template_rows": null,
      "height": null,
      "justify_content": null,
      "justify_items": null,
      "left": null,
      "margin": null,
      "max_height": null,
      "max_width": null,
      "min_height": null,
      "min_width": null,
      "object_fit": null,
      "object_position": null,
      "order": null,
      "overflow": null,
      "overflow_x": null,
      "overflow_y": null,
      "padding": null,
      "right": null,
      "top": null,
      "visibility": null,
      "width": null
     }
    },
    "44840736902249f3b1070ca3534a61ef": {
     "model_module": "@jupyter-widgets/base",
     "model_name": "LayoutModel",
     "state": {
      "_model_module": "@jupyter-widgets/base",
      "_model_module_version": "1.2.0",
      "_model_name": "LayoutModel",
      "_view_count": null,
      "_view_module": "@jupyter-widgets/base",
      "_view_module_version": "1.2.0",
      "_view_name": "LayoutView",
      "align_content": null,
      "align_items": null,
      "align_self": null,
      "border": null,
      "bottom": null,
      "display": null,
      "flex": null,
      "flex_flow": null,
      "grid_area": null,
      "grid_auto_columns": null,
      "grid_auto_flow": null,
      "grid_auto_rows": null,
      "grid_column": null,
      "grid_gap": null,
      "grid_row": null,
      "grid_template_areas": null,
      "grid_template_columns": null,
      "grid_template_rows": null,
      "height": null,
      "justify_content": null,
      "justify_items": null,
      "left": null,
      "margin": null,
      "max_height": null,
      "max_width": null,
      "min_height": null,
      "min_width": null,
      "object_fit": null,
      "object_position": null,
      "order": null,
      "overflow": null,
      "overflow_x": null,
      "overflow_y": null,
      "padding": null,
      "right": null,
      "top": null,
      "visibility": null,
      "width": null
     }
    },
    "44fb9255d4fb4995a916f5ce05ab08cc": {
     "model_module": "@jupyter-widgets/controls",
     "model_name": "DescriptionStyleModel",
     "state": {
      "_model_module": "@jupyter-widgets/controls",
      "_model_module_version": "1.5.0",
      "_model_name": "DescriptionStyleModel",
      "_view_count": null,
      "_view_module": "@jupyter-widgets/base",
      "_view_module_version": "1.2.0",
      "_view_name": "StyleView",
      "description_width": ""
     }
    },
    "48f30635760044b6a78a4036e63c484c": {
     "model_module": "@jupyter-widgets/controls",
     "model_name": "DescriptionStyleModel",
     "state": {
      "_model_module": "@jupyter-widgets/controls",
      "_model_module_version": "1.5.0",
      "_model_name": "DescriptionStyleModel",
      "_view_count": null,
      "_view_module": "@jupyter-widgets/base",
      "_view_module_version": "1.2.0",
      "_view_name": "StyleView",
      "description_width": ""
     }
    },
    "4e3d287682064c70a45c3c2689f90399": {
     "model_module": "@jupyter-widgets/base",
     "model_name": "LayoutModel",
     "state": {
      "_model_module": "@jupyter-widgets/base",
      "_model_module_version": "1.2.0",
      "_model_name": "LayoutModel",
      "_view_count": null,
      "_view_module": "@jupyter-widgets/base",
      "_view_module_version": "1.2.0",
      "_view_name": "LayoutView",
      "align_content": null,
      "align_items": null,
      "align_self": null,
      "border": null,
      "bottom": null,
      "display": null,
      "flex": null,
      "flex_flow": null,
      "grid_area": null,
      "grid_auto_columns": null,
      "grid_auto_flow": null,
      "grid_auto_rows": null,
      "grid_column": null,
      "grid_gap": null,
      "grid_row": null,
      "grid_template_areas": null,
      "grid_template_columns": null,
      "grid_template_rows": null,
      "height": null,
      "justify_content": null,
      "justify_items": null,
      "left": null,
      "margin": null,
      "max_height": null,
      "max_width": null,
      "min_height": null,
      "min_width": null,
      "object_fit": null,
      "object_position": null,
      "order": null,
      "overflow": null,
      "overflow_x": null,
      "overflow_y": null,
      "padding": null,
      "right": null,
      "top": null,
      "visibility": null,
      "width": null
     }
    },
    "713485e774e44876a1713695ab74f1de": {
     "model_module": "@jupyter-widgets/controls",
     "model_name": "HBoxModel",
     "state": {
      "_dom_classes": [],
      "_model_module": "@jupyter-widgets/controls",
      "_model_module_version": "1.5.0",
      "_model_name": "HBoxModel",
      "_view_count": null,
      "_view_module": "@jupyter-widgets/controls",
      "_view_module_version": "1.5.0",
      "_view_name": "HBoxView",
      "box_style": "",
      "children": [
       "IPY_MODEL_2a7d1293a14844729931b819a7711487",
       "IPY_MODEL_a364ed78bfe545049e4ea8257bdf087e"
      ],
      "layout": "IPY_MODEL_c4f4e25b5b0340babb0c0514e6ac9044"
     }
    },
    "715f964595e447e183929491a059ccf1": {
     "model_module": "@jupyter-widgets/base",
     "model_name": "LayoutModel",
     "state": {
      "_model_module": "@jupyter-widgets/base",
      "_model_module_version": "1.2.0",
      "_model_name": "LayoutModel",
      "_view_count": null,
      "_view_module": "@jupyter-widgets/base",
      "_view_module_version": "1.2.0",
      "_view_name": "LayoutView",
      "align_content": null,
      "align_items": null,
      "align_self": null,
      "border": null,
      "bottom": null,
      "display": null,
      "flex": null,
      "flex_flow": null,
      "grid_area": null,
      "grid_auto_columns": null,
      "grid_auto_flow": null,
      "grid_auto_rows": null,
      "grid_column": null,
      "grid_gap": null,
      "grid_row": null,
      "grid_template_areas": null,
      "grid_template_columns": null,
      "grid_template_rows": null,
      "height": null,
      "justify_content": null,
      "justify_items": null,
      "left": null,
      "margin": null,
      "max_height": null,
      "max_width": null,
      "min_height": null,
      "min_width": null,
      "object_fit": null,
      "object_position": null,
      "order": null,
      "overflow": null,
      "overflow_x": null,
      "overflow_y": null,
      "padding": null,
      "right": null,
      "top": null,
      "visibility": null,
      "width": null
     }
    },
    "71f757fdb15949dd8fa22546018ed10b": {
     "model_module": "@jupyter-widgets/base",
     "model_name": "LayoutModel",
     "state": {
      "_model_module": "@jupyter-widgets/base",
      "_model_module_version": "1.2.0",
      "_model_name": "LayoutModel",
      "_view_count": null,
      "_view_module": "@jupyter-widgets/base",
      "_view_module_version": "1.2.0",
      "_view_name": "LayoutView",
      "align_content": null,
      "align_items": null,
      "align_self": null,
      "border": null,
      "bottom": null,
      "display": null,
      "flex": null,
      "flex_flow": null,
      "grid_area": null,
      "grid_auto_columns": null,
      "grid_auto_flow": null,
      "grid_auto_rows": null,
      "grid_column": null,
      "grid_gap": null,
      "grid_row": null,
      "grid_template_areas": null,
      "grid_template_columns": null,
      "grid_template_rows": null,
      "height": null,
      "justify_content": null,
      "justify_items": null,
      "left": null,
      "margin": null,
      "max_height": null,
      "max_width": null,
      "min_height": null,
      "min_width": null,
      "object_fit": null,
      "object_position": null,
      "order": null,
      "overflow": null,
      "overflow_x": null,
      "overflow_y": null,
      "padding": null,
      "right": null,
      "top": null,
      "visibility": null,
      "width": null
     }
    },
    "7b56d44e9b2146ec98af85cad401e2a0": {
     "model_module": "@jupyter-widgets/controls",
     "model_name": "ProgressStyleModel",
     "state": {
      "_model_module": "@jupyter-widgets/controls",
      "_model_module_version": "1.5.0",
      "_model_name": "ProgressStyleModel",
      "_view_count": null,
      "_view_module": "@jupyter-widgets/base",
      "_view_module_version": "1.2.0",
      "_view_name": "StyleView",
      "bar_color": null,
      "description_width": "initial"
     }
    },
    "807a0d6277854e40bb57ec55601158eb": {
     "model_module": "@jupyter-widgets/controls",
     "model_name": "HTMLModel",
     "state": {
      "_dom_classes": [],
      "_model_module": "@jupyter-widgets/controls",
      "_model_module_version": "1.5.0",
      "_model_name": "HTMLModel",
      "_view_count": null,
      "_view_module": "@jupyter-widgets/controls",
      "_view_module_version": "1.5.0",
      "_view_name": "HTMLView",
      "description": "",
      "description_tooltip": null,
      "layout": "IPY_MODEL_9f93332b5f3a4138b3a0f8c2bc4c4048",
      "placeholder": "​",
      "style": "IPY_MODEL_e157b30cdd9649b19b1e985e233814c5",
      "value": " 482861/482861 [06:58&lt;00:00, 1154.35it/s]"
     }
    },
    "8b44fea36e7e46ef8c7c791a9fd92d80": {
     "model_module": "@jupyter-widgets/controls",
     "model_name": "FloatProgressModel",
     "state": {
      "_dom_classes": [],
      "_model_module": "@jupyter-widgets/controls",
      "_model_module_version": "1.5.0",
      "_model_name": "FloatProgressModel",
      "_view_count": null,
      "_view_module": "@jupyter-widgets/controls",
      "_view_module_version": "1.5.0",
      "_view_name": "ProgressView",
      "bar_style": "success",
      "description": "100%",
      "description_tooltip": null,
      "layout": "IPY_MODEL_04ffbed479924635b591ac3b7503b769",
      "max": 482861,
      "min": 0,
      "orientation": "horizontal",
      "style": "IPY_MODEL_a834d407d4d5454da6c6da2df23e7f45",
      "value": 482861
     }
    },
    "9455dc5d5c9b419b9da22aeeb77229b4": {
     "model_module": "@jupyter-widgets/base",
     "model_name": "LayoutModel",
     "state": {
      "_model_module": "@jupyter-widgets/base",
      "_model_module_version": "1.2.0",
      "_model_name": "LayoutModel",
      "_view_count": null,
      "_view_module": "@jupyter-widgets/base",
      "_view_module_version": "1.2.0",
      "_view_name": "LayoutView",
      "align_content": null,
      "align_items": null,
      "align_self": null,
      "border": null,
      "bottom": null,
      "display": null,
      "flex": null,
      "flex_flow": null,
      "grid_area": null,
      "grid_auto_columns": null,
      "grid_auto_flow": null,
      "grid_auto_rows": null,
      "grid_column": null,
      "grid_gap": null,
      "grid_row": null,
      "grid_template_areas": null,
      "grid_template_columns": null,
      "grid_template_rows": null,
      "height": null,
      "justify_content": null,
      "justify_items": null,
      "left": null,
      "margin": null,
      "max_height": null,
      "max_width": null,
      "min_height": null,
      "min_width": null,
      "object_fit": null,
      "object_position": null,
      "order": null,
      "overflow": null,
      "overflow_x": null,
      "overflow_y": null,
      "padding": null,
      "right": null,
      "top": null,
      "visibility": null,
      "width": null
     }
    },
    "9c1dc67b1f0946d6ac2618febaf1b1da": {
     "model_module": "@jupyter-widgets/controls",
     "model_name": "ProgressStyleModel",
     "state": {
      "_model_module": "@jupyter-widgets/controls",
      "_model_module_version": "1.5.0",
      "_model_name": "ProgressStyleModel",
      "_view_count": null,
      "_view_module": "@jupyter-widgets/base",
      "_view_module_version": "1.2.0",
      "_view_name": "StyleView",
      "bar_color": null,
      "description_width": "initial"
     }
    },
    "9f93332b5f3a4138b3a0f8c2bc4c4048": {
     "model_module": "@jupyter-widgets/base",
     "model_name": "LayoutModel",
     "state": {
      "_model_module": "@jupyter-widgets/base",
      "_model_module_version": "1.2.0",
      "_model_name": "LayoutModel",
      "_view_count": null,
      "_view_module": "@jupyter-widgets/base",
      "_view_module_version": "1.2.0",
      "_view_name": "LayoutView",
      "align_content": null,
      "align_items": null,
      "align_self": null,
      "border": null,
      "bottom": null,
      "display": null,
      "flex": null,
      "flex_flow": null,
      "grid_area": null,
      "grid_auto_columns": null,
      "grid_auto_flow": null,
      "grid_auto_rows": null,
      "grid_column": null,
      "grid_gap": null,
      "grid_row": null,
      "grid_template_areas": null,
      "grid_template_columns": null,
      "grid_template_rows": null,
      "height": null,
      "justify_content": null,
      "justify_items": null,
      "left": null,
      "margin": null,
      "max_height": null,
      "max_width": null,
      "min_height": null,
      "min_width": null,
      "object_fit": null,
      "object_position": null,
      "order": null,
      "overflow": null,
      "overflow_x": null,
      "overflow_y": null,
      "padding": null,
      "right": null,
      "top": null,
      "visibility": null,
      "width": null
     }
    },
    "a2e34c673aa543ba9b809ce5ffa18a43": {
     "model_module": "@jupyter-widgets/base",
     "model_name": "LayoutModel",
     "state": {
      "_model_module": "@jupyter-widgets/base",
      "_model_module_version": "1.2.0",
      "_model_name": "LayoutModel",
      "_view_count": null,
      "_view_module": "@jupyter-widgets/base",
      "_view_module_version": "1.2.0",
      "_view_name": "LayoutView",
      "align_content": null,
      "align_items": null,
      "align_self": null,
      "border": null,
      "bottom": null,
      "display": null,
      "flex": null,
      "flex_flow": null,
      "grid_area": null,
      "grid_auto_columns": null,
      "grid_auto_flow": null,
      "grid_auto_rows": null,
      "grid_column": null,
      "grid_gap": null,
      "grid_row": null,
      "grid_template_areas": null,
      "grid_template_columns": null,
      "grid_template_rows": null,
      "height": null,
      "justify_content": null,
      "justify_items": null,
      "left": null,
      "margin": null,
      "max_height": null,
      "max_width": null,
      "min_height": null,
      "min_width": null,
      "object_fit": null,
      "object_position": null,
      "order": null,
      "overflow": null,
      "overflow_x": null,
      "overflow_y": null,
      "padding": null,
      "right": null,
      "top": null,
      "visibility": null,
      "width": null
     }
    },
    "a300728b0bec4b3a81b5244e789e5287": {
     "model_module": "@jupyter-widgets/controls",
     "model_name": "HBoxModel",
     "state": {
      "_dom_classes": [],
      "_model_module": "@jupyter-widgets/controls",
      "_model_module_version": "1.5.0",
      "_model_name": "HBoxModel",
      "_view_count": null,
      "_view_module": "@jupyter-widgets/controls",
      "_view_module_version": "1.5.0",
      "_view_name": "HBoxView",
      "box_style": "",
      "children": [
       "IPY_MODEL_2bb6d9a2964f49e0b4d8e33ab9e02553",
       "IPY_MODEL_01fad400269842b2b67f1542097dce75"
      ],
      "layout": "IPY_MODEL_d1c535711af74e56b54a31047b95690c"
     }
    },
    "a364ed78bfe545049e4ea8257bdf087e": {
     "model_module": "@jupyter-widgets/controls",
     "model_name": "HTMLModel",
     "state": {
      "_dom_classes": [],
      "_model_module": "@jupyter-widgets/controls",
      "_model_module_version": "1.5.0",
      "_model_name": "HTMLModel",
      "_view_count": null,
      "_view_module": "@jupyter-widgets/controls",
      "_view_module_version": "1.5.0",
      "_view_name": "HTMLView",
      "description": "",
      "description_tooltip": null,
      "layout": "IPY_MODEL_a2e34c673aa543ba9b809ce5ffa18a43",
      "placeholder": "​",
      "style": "IPY_MODEL_48f30635760044b6a78a4036e63c484c",
      "value": " 482861/482861 [00:25&lt;00:00, 18941.95it/s]"
     }
    },
    "a3b41193fef44308a204034935e824d9": {
     "model_module": "@jupyter-widgets/base",
     "model_name": "LayoutModel",
     "state": {
      "_model_module": "@jupyter-widgets/base",
      "_model_module_version": "1.2.0",
      "_model_name": "LayoutModel",
      "_view_count": null,
      "_view_module": "@jupyter-widgets/base",
      "_view_module_version": "1.2.0",
      "_view_name": "LayoutView",
      "align_content": null,
      "align_items": null,
      "align_self": null,
      "border": null,
      "bottom": null,
      "display": null,
      "flex": null,
      "flex_flow": null,
      "grid_area": null,
      "grid_auto_columns": null,
      "grid_auto_flow": null,
      "grid_auto_rows": null,
      "grid_column": null,
      "grid_gap": null,
      "grid_row": null,
      "grid_template_areas": null,
      "grid_template_columns": null,
      "grid_template_rows": null,
      "height": null,
      "justify_content": null,
      "justify_items": null,
      "left": null,
      "margin": null,
      "max_height": null,
      "max_width": null,
      "min_height": null,
      "min_width": null,
      "object_fit": null,
      "object_position": null,
      "order": null,
      "overflow": null,
      "overflow_x": null,
      "overflow_y": null,
      "padding": null,
      "right": null,
      "top": null,
      "visibility": null,
      "width": null
     }
    },
    "a713c8a72cdc4375a856695b8ec46d8b": {
     "model_module": "@jupyter-widgets/controls",
     "model_name": "HBoxModel",
     "state": {
      "_dom_classes": [],
      "_model_module": "@jupyter-widgets/controls",
      "_model_module_version": "1.5.0",
      "_model_name": "HBoxModel",
      "_view_count": null,
      "_view_module": "@jupyter-widgets/controls",
      "_view_module_version": "1.5.0",
      "_view_name": "HBoxView",
      "box_style": "",
      "children": [
       "IPY_MODEL_d7e414bb65f146c6b75d78b423bc8b2a",
       "IPY_MODEL_807a0d6277854e40bb57ec55601158eb"
      ],
      "layout": "IPY_MODEL_34cb3e389c1147bebcbbf4e7224ea552"
     }
    },
    "a834d407d4d5454da6c6da2df23e7f45": {
     "model_module": "@jupyter-widgets/controls",
     "model_name": "ProgressStyleModel",
     "state": {
      "_model_module": "@jupyter-widgets/controls",
      "_model_module_version": "1.5.0",
      "_model_name": "ProgressStyleModel",
      "_view_count": null,
      "_view_module": "@jupyter-widgets/base",
      "_view_module_version": "1.2.0",
      "_view_name": "StyleView",
      "bar_color": null,
      "description_width": "initial"
     }
    },
    "ac7cc48608004a7eb278ae5308dd0a22": {
     "model_module": "@jupyter-widgets/controls",
     "model_name": "ProgressStyleModel",
     "state": {
      "_model_module": "@jupyter-widgets/controls",
      "_model_module_version": "1.5.0",
      "_model_name": "ProgressStyleModel",
      "_view_count": null,
      "_view_module": "@jupyter-widgets/base",
      "_view_module_version": "1.2.0",
      "_view_name": "StyleView",
      "bar_color": null,
      "description_width": "initial"
     }
    },
    "afcc45afbecd461fb73d0a698fa52be3": {
     "model_module": "@jupyter-widgets/controls",
     "model_name": "HBoxModel",
     "state": {
      "_dom_classes": [],
      "_model_module": "@jupyter-widgets/controls",
      "_model_module_version": "1.5.0",
      "_model_name": "HBoxModel",
      "_view_count": null,
      "_view_module": "@jupyter-widgets/controls",
      "_view_module_version": "1.5.0",
      "_view_name": "HBoxView",
      "box_style": "",
      "children": [
       "IPY_MODEL_e84a3ba7339f410caffd26c66aa77af1",
       "IPY_MODEL_d5d4a18b477547c0a518021689567712"
      ],
      "layout": "IPY_MODEL_a3b41193fef44308a204034935e824d9"
     }
    },
    "c4f4e25b5b0340babb0c0514e6ac9044": {
     "model_module": "@jupyter-widgets/base",
     "model_name": "LayoutModel",
     "state": {
      "_model_module": "@jupyter-widgets/base",
      "_model_module_version": "1.2.0",
      "_model_name": "LayoutModel",
      "_view_count": null,
      "_view_module": "@jupyter-widgets/base",
      "_view_module_version": "1.2.0",
      "_view_name": "LayoutView",
      "align_content": null,
      "align_items": null,
      "align_self": null,
      "border": null,
      "bottom": null,
      "display": null,
      "flex": null,
      "flex_flow": null,
      "grid_area": null,
      "grid_auto_columns": null,
      "grid_auto_flow": null,
      "grid_auto_rows": null,
      "grid_column": null,
      "grid_gap": null,
      "grid_row": null,
      "grid_template_areas": null,
      "grid_template_columns": null,
      "grid_template_rows": null,
      "height": null,
      "justify_content": null,
      "justify_items": null,
      "left": null,
      "margin": null,
      "max_height": null,
      "max_width": null,
      "min_height": null,
      "min_width": null,
      "object_fit": null,
      "object_position": null,
      "order": null,
      "overflow": null,
      "overflow_x": null,
      "overflow_y": null,
      "padding": null,
      "right": null,
      "top": null,
      "visibility": null,
      "width": null
     }
    },
    "c8160833b48644f58e20e10894eab057": {
     "model_module": "@jupyter-widgets/controls",
     "model_name": "DescriptionStyleModel",
     "state": {
      "_model_module": "@jupyter-widgets/controls",
      "_model_module_version": "1.5.0",
      "_model_name": "DescriptionStyleModel",
      "_view_count": null,
      "_view_module": "@jupyter-widgets/base",
      "_view_module_version": "1.2.0",
      "_view_name": "StyleView",
      "description_width": ""
     }
    },
    "d1c535711af74e56b54a31047b95690c": {
     "model_module": "@jupyter-widgets/base",
     "model_name": "LayoutModel",
     "state": {
      "_model_module": "@jupyter-widgets/base",
      "_model_module_version": "1.2.0",
      "_model_name": "LayoutModel",
      "_view_count": null,
      "_view_module": "@jupyter-widgets/base",
      "_view_module_version": "1.2.0",
      "_view_name": "LayoutView",
      "align_content": null,
      "align_items": null,
      "align_self": null,
      "border": null,
      "bottom": null,
      "display": null,
      "flex": null,
      "flex_flow": null,
      "grid_area": null,
      "grid_auto_columns": null,
      "grid_auto_flow": null,
      "grid_auto_rows": null,
      "grid_column": null,
      "grid_gap": null,
      "grid_row": null,
      "grid_template_areas": null,
      "grid_template_columns": null,
      "grid_template_rows": null,
      "height": null,
      "justify_content": null,
      "justify_items": null,
      "left": null,
      "margin": null,
      "max_height": null,
      "max_width": null,
      "min_height": null,
      "min_width": null,
      "object_fit": null,
      "object_position": null,
      "order": null,
      "overflow": null,
      "overflow_x": null,
      "overflow_y": null,
      "padding": null,
      "right": null,
      "top": null,
      "visibility": null,
      "width": null
     }
    },
    "d5d4a18b477547c0a518021689567712": {
     "model_module": "@jupyter-widgets/controls",
     "model_name": "HTMLModel",
     "state": {
      "_dom_classes": [],
      "_model_module": "@jupyter-widgets/controls",
      "_model_module_version": "1.5.0",
      "_model_name": "HTMLModel",
      "_view_count": null,
      "_view_module": "@jupyter-widgets/controls",
      "_view_module_version": "1.5.0",
      "_view_name": "HTMLView",
      "description": "",
      "description_tooltip": null,
      "layout": "IPY_MODEL_3dc9c65fdc8e407f9b401220c7010d13",
      "placeholder": "​",
      "style": "IPY_MODEL_0f4bb12f28334afa98c4a35899ec0338",
      "value": " 1/1 [00:10&lt;00:00, 10.15s/it]"
     }
    },
    "d6fd1b1bd46a43fe9021abc16da41d93": {
     "model_module": "@jupyter-widgets/base",
     "model_name": "LayoutModel",
     "state": {
      "_model_module": "@jupyter-widgets/base",
      "_model_module_version": "1.2.0",
      "_model_name": "LayoutModel",
      "_view_count": null,
      "_view_module": "@jupyter-widgets/base",
      "_view_module_version": "1.2.0",
      "_view_name": "LayoutView",
      "align_content": null,
      "align_items": null,
      "align_self": null,
      "border": null,
      "bottom": null,
      "display": null,
      "flex": null,
      "flex_flow": null,
      "grid_area": null,
      "grid_auto_columns": null,
      "grid_auto_flow": null,
      "grid_auto_rows": null,
      "grid_column": null,
      "grid_gap": null,
      "grid_row": null,
      "grid_template_areas": null,
      "grid_template_columns": null,
      "grid_template_rows": null,
      "height": null,
      "justify_content": null,
      "justify_items": null,
      "left": null,
      "margin": null,
      "max_height": null,
      "max_width": null,
      "min_height": null,
      "min_width": null,
      "object_fit": null,
      "object_position": null,
      "order": null,
      "overflow": null,
      "overflow_x": null,
      "overflow_y": null,
      "padding": null,
      "right": null,
      "top": null,
      "visibility": null,
      "width": null
     }
    },
    "d7e414bb65f146c6b75d78b423bc8b2a": {
     "model_module": "@jupyter-widgets/controls",
     "model_name": "FloatProgressModel",
     "state": {
      "_dom_classes": [],
      "_model_module": "@jupyter-widgets/controls",
      "_model_module_version": "1.5.0",
      "_model_name": "FloatProgressModel",
      "_view_count": null,
      "_view_module": "@jupyter-widgets/controls",
      "_view_module_version": "1.5.0",
      "_view_name": "ProgressView",
      "bar_style": "success",
      "description": "100%",
      "description_tooltip": null,
      "layout": "IPY_MODEL_44840736902249f3b1070ca3534a61ef",
      "max": 482861,
      "min": 0,
      "orientation": "horizontal",
      "style": "IPY_MODEL_7b56d44e9b2146ec98af85cad401e2a0",
      "value": 482861
     }
    },
    "e157b30cdd9649b19b1e985e233814c5": {
     "model_module": "@jupyter-widgets/controls",
     "model_name": "DescriptionStyleModel",
     "state": {
      "_model_module": "@jupyter-widgets/controls",
      "_model_module_version": "1.5.0",
      "_model_name": "DescriptionStyleModel",
      "_view_count": null,
      "_view_module": "@jupyter-widgets/base",
      "_view_module_version": "1.2.0",
      "_view_name": "StyleView",
      "description_width": ""
     }
    },
    "e323ae1c8712485c8ee098d77369b6e2": {
     "model_module": "@jupyter-widgets/controls",
     "model_name": "DescriptionStyleModel",
     "state": {
      "_model_module": "@jupyter-widgets/controls",
      "_model_module_version": "1.5.0",
      "_model_name": "DescriptionStyleModel",
      "_view_count": null,
      "_view_module": "@jupyter-widgets/base",
      "_view_module_version": "1.2.0",
      "_view_name": "StyleView",
      "description_width": ""
     }
    },
    "e84a3ba7339f410caffd26c66aa77af1": {
     "model_module": "@jupyter-widgets/controls",
     "model_name": "FloatProgressModel",
     "state": {
      "_dom_classes": [],
      "_model_module": "@jupyter-widgets/controls",
      "_model_module_version": "1.5.0",
      "_model_name": "FloatProgressModel",
      "_view_count": null,
      "_view_module": "@jupyter-widgets/controls",
      "_view_module_version": "1.5.0",
      "_view_name": "ProgressView",
      "bar_style": "success",
      "description": "100%",
      "description_tooltip": null,
      "layout": "IPY_MODEL_f9f9406753e147f1b3187089efddc402",
      "max": 1,
      "min": 0,
      "orientation": "horizontal",
      "style": "IPY_MODEL_17c6aa38d33843ce82e0db5350534e95",
      "value": 1
     }
    },
    "eb9bb014d4614d3d8998e7aa94f9f506": {
     "model_module": "@jupyter-widgets/base",
     "model_name": "LayoutModel",
     "state": {
      "_model_module": "@jupyter-widgets/base",
      "_model_module_version": "1.2.0",
      "_model_name": "LayoutModel",
      "_view_count": null,
      "_view_module": "@jupyter-widgets/base",
      "_view_module_version": "1.2.0",
      "_view_name": "LayoutView",
      "align_content": null,
      "align_items": null,
      "align_self": null,
      "border": null,
      "bottom": null,
      "display": null,
      "flex": null,
      "flex_flow": null,
      "grid_area": null,
      "grid_auto_columns": null,
      "grid_auto_flow": null,
      "grid_auto_rows": null,
      "grid_column": null,
      "grid_gap": null,
      "grid_row": null,
      "grid_template_areas": null,
      "grid_template_columns": null,
      "grid_template_rows": null,
      "height": null,
      "justify_content": null,
      "justify_items": null,
      "left": null,
      "margin": null,
      "max_height": null,
      "max_width": null,
      "min_height": null,
      "min_width": null,
      "object_fit": null,
      "object_position": null,
      "order": null,
      "overflow": null,
      "overflow_x": null,
      "overflow_y": null,
      "padding": null,
      "right": null,
      "top": null,
      "visibility": null,
      "width": null
     }
    },
    "f9f9406753e147f1b3187089efddc402": {
     "model_module": "@jupyter-widgets/base",
     "model_name": "LayoutModel",
     "state": {
      "_model_module": "@jupyter-widgets/base",
      "_model_module_version": "1.2.0",
      "_model_name": "LayoutModel",
      "_view_count": null,
      "_view_module": "@jupyter-widgets/base",
      "_view_module_version": "1.2.0",
      "_view_name": "LayoutView",
      "align_content": null,
      "align_items": null,
      "align_self": null,
      "border": null,
      "bottom": null,
      "display": null,
      "flex": null,
      "flex_flow": null,
      "grid_area": null,
      "grid_auto_columns": null,
      "grid_auto_flow": null,
      "grid_auto_rows": null,
      "grid_column": null,
      "grid_gap": null,
      "grid_row": null,
      "grid_template_areas": null,
      "grid_template_columns": null,
      "grid_template_rows": null,
      "height": null,
      "justify_content": null,
      "justify_items": null,
      "left": null,
      "margin": null,
      "max_height": null,
      "max_width": null,
      "min_height": null,
      "min_width": null,
      "object_fit": null,
      "object_position": null,
      "order": null,
      "overflow": null,
      "overflow_x": null,
      "overflow_y": null,
      "padding": null,
      "right": null,
      "top": null,
      "visibility": null,
      "width": null
     }
    },
    "fba639edeede4635971dd9950b59e6e2": {
     "model_module": "@jupyter-widgets/base",
     "model_name": "LayoutModel",
     "state": {
      "_model_module": "@jupyter-widgets/base",
      "_model_module_version": "1.2.0",
      "_model_name": "LayoutModel",
      "_view_count": null,
      "_view_module": "@jupyter-widgets/base",
      "_view_module_version": "1.2.0",
      "_view_name": "LayoutView",
      "align_content": null,
      "align_items": null,
      "align_self": null,
      "border": null,
      "bottom": null,
      "display": null,
      "flex": null,
      "flex_flow": null,
      "grid_area": null,
      "grid_auto_columns": null,
      "grid_auto_flow": null,
      "grid_auto_rows": null,
      "grid_column": null,
      "grid_gap": null,
      "grid_row": null,
      "grid_template_areas": null,
      "grid_template_columns": null,
      "grid_template_rows": null,
      "height": null,
      "justify_content": null,
      "justify_items": null,
      "left": null,
      "margin": null,
      "max_height": null,
      "max_width": null,
      "min_height": null,
      "min_width": null,
      "object_fit": null,
      "object_position": null,
      "order": null,
      "overflow": null,
      "overflow_x": null,
      "overflow_y": null,
      "padding": null,
      "right": null,
      "top": null,
      "visibility": null,
      "width": null
     }
    }
   }
  }
 },
 "nbformat": 4,
 "nbformat_minor": 1
}