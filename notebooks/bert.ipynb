{
 "cells": [
  {
   "cell_type": "code",
   "execution_count": 1,
   "metadata": {},
   "outputs": [],
   "source": [
    "import tensorflow as tf\n",
    "physical_devices = tf.config.list_physical_devices('GPU')\n",
    "tf.config.experimental.set_memory_growth(physical_devices[0], True)"
   ]
  },
  {
   "cell_type": "code",
   "execution_count": 2,
   "metadata": {},
   "outputs": [],
   "source": [
    "tf.compat.v1.reset_default_graph()\n",
    "tf.keras.backend.clear_session()"
   ]
  },
  {
   "cell_type": "code",
   "execution_count": 3,
   "metadata": {
    "colab": {
     "base_uri": "https://localhost:8080/"
    },
    "id": "IYzwTqaEmeq5",
    "outputId": "9d31d52a-48b6-4663-9408-07a57485adcd"
   },
   "outputs": [
    {
     "name": "stdout",
     "output_type": "stream",
     "text": [
      "Sat Jan 30 05:10:14 2021       \n",
      "+-----------------------------------------------------------------------------+\n",
      "| NVIDIA-SMI 450.80.02    Driver Version: 450.80.02    CUDA Version: 11.0     |\n",
      "|-------------------------------+----------------------+----------------------+\n",
      "| GPU  Name        Persistence-M| Bus-Id        Disp.A | Volatile Uncorr. ECC |\n",
      "| Fan  Temp  Perf  Pwr:Usage/Cap|         Memory-Usage | GPU-Util  Compute M. |\n",
      "|                               |                      |               MIG M. |\n",
      "|===============================+======================+======================|\n",
      "|   0  GeForce RTX 2080    On   | 00000000:09:00.0 Off |                  N/A |\n",
      "|  0%   33C    P8     4W / 210W |      3MiB /  7982MiB |      0%      Default |\n",
      "|                               |                      |                  N/A |\n",
      "+-------------------------------+----------------------+----------------------+\n",
      "                                                                               \n",
      "+-----------------------------------------------------------------------------+\n",
      "| Processes:                                                                  |\n",
      "|  GPU   GI   CI        PID   Type   Process name                  GPU Memory |\n",
      "|        ID   ID                                                   Usage      |\n",
      "|=============================================================================|\n",
      "|  No running processes found                                                 |\n",
      "+-----------------------------------------------------------------------------+\n"
     ]
    }
   ],
   "source": [
    "gpu_info = !nvidia-smi\n",
    "gpu_info = '\\n'.join(gpu_info)\n",
    "if gpu_info.find('failed') >= 0:\n",
    "  print('Select the Runtime > \"Change runtime type\" menu to enable a GPU accelerator, ')\n",
    "  print('and then re-execute this cell.')\n",
    "else:\n",
    "  print(gpu_info)"
   ]
  },
  {
   "cell_type": "code",
   "execution_count": 4,
   "metadata": {
    "colab": {
     "base_uri": "https://localhost:8080/"
    },
    "id": "sXO_hBgSgGyO",
    "outputId": "c5e65c2f-b855-4908-8b5e-0fc1d3374e37"
   },
   "outputs": [
    {
     "name": "stdout",
     "output_type": "stream",
     "text": [
      "Total 202.74 gigabytes RAM\n",
      "\n",
      "available 181.66 gigabytes RAM\n",
      "\n",
      "free 158.96 gigabytes RAM\n",
      "\n"
     ]
    }
   ],
   "source": [
    "from psutil import virtual_memory\n",
    "vmem = virtual_memory()\n",
    "\n",
    "print('Total {:.2f} gigabytes RAM\\n'.format(virtual_memory().total / 1e9))\n",
    "print('available {:.2f} gigabytes RAM\\n'.format(virtual_memory().available / 1e9))\n",
    "print('free {:.2f} gigabytes RAM\\n'.format(virtual_memory().free / 1e9))"
   ]
  },
  {
   "cell_type": "markdown",
   "metadata": {
    "id": "6aiDV6M2nYs7"
   },
   "source": [
    "# Imports"
   ]
  },
  {
   "cell_type": "code",
   "execution_count": 7,
   "metadata": {
    "id": "bah8Z39qnZVX"
   },
   "outputs": [],
   "source": [
    "import os\n",
    "import sys\n",
    "import gc\n",
    "import random\n",
    "import datetime\n",
    "import pickle\n",
    "import logging\n",
    "import typing as T\n",
    "from typing import (\n",
    "    List, Optional,\n",
    "    Union, Tuple\n",
    ")\n",
    "\n",
    "import numpy as np\n",
    "import pandas as pd\n",
    "import matplotlib.pyplot as plt\n",
    "import seaborn as sns\n",
    "from tqdm.notebook import tqdm\n",
    "from IPython.display import clear_output\n",
    "from sklearn.metrics import accuracy_score, f1_score\n",
    "\n",
    "import tensorflow.keras.layers as L\n",
    "import tensorflow_addons as tfa\n",
    "\n",
    "from transformers import BertConfig\n",
    "from transformers.models.bert.modeling_tf_bert import TFBertEncoder, TFBertPooler\n",
    "from transformers.modeling_tf_utils import get_initializer"
   ]
  },
  {
   "cell_type": "code",
   "execution_count": 10,
   "metadata": {
    "colab": {
     "base_uri": "https://localhost:8080/",
     "height": 35
    },
    "id": "EC-fhd93nZv8",
    "outputId": "5ce2b4c5-c98c-4cbe-e9b7-7b9da01da11b"
   },
   "outputs": [
    {
     "data": {
      "text/plain": [
       "'2.4.1'"
      ]
     },
     "execution_count": 10,
     "metadata": {},
     "output_type": "execute_result"
    }
   ],
   "source": [
    "tf.__version__"
   ]
  },
  {
   "cell_type": "markdown",
   "metadata": {
    "id": "Mpm5O1yNn6Xj"
   },
   "source": [
    "# Methods"
   ]
  },
  {
   "cell_type": "code",
   "execution_count": 12,
   "metadata": {
    "id": "6dnlMYv9nZx6"
   },
   "outputs": [],
   "source": [
    "def save_pickle(a, filepath):\n",
    "    with open(filepath, 'wb') as handle:\n",
    "        pickle.dump(a, handle, protocol=pickle.HIGHEST_PROTOCOL)\n",
    "        \n",
    "        \n",
    "def load_pickle(filepath):\n",
    "    with open(filepath, 'rb') as handle:\n",
    "        b = pickle.load(handle)\n",
    "        \n",
    "    return b"
   ]
  },
  {
   "cell_type": "code",
   "execution_count": 13,
   "metadata": {
    "id": "N6drTF8g8GKU"
   },
   "outputs": [],
   "source": [
    "def get_full_dataset(\n",
    "    data_path: str,\n",
    "    part_names: T.List[str],\n",
    "    columns: T.Optional[T.List[str]] = None\n",
    "    ) -> pd.DataFrame:\n",
    "    df = pd.DataFrame(columns=columns)\n",
    "    for part in tqdm(part_names):\n",
    "        dft = load_pickle(os.path.join(data_path, part))\n",
    "        if columns:\n",
    "            dft = dft[columns]\n",
    "        df = pd.concat((df, dft))\n",
    "        del dft\n",
    "        collected_gc = gc.collect()\n",
    "        logger.info(f\"Partition read: {part}; gc.collect: {collected_gc}\")\n",
    "    return df.reset_index(drop=True)"
   ]
  },
  {
   "cell_type": "code",
   "execution_count": 14,
   "metadata": {
    "id": "CVW-5trB54kz"
   },
   "outputs": [],
   "source": [
    "def show_df_memory_usage_gb(df: pd.DataFrame): \n",
    "    memory_usage = df.memory_usage(index=True, deep=True).sum() / 1024**3\n",
    "    print(f'RAM memory usage: {round(memory_usage, 4)} Gb')"
   ]
  },
  {
   "cell_type": "markdown",
   "metadata": {
    "id": "24pNK2zun_H0"
   },
   "source": [
    "# Settings"
   ]
  },
  {
   "cell_type": "code",
   "execution_count": 16,
   "metadata": {
    "id": "i-NlXkZxywoW"
   },
   "outputs": [],
   "source": [
    "PROJ_PATH = \"..\"\n",
    "DATA_PATH = os.path.join(PROJ_PATH, \"data\")\n",
    "MODELS_PATH = os.path.join(PROJ_PATH, 'models')\n",
    "\n",
    "PREPROCESSED_DATA_PATH = os.path.join(DATA_PATH, \"preprocessed\")\n",
    "SEQ_DATA_PATH = os.path.join(PREPROCESSED_DATA_PATH, \"sequence\", \"train\")\n",
    "SEQ_TEST_DATA_PATH = os.path.join(PREPROCESSED_DATA_PATH, \"sequence\", \"test\")\n",
    "\n",
    "\n"
   ]
  },
  {
   "cell_type": "code",
   "execution_count": 17,
   "metadata": {
    "id": "zUTQ5BbSqCb3"
   },
   "outputs": [],
   "source": [
    "def seed_everything(seed=42):\n",
    "    random.seed(seed)\n",
    "    os.environ['PYTHONHASHSEED'] = str(seed)\n",
    "    np.random.seed(seed)\n",
    "    tf.random.set_seed(seed)"
   ]
  },
  {
   "cell_type": "code",
   "execution_count": 18,
   "metadata": {
    "id": "khvQVZy7qM6A"
   },
   "outputs": [],
   "source": [
    "SEED = 42\n",
    "seed_everything(seed=SEED)"
   ]
  },
  {
   "cell_type": "code",
   "execution_count": 20,
   "metadata": {
    "id": "Tf3oAQBYnZ85"
   },
   "outputs": [],
   "source": [
    "y_column = 'multi_class_target'"
   ]
  },
  {
   "cell_type": "code",
   "execution_count": 21,
   "metadata": {
    "id": "KgDBBD3dhfyU"
   },
   "outputs": [],
   "source": [
    "logger = logging.getLogger(name=__name__)\n",
    "logging.basicConfig(format = u'%(filename)s[LINE:%(lineno)d] # [%(levelname)-8s] [%(asctime)s]  %(message)s', level = logging.INFO)\n"
   ]
  },
  {
   "cell_type": "markdown",
   "metadata": {
    "id": "xk2QJcHPoP9L"
   },
   "source": [
    "# Get data"
   ]
  },
  {
   "cell_type": "code",
   "execution_count": 22,
   "metadata": {
    "id": "ieGut42t8VV9"
   },
   "outputs": [],
   "source": [
    "part_names = [\n",
    "\"preprocessed_df_april.pickle\",\n",
    "\"preprocessed_df_july.pickle\",\n",
    "\"preprocessed_df_sep.pickle\",\n",
    "                ]"
   ]
  },
  {
   "cell_type": "code",
   "execution_count": 23,
   "metadata": {
    "id": "zR4ucNJj8gvi"
   },
   "outputs": [],
   "source": [
    "cols = ['session_id', 'timestamp', 'client',\n",
    "       'multi_class_target', 'prev_time_diffs_token',\n",
    "       'prev_sess_length_seconds_token', 'prev_target_token', 'prev_net_token',\n",
    "       'prev_event_type_seq_token', 'prev_event_category_seq_token',\n",
    "       'prev_event_device_screen_name_seq_token']"
   ]
  },
  {
   "cell_type": "code",
   "execution_count": 24,
   "metadata": {
    "colab": {
     "base_uri": "https://localhost:8080/",
     "height": 234,
     "referenced_widgets": [
      "edd7ff835b974970acb71b322457f4dc",
      "1d61d51e6c994320aeeeb9b26fe176dc",
      "66aea716db514d01879df398c6969272",
      "1bc14a3664384f9f9375697ae221fbbb",
      "36348eabb55e44da8c6768950ae2c31c",
      "052f2d9630364b08b9832715162df718",
      "3041c8327915440c9833040fb037248f",
      "8ce7d46164e54e69b01984d66f2730bc"
     ]
    },
    "id": "Jem-BIdf8VYq",
    "outputId": "8fa6d2b6-fc46-4538-e7d8-b87a37fb8dee"
   },
   "outputs": [
    {
     "data": {
      "application/vnd.jupyter.widget-view+json": {
       "model_id": "b024f53d9df141c5bf9f24d0fe050a1d",
       "version_major": 2,
       "version_minor": 0
      },
      "text/plain": [
       "HBox(children=(FloatProgress(value=0.0, max=3.0), HTML(value='')))"
      ]
     },
     "metadata": {},
     "output_type": "display_data"
    },
    {
     "name": "stderr",
     "output_type": "stream",
     "text": [
      "<ipython-input-13-53a93e6578b2>[LINE:14] # [INFO    ] [2021-01-30 05:13:25,083]  Partition read: preprocessed_df_april.pickle; gc.collect: 0\n",
      "<ipython-input-13-53a93e6578b2>[LINE:14] # [INFO    ] [2021-01-30 05:16:47,944]  Partition read: preprocessed_df_july.pickle; gc.collect: 0\n",
      "<ipython-input-13-53a93e6578b2>[LINE:14] # [INFO    ] [2021-01-30 05:20:20,765]  Partition read: preprocessed_df_sep.pickle; gc.collect: 0\n"
     ]
    },
    {
     "name": "stdout",
     "output_type": "stream",
     "text": [
      "\n"
     ]
    }
   ],
   "source": [
    "df = get_full_dataset(\n",
    "    data_path=SEQ_DATA_PATH, part_names=part_names, columns=cols\n",
    ")\n",
    "df.shape"
   ]
  },
  {
   "cell_type": "code",
   "execution_count": 25,
   "metadata": {
    "id": "A0PEcGC3-kDi"
   },
   "outputs": [],
   "source": [
    "df = df.sort_values(by=['client', 'timestamp']).reset_index(drop=True)\n"
   ]
  },
  {
   "cell_type": "markdown",
   "metadata": {},
   "source": [
    "## Test data"
   ]
  },
  {
   "cell_type": "code",
   "execution_count": 27,
   "metadata": {},
   "outputs": [],
   "source": [
    "df_test = load_pickle(os.path.join(SEQ_TEST_DATA_PATH, 'df_test.pickle'))\n",
    "df_test.shape"
   ]
  },
  {
   "cell_type": "markdown",
   "metadata": {
    "id": "r6BS8f77o9Dv"
   },
   "source": [
    "# Get columns"
   ]
  },
  {
   "cell_type": "code",
   "execution_count": 35,
   "metadata": {
    "id": "_uXf0i8lt_fG"
   },
   "outputs": [],
   "source": [
    "train_data = {\n",
    "    \"event_types\": np.vstack(df_train['prev_event_type_seq_token']).reshape(-1, 60, 10).astype(np.int32),\n",
    "    \"event_categories\": np.vstack(df_train['prev_event_category_seq_token']).reshape(-1, 60, 10).astype(np.int32),\n",
    "    \"screens\": np.vstack(df_train['prev_event_device_screen_name_seq_token']).reshape(-1, 60, 10).astype(np.int32),\n",
    "    \"targets\": np.vstack(df_train['prev_target_token']).astype(np.int32),\n",
    "    \"lengths\": np.vstack(df_train['prev_sess_length_seconds_token']).astype(np.float32),\n",
    "    \"time_diffs\": np.vstack(df_train['prev_time_diffs_token']).astype(np.float32),\n",
    "    \"nets\": np.vstack(df_train['prev_net_token']).astype(np.int32)\n",
    "}"
   ]
  },
  {
   "cell_type": "code",
   "execution_count": 37,
   "metadata": {},
   "outputs": [],
   "source": [
    "train_data['attention_masks'] = np.ones(train_data['targets'].shape)\n",
    "train_data[\"positions\"] = np.repeat(\n",
    "    np.arange(1, 60+1, dtype=np.int32).reshape(1, -1), train_data['targets'].shape[0], axis=0\n",
    ")"
   ]
  },
  {
   "cell_type": "code",
   "execution_count": 38,
   "metadata": {},
   "outputs": [],
   "source": [
    "test_data = {\n",
    "    \"event_types\": np.vstack(df_test['prev_event_type_seq_token']).reshape(-1, 60, 10).astype(np.int32),\n",
    "    \"event_categories\": np.vstack(df_test['prev_event_category_seq_token']).reshape(-1, 60, 10).astype(np.int32),\n",
    "    \"screens\": np.vstack(df_test['prev_event_device_screen_name_seq_token']).reshape(-1, 60, 10).astype(np.int32),\n",
    "    \"targets\": np.vstack(df_test['prev_target_token']).astype(np.int32),\n",
    "    \"lengths\": np.vstack(df_test['prev_sess_length_seconds_token']).astype(np.float32),\n",
    "    \"time_diffs\": np.vstack(df_test['prev_time_diffs_token']).astype(np.float32),\n",
    "    \"nets\": np.vstack(df_test['prev_net_token']).astype(np.int32)\n",
    "}\n",
    "test_data[\"attention_masks\"] = np.ones(test_data['targets'].shape)\n",
    "test_data[\"positions\"] = np.repeat(\n",
    "    np.arange(1, 60+1, dtype=np.int32).reshape(1, -1), test_data['targets'].shape[0], axis=0\n",
    ")\n"
   ]
  },
  {
   "cell_type": "markdown",
   "metadata": {
    "id": "OwkQJtRrptiU"
   },
   "source": [
    "## Target"
   ]
  },
  {
   "cell_type": "code",
   "execution_count": 46,
   "metadata": {
    "id": "dkqY2baCpEQo"
   },
   "outputs": [],
   "source": [
    "y_train = np.array(df_train[y_column])"
   ]
  },
  {
   "cell_type": "markdown",
   "metadata": {
    "id": "tDZ6CzFjpwln"
   },
   "source": [
    "# Preprocess labels"
   ]
  },
  {
   "cell_type": "code",
   "execution_count": 47,
   "metadata": {},
   "outputs": [],
   "source": [
    "label_encoders = load_pickle(\n",
    "    os.path.join(\n",
    "        PREPROCESSED_DATA_PATH, \"mappers\", \"label_encoders_from_pop_vals_50k.pickle\"\n",
    "        )\n",
    "    )"
   ]
  },
  {
   "cell_type": "code",
   "execution_count": 48,
   "metadata": {
    "colab": {
     "base_uri": "https://localhost:8080/"
    },
    "id": "5A8TDSyNpv0z",
    "outputId": "b4bdf95a-ad77-42f9-bc94-c02e33756d49"
   },
   "outputs": [
    {
     "name": "stdout",
     "output_type": "stream",
     "text": [
      "{0: 0, 1: 1, 2: 2, 3: 3, 4: 4, 5: 5, 6: 6, 7: 8, 8: 9, 9: 10}\n"
     ]
    }
   ],
   "source": [
    "label_list = list(np.unique(y_train))\n",
    "label_map = {label: i for i, label in enumerate(label_list)}\n",
    "reverse_label_map = {i: label for label, i in label_map.items()}\n",
    "print(reverse_label_map)\n",
    "label_map_func = lambda label: label_map[label]\n",
    "\n",
    "y_train = np.array(list(map(label_map_func, y_train)))\n",
    "y_train_ohe = tf.keras.utils.to_categorical(y_train)"
   ]
  },
  {
   "cell_type": "code",
   "execution_count": 49,
   "metadata": {},
   "outputs": [],
   "source": [
    "y_test_true = label_encoders['multi_class_target'].transform(df_test['target'])\n",
    "y_tst = np.array(list(map(label_map_func, y_test_true)))\n",
    "y_test_ohe = tf.keras.utils.to_categorical(y_tst)"
   ]
  },
  {
   "cell_type": "markdown",
   "metadata": {
    "id": "n7jnalJfqDfa"
   },
   "source": [
    "# Model"
   ]
  },
  {
   "cell_type": "markdown",
   "metadata": {
    "id": "dydXNzxsqFXU"
   },
   "source": [
    "## Time embedding"
   ]
  },
  {
   "cell_type": "code",
   "execution_count": 50,
   "metadata": {
    "id": "9fe2WUJMpEcZ"
   },
   "outputs": [],
   "source": [
    "class TimeEmbedding(L.Layer):\n",
    "    def __init__(self, hidden_embedding_size, output_dim, **kwargs):\n",
    "        super(TimeEmbedding, self).__init__(**kwargs)\n",
    "        self.output_dim = output_dim\n",
    "        self.hidden_embedding_size = hidden_embedding_size\n",
    "\n",
    "\n",
    "    def build(self, input_shape):\n",
    "        self.emb_weights = self.add_weight(name='weights', shape=(self.hidden_embedding_size,), initializer='uniform',\n",
    "                                           trainable=True)\n",
    "        self.emb_biases = self.add_weight(name='biases', shape=(self.hidden_embedding_size,), initializer='uniform',\n",
    "                                          trainable=True)\n",
    "        self.emb_final = self.add_weight(name='embedding_matrix', shape=(self.hidden_embedding_size, self.output_dim),\n",
    "                                         initializer='uniform', trainable=True)\n",
    "\n",
    "\n",
    "    def call(self, x):\n",
    "        x = tf.keras.backend.expand_dims(x)\n",
    "        x = tf.keras.activations.softmax(x * self.emb_weights + self.emb_biases)\n",
    "        x = tf.einsum('bsv,vi->bsi', x, self.emb_final)\n",
    "        return x\n",
    "\n",
    "\n",
    "    def get_config(self):\n",
    "        config = super(TimeEmbedding, self).get_config()\n",
    "        config.update({'time_dims': self.output_dim, 'hidden_embedding_size': self.hidden_embedding_size})\n",
    "        return config\n"
   ]
  },
  {
   "cell_type": "markdown",
   "metadata": {
    "id": "vQ9f-AuoqQGh"
   },
   "source": [
    "## Basic embedding"
   ]
  },
  {
   "cell_type": "code",
   "execution_count": 52,
   "metadata": {
    "id": "rfkIGn80pEXk"
   },
   "outputs": [],
   "source": [
    "class BasicEmbedding(L.Layer):\n",
    "    def __init__(\n",
    "        self,\n",
    "        vocab_size: int,\n",
    "        embed_size: int,\n",
    "        embedding_matrix: np.ndarray = None,\n",
    "        is_embedding_trainable: bool = False,\n",
    "        **kwargs\n",
    "    ):\n",
    "        super(BasicEmbedding, self).__init__(**kwargs)\n",
    "        self.vocab_size = vocab_size\n",
    "        self.embed_size = embed_size\n",
    "        self.embedding_matrix = embedding_matrix\n",
    "        self.is_embedding_trainable = is_embedding_trainable\n",
    "\n",
    "\n",
    "    def build(self, input_shape):\n",
    "        input_length = input_shape[-1]\n",
    "        if self.embedding_matrix is None:\n",
    "            self.embedding = L.Embedding(\n",
    "                input_dim=self.vocab_size,\n",
    "                output_dim=self.embed_size,\n",
    "                input_length=input_length\n",
    "            )\n",
    "        else:\n",
    "            self.embedding = L.Embedding(\n",
    "                input_dim=self.vocab_size,\n",
    "                output_dim=self.embed_size,\n",
    "                weights=[self.embedding_matrix],\n",
    "                mask_zero=False,\n",
    "                trainable=self.is_embedding_trainable,\n",
    "                input_length=input_length\n",
    "            )\n",
    "        \n",
    "\n",
    "\n",
    "    def call(self, input_tensor, training=False):\n",
    "        x = self.embedding(input_tensor, training=training)\n",
    "        return x\n"
   ]
  },
  {
   "cell_type": "markdown",
   "metadata": {
    "id": "3V7_yv5LqZKA"
   },
   "source": [
    "## Event embedding"
   ]
  },
  {
   "cell_type": "code",
   "execution_count": 54,
   "metadata": {
    "id": "6L6S091RqM6u"
   },
   "outputs": [],
   "source": [
    "class EventEmbedding(BasicEmbedding):\n",
    "    def __init__(\n",
    "        self,\n",
    "        vocab_size: int,\n",
    "        embed_size: int,\n",
    "        embedding_matrix: np.ndarray = None,\n",
    "        is_embedding_trainable: bool = False,\n",
    "        **kwargs\n",
    "    ):\n",
    "        super(EventEmbedding, self).__init__(\n",
    "            vocab_size,\n",
    "            embed_size,\n",
    "            embedding_matrix,\n",
    "            is_embedding_trainable,\n",
    "            **kwargs\n",
    "        )    \n",
    "\n",
    "\n",
    "    def call(self, input_tensor, training=False):\n",
    "        x = self.embedding(input_tensor, training=training)\n",
    "        # x = tf.reduce_mean(x, axis=2)\n",
    "        # x = tf.concat(x, axis=2)\n",
    "        concat_shape = [-1] + [x.shape[1]] + [x.shape[2]*x.shape[3]]\n",
    "        x = tf.reshape(x, concat_shape)\n",
    "        return x\n"
   ]
  },
  {
   "cell_type": "markdown",
   "metadata": {},
   "source": [
    "## Embeddings class"
   ]
  },
  {
   "cell_type": "code",
   "execution_count": 83,
   "metadata": {},
   "outputs": [],
   "source": [
    "class ContextSessionEmbeddings(L.Layer):\n",
    "    def __init__(\n",
    "        self,\n",
    "        event_type_vocab_size: int,\n",
    "        event_category_vocab_size: int,\n",
    "        screens_vocab_size: int,\n",
    "        position_vocab_size: int,\n",
    "        target_vocab_size: int,\n",
    "        net_vocab_size: int,\n",
    "        time_projection_size: int,\n",
    "        embed_size: int,\n",
    "        reduced_embed_size: int,\n",
    "        dropout_rate: float = 0.2,\n",
    "        layer_norm_eps: float = 1e-12,\n",
    "        **kwargs\n",
    "    ):\n",
    "        super(ContextSessionEmbeddings, self).__init__(**kwargs)\n",
    "        \n",
    "        # events\n",
    "        self.event_type_embedding = EventEmbedding(\n",
    "            vocab_size=event_type_vocab_size,\n",
    "            embed_size=embed_size,\n",
    "            embedding_matrix=None,\n",
    "            is_embedding_trainable=True\n",
    "        )\n",
    "        self.event_category_embedding = EventEmbedding(\n",
    "            vocab_size=event_category_vocab_size,\n",
    "            embed_size=embed_size,\n",
    "            embedding_matrix=None,\n",
    "            is_embedding_trainable=True\n",
    "        )\n",
    "        self.screen_embedding = EventEmbedding(\n",
    "            vocab_size=screens_vocab_size,\n",
    "            embed_size=embed_size,\n",
    "            embedding_matrix=None,\n",
    "            is_embedding_trainable=True\n",
    "        )\n",
    "        \n",
    "        \n",
    "        # Position\n",
    "        self.position_embedding = BasicEmbedding(\n",
    "            vocab_size=position_vocab_size,\n",
    "            embed_size=embed_size,\n",
    "            embedding_matrix=None,\n",
    "            is_embedding_trainable=True\n",
    "        )\n",
    "        \n",
    "        \n",
    "        # aka texts\n",
    "        self.target_embedding = BasicEmbedding(\n",
    "            vocab_size=target_vocab_size,\n",
    "            embed_size=embed_size,\n",
    "            embedding_matrix=None,\n",
    "            is_embedding_trainable=True\n",
    "        )\n",
    "        self.net_embedding = BasicEmbedding(\n",
    "            vocab_size=net_vocab_size,\n",
    "            embed_size=embed_size,\n",
    "            embedding_matrix=None,\n",
    "            is_embedding_trainable=True\n",
    "        )\n",
    "        \n",
    "        \n",
    "        # Time\n",
    "        self.time_diff_embedding = TimeEmbedding(\n",
    "            hidden_embedding_size=time_projection_size,\n",
    "            output_dim=embed_size\n",
    "        )\n",
    "        self.time_embedding = TimeEmbedding(\n",
    "            hidden_embedding_size=time_projection_size,\n",
    "            output_dim=embed_size\n",
    "        )\n",
    "        \n",
    "        \n",
    "        self.embedding_layer_norm = L.LayerNormalization(epsilon=layer_norm_eps)\n",
    "        self.embedding_dropout = L.Dropout(dropout_rate)\n",
    "\n",
    "\n",
    "        # Projection\n",
    "        self.dense_reduction = L.Dense(\n",
    "            reduced_embed_size, activation='linear',\n",
    "            kernel_initializer=get_initializer(0.02)\n",
    "        )\n",
    "        self.projection_layer_norm = L.LayerNormalization(epsilon=layer_norm_eps)\n",
    "#         self.projection_dropout = L.Dropout(dropout_rate)\n",
    "        \n",
    "\n",
    "    def call(self, input_dict, training=False):\n",
    "        ## get cols\n",
    "        \n",
    "        # events\n",
    "        event_types = input_dict[\"event_types\"]\n",
    "        event_categories = input_dict[\"event_categories\"]\n",
    "        screens = input_dict[\"screens\"]\n",
    "        \n",
    "        # texts\n",
    "        targets = input_dict[\"targets\"]\n",
    "        nets = input_dict[\"nets\"]\n",
    "        \n",
    "        # nums\n",
    "        lengths = input_dict[\"lengths\"]\n",
    "        time_diffs = input_dict[\"time_diffs\"]\n",
    "        \n",
    "        # position\n",
    "        positions = input_dict[\"positions\"]\n",
    "        \n",
    "        \n",
    "        ## Get tensors\n",
    "        # lists\n",
    "        event_type_embs = self.event_type_embedding(event_types, training=training)\n",
    "        event_category_embs = self.event_category_embedding(event_categories, training=training)\n",
    "        screen_embs = self.screen_embedding(screens, training=training)\n",
    "\n",
    "        # texts\n",
    "        target_embs = self.target_embedding(targets, training=training)\n",
    "        net_embs = self.net_embedding(nets, training=training)\n",
    "        \n",
    "        # nums\n",
    "        time_embs = self.time_embedding(lengths, training=training)\n",
    "        time_diff_embs = self.time_diff_embedding(time_diffs, training=training)\n",
    "        \n",
    "        # position\n",
    "        position_embs = self.position_embedding(positions, training=training)\n",
    "        \n",
    "        \n",
    "        ## concat\n",
    "        embs = tf.concat([\n",
    "                          event_type_embs, event_category_embs, screen_embs,\n",
    "                            target_embs, net_embs, time_embs,\n",
    "                          time_diff_embs, position_embs\n",
    "                          ], axis=2)\n",
    "        \n",
    "        x = self.embedding_layer_norm(embs, training=training)\n",
    "        x = self.embedding_dropout(x, training=training)\n",
    "        \n",
    "        ## project\n",
    "        x = self.dense_reduction(x, training=training)\n",
    "        x = self.projection_layer_norm(x, training=training)\n",
    "#         x = self.projection_dropout(x, training=training)\n",
    "        \n",
    "        return x"
   ]
  },
  {
   "cell_type": "markdown",
   "metadata": {
    "id": "GCRz7KPmqjIH"
   },
   "source": [
    "## Poolers"
   ]
  },
  {
   "cell_type": "code",
   "execution_count": 85,
   "metadata": {
    "id": "y00K7RTBYtsx"
   },
   "outputs": [],
   "source": [
    "class TFBertConcatPooler(tf.keras.layers.Layer):\n",
    "    def __init__(self, config, num_tokens, **kwargs):\n",
    "        super().__init__(**kwargs)\n",
    "        self.num_tokens = num_tokens\n",
    "        self.flatten = L.Flatten()\n",
    "        self.dense = L.Dense(\n",
    "            config.hidden_size,\n",
    "            kernel_initializer=get_initializer(config.initializer_range),\n",
    "            activation=\"tanh\",\n",
    "            name=\"dense\",\n",
    "        )\n",
    "\n",
    "    def call(self, hidden_states):\n",
    "        token_tensors = hidden_states[:, -self.num_tokens:]\n",
    "        flatten_token_tensors = self.flatten(token_tensors)\n",
    "        pooled_output = self.dense(flatten_token_tensors)\n",
    "\n",
    "        return pooled_output"
   ]
  },
  {
   "cell_type": "code",
   "execution_count": 86,
   "metadata": {
    "id": "uAglIxM4AyyG"
   },
   "outputs": [],
   "source": [
    "class TFBertCNNPooler(tf.keras.layers.Layer):\n",
    "    def __init__(self, config, **kwargs):\n",
    "        super().__init__(**kwargs)\n",
    "        self.conv = tf.keras.Sequential(\n",
    "                [\n",
    "                    L.Dropout(config.hidden_dropout_prob),\n",
    "                    L.Conv1D(128, 2, padding='same'),\n",
    "                    L.ReLU(),\n",
    "                    L.Conv1D(64, 2, padding='same'),\n",
    "                    L.ReLU(),\n",
    "                    L.Flatten()\n",
    "                ]\n",
    "            )\n",
    "\n",
    "    def call(self, hidden_states):\n",
    "        pooled_output = self.conv(hidden_states)\n",
    "        return pooled_output"
   ]
  },
  {
   "cell_type": "markdown",
   "metadata": {
    "id": "DaWjK21vNrr4"
   },
   "source": [
    "## ContextSessionBertmodel"
   ]
  },
  {
   "cell_type": "code",
   "execution_count": 87,
   "metadata": {
    "id": "UlUJCFWxsk1k"
   },
   "outputs": [],
   "source": [
    "class ContextSessionBertConcat(tf.keras.Model):\n",
    "    def __init__(\n",
    "        self,\n",
    "        bert_config: BertConfig,\n",
    "        pooler: L.Layer,\n",
    "        event_type_vocab_size: int,\n",
    "        event_category_vocab_size: int,\n",
    "        screens_vocab_size: int,\n",
    "        position_vocab_size: int,\n",
    "        target_vocab_size: int,\n",
    "        net_vocab_size: int,\n",
    "        time_projection_size: int,\n",
    "        embed_size: int,\n",
    "        reduced_embed_size: int,\n",
    "        output_size: int,\n",
    "        dense_units: int,\n",
    "        dropout_rate: float = 0.2,\n",
    "        activation: str = 'relu'\n",
    "    ):\n",
    "        super(ContextSessionBertConcat, self).__init__()\n",
    "        self.config = bert_config\n",
    "        \n",
    "        \n",
    "        self.embedder = ContextSessionEmbeddings(\n",
    "            event_type_vocab_size=event_type_vocab_size,\n",
    "            event_category_vocab_size=event_category_vocab_size,\n",
    "            screens_vocab_size=screens_vocab_size,\n",
    "            position_vocab_size=position_vocab_size,\n",
    "            target_vocab_size=target_vocab_size,\n",
    "            net_vocab_size=net_vocab_size,\n",
    "            time_projection_size=time_projection_size,\n",
    "            embed_size=embed_size,\n",
    "            reduced_embed_size=reduced_embed_size,\n",
    "            dropout_rate=dropout_rate,\n",
    "            layer_norm_eps=self.config.layer_norm_eps,\n",
    "#             initializer_range=self.config.initializer_range\n",
    "        )\n",
    "        self.encoder = TFBertEncoder(self.config)\n",
    "        self.pooler = pooler\n",
    "        \n",
    "        \n",
    "        def get_reg():\n",
    "            return tf.keras.Sequential(\n",
    "                [\n",
    "                    L.Dense(\n",
    "                        dense_units, activation=\"linear\",\n",
    "                        kernel_initializer=get_initializer(self.config.initializer_range)\n",
    "                    ),\n",
    "                    L.LayerNormalization(epsilon=self.config.layer_norm_eps),\n",
    "                    L.Dropout(dropout_rate),\n",
    "                    L.ReLU(),\n",
    "                    L.Dense(\n",
    "                        dense_units, activation=\"linear\",\n",
    "                        kernel_initializer=get_initializer(self.config.initializer_range)\n",
    "                    ),\n",
    "                    L.LayerNormalization(epsilon=self.config.layer_norm_eps),\n",
    "                    L.Dropout(dropout_rate),\n",
    "                    L.ReLU()\n",
    "                ]\n",
    "            )\n",
    "        self.reg = get_reg()\n",
    "        self.head = L.Dense(\n",
    "                        output_size, activation=\"linear\",\n",
    "                        kernel_initializer=get_initializer(self.config.initializer_range)\n",
    "                    )\n",
    "    \n",
    "    \n",
    "    \n",
    "    def call(self, input_dict, training=False):\n",
    "        attention_mask = input_dict['attention_masks']\n",
    "        \n",
    "\n",
    "        embeddings = self.embedder(input_dict, training=training)\n",
    "        \n",
    "        \n",
    "        extended_attention_mask = attention_mask[:, tf.newaxis, tf.newaxis, :]\n",
    "        extended_attention_mask = tf.cast(extended_attention_mask, embeddings.dtype)\n",
    "        extended_attention_mask = (1.0 - extended_attention_mask) * -10000.0\n",
    "\n",
    "        head_mask = [None] * self.config.num_hidden_layers\n",
    "        \n",
    "        \n",
    "        encoded_layers = self.encoder(\n",
    "            embeddings,\n",
    "            extended_attention_mask,\n",
    "            head_mask,\n",
    "            self.config.output_attentions,\n",
    "            self.config.output_hidden_states,\n",
    "            self.config.return_dict\n",
    "            )\n",
    "        sequence_output = encoded_layers[0]\n",
    "        x = self.pooler(sequence_output, training=training)\n",
    "\n",
    "        x = self.reg(x, training=training)\n",
    "        x = self.head(x, training=training)\n",
    "        return x\n",
    "    \n",
    "\n"
   ]
  },
  {
   "cell_type": "markdown",
   "metadata": {
    "id": "bIb1dKLcqvYG"
   },
   "source": [
    "# Train model"
   ]
  },
  {
   "cell_type": "markdown",
   "metadata": {
    "id": "4JCI-xykq32t"
   },
   "source": [
    "## Create model"
   ]
  },
  {
   "cell_type": "code",
   "execution_count": 143,
   "metadata": {},
   "outputs": [
    {
     "name": "stdout",
     "output_type": "stream",
     "text": [
      "Sat Jan 30 07:16:03 2021       \n",
      "+-----------------------------------------------------------------------------+\n",
      "| NVIDIA-SMI 450.80.02    Driver Version: 450.80.02    CUDA Version: 11.0     |\n",
      "|-------------------------------+----------------------+----------------------+\n",
      "| GPU  Name        Persistence-M| Bus-Id        Disp.A | Volatile Uncorr. ECC |\n",
      "| Fan  Temp  Perf  Pwr:Usage/Cap|         Memory-Usage | GPU-Util  Compute M. |\n",
      "|                               |                      |               MIG M. |\n",
      "|===============================+======================+======================|\n",
      "|   0  GeForce RTX 2080    On   | 00000000:09:00.0 Off |                  N/A |\n",
      "|  0%   45C    P8     2W / 210W |   7018MiB /  7982MiB |      0%      Default |\n",
      "|                               |                      |                  N/A |\n",
      "+-------------------------------+----------------------+----------------------+\n",
      "                                                                               \n",
      "+-----------------------------------------------------------------------------+\n",
      "| Processes:                                                                  |\n",
      "|  GPU   GI   CI        PID   Type   Process name                  GPU Memory |\n",
      "|        ID   ID                                                   Usage      |\n",
      "|=============================================================================|\n",
      "+-----------------------------------------------------------------------------+\n"
     ]
    }
   ],
   "source": [
    "tf.compat.v1.reset_default_graph()\n",
    "tf.keras.backend.clear_session()\n",
    "\n",
    "gpu_info = !nvidia-smi\n",
    "gpu_info = '\\n'.join(gpu_info)\n",
    "if gpu_info.find('failed') >= 0:\n",
    "  print('Select the Runtime > \"Change runtime type\" menu to enable a GPU accelerator, ')\n",
    "  print('and then re-execute this cell.')\n",
    "else:\n",
    "  print(gpu_info)"
   ]
  },
  {
   "cell_type": "code",
   "execution_count": 145,
   "metadata": {},
   "outputs": [],
   "source": [
    "model_versions = dict(\n",
    "    tiny=dict(num_hidden_layers=2, reduced_embed_size=128),\n",
    "    small=dict(num_hidden_layers=4, reduced_embed_size=512)\n",
    ")"
   ]
  },
  {
   "cell_type": "code",
   "execution_count": 146,
   "metadata": {},
   "outputs": [],
   "source": [
    "version = \"small\""
   ]
  },
  {
   "cell_type": "code",
   "execution_count": 147,
   "metadata": {},
   "outputs": [],
   "source": [
    "embedding_args = dict(\n",
    "        event_type_vocab_size=8,\n",
    "        event_category_vocab_size=66,\n",
    "        screens_vocab_size=131,\n",
    "        position_vocab_size=60+1,\n",
    "        target_vocab_size=12,\n",
    "        net_vocab_size=14,\n",
    "        time_projection_size=32,\n",
    "        embed_size=128,\n",
    "        reduced_embed_size=model_versions[version]['reduced_embed_size'],\n",
    "        \n",
    ")\n",
    "model_args = dict(\n",
    "    dropout_rate=0.2,\n",
    "    output_size=10,\n",
    "    dense_units=64,\n",
    "    activation='relu'\n",
    ")\n",
    "\n",
    "args = {**embedding_args, **model_args}"
   ]
  },
  {
   "cell_type": "code",
   "execution_count": 148,
   "metadata": {},
   "outputs": [],
   "source": [
    "bert_config = BertConfig( \n",
    "            vocab_size=3, # not used\n",
    "            hidden_size=args['reduced_embed_size'],\n",
    "            num_hidden_layers=model_versions[version]['num_hidden_layers'],\n",
    "            num_attention_heads=4,\n",
    "            intermediate_size=args['reduced_embed_size'],\n",
    "            hidden_dropout_prob=args['dropout_rate'],\n",
    "            attention_probs_dropout_prob=args['dropout_rate'],\n",
    "        )"
   ]
  },
  {
   "cell_type": "code",
   "execution_count": 150,
   "metadata": {
    "id": "1cwCE9I5Nvyc"
   },
   "outputs": [],
   "source": [
    "pooler = TFBertPooler(bert_config, name=\"pooler\")\n",
    "concat_pooler = TFBertConcatPooler(bert_config, num_tokens=3, name=\"concat_pooler\")\n",
    "cnn_pooler = TFBertCNNPooler(bert_config, name=\"cnn_pooler\")\n"
   ]
  },
  {
   "cell_type": "code",
   "execution_count": 151,
   "metadata": {
    "id": "bQi6HWMt-v1W"
   },
   "outputs": [],
   "source": [
    "sess_model = ContextSessionBertConcat(\n",
    "        bert_config=bert_config,\n",
    "        pooler=cnn_pooler,\n",
    "        **args\n",
    ")"
   ]
  },
  {
   "cell_type": "code",
   "execution_count": 152,
   "metadata": {
    "id": "0qnkL8f2swR-"
   },
   "outputs": [],
   "source": [
    "labels = np.unique(y_train)"
   ]
  },
  {
   "cell_type": "code",
   "execution_count": 154,
   "metadata": {},
   "outputs": [],
   "source": [
    "# class_popularity_max = pd.Series(y_train).value_counts().max()\n",
    "# class_popularity = pd.Series(y_train).value_counts()\n",
    "\n",
    "class_popularity_max = pd.Series(y_tst).value_counts().max()\n",
    "class_popularity = pd.Series(y_tst).value_counts()"
   ]
  },
  {
   "cell_type": "code",
   "execution_count": 155,
   "metadata": {},
   "outputs": [],
   "source": [
    "class_weights = dict((class_popularity_max/ class_popularity) ** 0.4)"
   ]
  },
  {
   "cell_type": "markdown",
   "metadata": {
    "id": "nNkHbMRtq7Dh"
   },
   "source": [
    "## Compile model"
   ]
  },
  {
   "cell_type": "code",
   "execution_count": 159,
   "metadata": {
    "id": "szYF_-F3qNeM"
   },
   "outputs": [],
   "source": [
    "LR = 3e-5\n",
    "EPSILON = 1e-08\n",
    "\n",
    "loss_fn = tf.keras.losses.CategoricalCrossentropy(from_logits=True)\n",
    "\n",
    "# 1-1; 2-3; 4-7; 8-15; 16-31;\n",
    "scheduler = tf.keras.experimental.CosineDecayRestarts(\n",
    "    initial_learning_rate=LR,\n",
    "    first_decay_steps=3907,\n",
    "    t_mul=2.0, m_mul=1.0, alpha=0.0\n",
    ")\n",
    "optimizer = tf.keras.optimizers.Adam(learning_rate=LR, epsilon=EPSILON)\n",
    "reduce_lr = tf.keras.callbacks.ReduceLROnPlateau(monitor='val_loss', factor=0.6,\n",
    "                              patience=1, min_lr=1e-7, verbose=1)\n",
    "\n",
    "\n",
    "acc_metric = tf.keras.metrics.CategoricalAccuracy(name='categorical_accuracy')\n",
    "acc_k_metric = tf.keras.metrics.TopKCategoricalAccuracy(k=3)\n",
    "\n",
    "\n",
    "f1_metric_macro = tfa.metrics.F1Score(num_classes=len(labels), average='macro', name='f1_macro', )\n",
    "f1_metric_weighted = tfa.metrics.F1Score(num_classes=len(labels), average='weighted', name='f1_weight')\n",
    "\n",
    "sess_model.compile(\n",
    "    optimizer=optimizer,\n",
    "    loss=loss_fn,\n",
    "    metrics=[\n",
    "        acc_metric,\n",
    "        acc_k_metric,\n",
    "        f1_metric_macro,\n",
    "        f1_metric_weighted\n",
    "    ])\n"
   ]
  },
  {
   "cell_type": "markdown",
   "metadata": {
    "id": "rAHDncbDrA4i"
   },
   "source": [
    "## Fit model"
   ]
  },
  {
   "cell_type": "code",
   "execution_count": 160,
   "metadata": {
    "id": "ansiDA9Qk1kq"
   },
   "outputs": [],
   "source": [
    "logdir = os.path.join(\"logs\", datetime.datetime.now().strftime(\"%Y%m%d-%H%M%S\"))\n",
    "tensorboard_callback = tf.keras.callbacks.TensorBoard(logdir, histogram_freq=1)"
   ]
  },
  {
   "cell_type": "code",
   "execution_count": null,
   "metadata": {
    "colab": {
     "base_uri": "https://localhost:8080/"
    },
    "id": "DRDq8OvSLaAB",
    "outputId": "c819e8a4-cac9-46b6-cb5d-af23740417e4"
   },
   "outputs": [
    {
     "name": "stdout",
     "output_type": "stream",
     "text": [
      "Epoch 1/5\n",
      "66627/79147 [========================>.....] - ETA: 20:02 - loss: 2.4181 - categorical_accuracy: 0.5588 - top_k_categorical_accuracy: 0.8362 - f1_macro: 0.4016 - f1_weight: 0.5432"
     ]
    }
   ],
   "source": [
    "EPOCHS = 5\n",
    "BATCH_SIZE = 64\n",
    "EVAL_BATCH_SIZE = BATCH_SIZE * 2\n",
    "\n",
    "history = sess_model.fit(train_data,\n",
    "          y_train_ohe,\n",
    "          batch_size=BATCH_SIZE,\n",
    "          validation_batch_size=EVAL_BATCH_SIZE,\n",
    "          epochs=EPOCHS,\n",
    "          validation_data=(test_data, y_test_ohe),\n",
    "          verbose = 1,\n",
    "          shuffle=True,\n",
    "          class_weight=class_weights,\n",
    "          callbacks=[tensorboard_callback, reduce_lr]) #, reduce_lr"
   ]
  },
  {
   "cell_type": "code",
   "execution_count": 170,
   "metadata": {
    "colab": {
     "base_uri": "https://localhost:8080/"
    },
    "id": "k-nBHyvOqNnr",
    "outputId": "f5effc2a-c584-43a6-ad03-fad6119ca926"
   },
   "outputs": [
    {
     "name": "stdout",
     "output_type": "stream",
     "text": [
      "Model: \"context_session_bert_concat\"\n",
      "_________________________________________________________________\n",
      "Layer (type)                 Output Shape              Param #   \n",
      "=================================================================\n",
      "context_session_embeddings ( multiple                  2349952   \n",
      "_________________________________________________________________\n",
      "tf_bert_encoder (TFBertEncod multiple                  6311936   \n",
      "_________________________________________________________________\n",
      "cnn_pooler (TFBertCNNPooler) multiple                  147648    \n",
      "_________________________________________________________________\n",
      "sequential_1 (Sequential)    (None, 64)                250240    \n",
      "_________________________________________________________________\n",
      "dense_3 (Dense)              multiple                  650       \n",
      "=================================================================\n",
      "Total params: 9,060,426\n",
      "Trainable params: 9,060,426\n",
      "Non-trainable params: 0\n",
      "_________________________________________________________________\n"
     ]
    }
   ],
   "source": [
    "sess_model.summary()"
   ]
  },
  {
   "cell_type": "markdown",
   "metadata": {
    "id": "v-9HKJrgrH1H"
   },
   "source": [
    "# Validate"
   ]
  },
  {
   "cell_type": "code",
   "execution_count": null,
   "metadata": {
    "id": "fkIOx3YZvSIC"
   },
   "outputs": [],
   "source": [
    "y_pred = sess_model.predict(test_data)"
   ]
  },
  {
   "cell_type": "code",
   "execution_count": null,
   "metadata": {
    "id": "JID00IdxvZHk"
   },
   "outputs": [],
   "source": [
    "y_pred = y_pred.argmax(axis=1)"
   ]
  },
  {
   "cell_type": "code",
   "execution_count": null,
   "metadata": {
    "colab": {
     "base_uri": "https://localhost:8080/"
    },
    "id": "sdqPZhaxqNhV",
    "outputId": "7d2937dc-5f8e-4abe-b067-6e738a475086"
   },
   "outputs": [],
   "source": [
    "accuracy_score(y_tst, y_pred)"
   ]
  },
  {
   "cell_type": "code",
   "execution_count": null,
   "metadata": {
    "colab": {
     "base_uri": "https://localhost:8080/"
    },
    "id": "iCmF5x6WqNb9",
    "outputId": "272f2e35-bcc7-498f-98f9-63441f85b572"
   },
   "outputs": [],
   "source": [
    "f1_score(y_tst, y_pred, average='macro')"
   ]
  },
  {
   "cell_type": "markdown",
   "metadata": {
    "id": "N3eOKeLB5HvT"
   },
   "source": [
    "# Plot"
   ]
  },
  {
   "cell_type": "code",
   "execution_count": null,
   "metadata": {
    "id": "pRkc-lqb5GzC"
   },
   "outputs": [],
   "source": [
    "from typing import Union, Optional, Tuple, Any\n",
    "import pandas as pd\n",
    "import numpy as np\n",
    "import matplotlib.pyplot as plt\n",
    "import seaborn as sns\n",
    "from sklearn.metrics import confusion_matrix\n",
    "\n",
    "\n",
    "class ConfusionMatrixPlotter():\n",
    "\n",
    "    def plot(\n",
    "        self,\n",
    "        y_true: Union[np.ndarray, list],\n",
    "        y_pred: Union[np.ndarray, list],\n",
    "        labels: Union[np.ndarray, list],\n",
    "        dpi: Optional[int] = 150,\n",
    "        figsize: Optional[Tuple[int, int]] = (18, 15),\n",
    "        filepath: Optional[str] = None,\n",
    "        normalize: Optional[bool] = True,\n",
    "        ax: Optional[Any] = None\n",
    "        ):\n",
    "        \"\"\"Plots confusion matrix\n",
    "\n",
    "        Parameters\n",
    "        ----------\n",
    "        y_true : Union[np.ndarray, list]\n",
    "        y_pred : Union[np.ndarray, list]\n",
    "        labels : Union[np.ndarray, list]\n",
    "            class names to write on axes\n",
    "        dpi : Optional[int], optional\n",
    "            by default 150\n",
    "        figsize : Optional[Tuple[int, int]], optional\n",
    "            by default (18, 15)\n",
    "        filepath : Optional[str], optional\n",
    "            to save figure, if None then figure is not saved, by default None\n",
    "        normalize : Optional[bool], optional\n",
    "            normalize matrix values by rows or not, by default True\n",
    "        ax : Optional[Any], optional\n",
    "            by default None\n",
    "        \"\"\"\n",
    "        cm = confusion_matrix(y_true, y_pred, labels=labels)\n",
    "        if normalize:\n",
    "            cm = cm.astype('float') / cm.sum(axis=1)[:, np.newaxis]\n",
    "        cm_df = pd.DataFrame(cm, labels, labels)\n",
    "        \n",
    "        if not ax:\n",
    "            plt.figure(figsize=figsize, dpi=dpi)\n",
    "\n",
    "        if filepath is not None:\n",
    "            sns.heatmap(cm_df, annot=True, fmt='.1g', cmap=sns.color_palette(\"Blues\"), ax=ax);\n",
    "        else:\n",
    "            sns.heatmap(cm_df, annot=True, cmap=sns.color_palette(\"Blues\"), ax=ax)\n",
    "        \n",
    "        if not ax:\n",
    "            plt.yticks(rotation=0)\n",
    "        else:\n",
    "            ax.tick_params(axis='y', rotation=0)\n",
    "        \n",
    "        if filepath is not None:\n",
    "            plt.savefig(filepath)"
   ]
  },
  {
   "cell_type": "code",
   "execution_count": null,
   "metadata": {
    "id": "6R0RLK0JqNYa"
   },
   "outputs": [],
   "source": [
    "\n",
    "y_dev_txt = np.array(list(map(lambda x: reverse_label_map[x], y_dev)))\n",
    "y_pred_txt = np.array(list(map(lambda x: reverse_label_map[x], y_pred)))\n",
    "\n"
   ]
  },
  {
   "cell_type": "code",
   "execution_count": null,
   "metadata": {
    "id": "i5dyEKkTqNTZ"
   },
   "outputs": [],
   "source": [
    "\n",
    "cm = ConfusionMatrixPlotter()\n"
   ]
  },
  {
   "cell_type": "code",
   "execution_count": null,
   "metadata": {
    "colab": {
     "base_uri": "https://localhost:8080/",
     "height": 664
    },
    "id": "QlqpLHH0qNM9",
    "outputId": "81f27bfa-83a6-4c2a-a3da-86bb9d2e433c"
   },
   "outputs": [
    {
     "data": {
      "image/png": "[encoded data removed]",
      "text/plain": [
       "<Figure size 900x800 with 2 Axes>"
      ]
     },
     "metadata": {
      "needs_background": "light",
      "tags": []
     },
     "output_type": "display_data"
    }
   ],
   "source": [
    "cm.plot(y_true=y_dev_txt, y_pred=y_pred_txt, labels=label_list, normalize=True, figsize=(9, 8), dpi=100)\n"
   ]
  }
 ],
 "metadata": {
  "accelerator": "GPU",
  "colab": {
   "collapsed_sections": [
    "9vElBiaio_a6",
    "piUEoHgqpRHb",
    "dX42Vh2up-wO",
    "M8nTxFIbq2Bq"
   ],
   "machine_shape": "hm",
   "name": "BERT_matrix_data_seq_on_seq_all_parts.ipynb",
   "provenance": []
  },
  "kernelspec": {
   "display_name": "Python 3",
   "language": "python",
   "name": "python3"
  },
  "language_info": {
   "codemirror_mode": {
    "name": "ipython",
    "version": 3
   },
   "file_extension": ".py",
   "mimetype": "text/x-python",
   "name": "python",
   "nbconvert_exporter": "python",
   "pygments_lexer": "ipython3",
   "version": "3.6.9"
  },
  "widgets": {
   "application/vnd.jupyter.widget-state+json": {
    "052f2d9630364b08b9832715162df718": {
     "model_module": "@jupyter-widgets/base",
     "model_name": "LayoutModel",
     "state": {
      "_model_module": "@jupyter-widgets/base",
      "_model_module_version": "1.2.0",
      "_model_name": "LayoutModel",
      "_view_count": null,
      "_view_module": "@jupyter-widgets/base",
      "_view_module_version": "1.2.0",
      "_view_name": "LayoutView",
      "align_content": null,
      "align_items": null,
      "align_self": null,
      "border": null,
      "bottom": null,
      "display": null,
      "flex": null,
      "flex_flow": null,
      "grid_area": null,
      "grid_auto_columns": null,
      "grid_auto_flow": null,
      "grid_auto_rows": null,
      "grid_column": null,
      "grid_gap": null,
      "grid_row": null,
      "grid_template_areas": null,
      "grid_template_columns": null,
      "grid_template_rows": null,
      "height": null,
      "justify_content": null,
      "justify_items": null,
      "left": null,
      "margin": null,
      "max_height": null,
      "max_width": null,
      "min_height": null,
      "min_width": null,
      "object_fit": null,
      "object_position": null,
      "order": null,
      "overflow": null,
      "overflow_x": null,
      "overflow_y": null,
      "padding": null,
      "right": null,
      "top": null,
      "visibility": null,
      "width": null
     }
    },
    "1bc14a3664384f9f9375697ae221fbbb": {
     "model_module": "@jupyter-widgets/controls",
     "model_name": "HTMLModel",
     "state": {
      "_dom_classes": [],
      "_model_module": "@jupyter-widgets/controls",
      "_model_module_version": "1.5.0",
      "_model_name": "HTMLModel",
      "_view_count": null,
      "_view_module": "@jupyter-widgets/controls",
      "_view_module_version": "1.5.0",
      "_view_name": "HTMLView",
      "description": "",
      "description_tooltip": null,
      "layout": "IPY_MODEL_8ce7d46164e54e69b01984d66f2730bc",
      "placeholder": "​",
      "style": "IPY_MODEL_3041c8327915440c9833040fb037248f",
      "value": " 10/10 [04:30&lt;00:00, 27.04s/it]"
     }
    },
    "1d61d51e6c994320aeeeb9b26fe176dc": {
     "model_module": "@jupyter-widgets/base",
     "model_name": "LayoutModel",
     "state": {
      "_model_module": "@jupyter-widgets/base",
      "_model_module_version": "1.2.0",
      "_model_name": "LayoutModel",
      "_view_count": null,
      "_view_module": "@jupyter-widgets/base",
      "_view_module_version": "1.2.0",
      "_view_name": "LayoutView",
      "align_content": null,
      "align_items": null,
      "align_self": null,
      "border": null,
      "bottom": null,
      "display": null,
      "flex": null,
      "flex_flow": null,
      "grid_area": null,
      "grid_auto_columns": null,
      "grid_auto_flow": null,
      "grid_auto_rows": null,
      "grid_column": null,
      "grid_gap": null,
      "grid_row": null,
      "grid_template_areas": null,
      "grid_template_columns": null,
      "grid_template_rows": null,
      "height": null,
      "justify_content": null,
      "justify_items": null,
      "left": null,
      "margin": null,
      "max_height": null,
      "max_width": null,
      "min_height": null,
      "min_width": null,
      "object_fit": null,
      "object_position": null,
      "order": null,
      "overflow": null,
      "overflow_x": null,
      "overflow_y": null,
      "padding": null,
      "right": null,
      "top": null,
      "visibility": null,
      "width": null
     }
    },
    "3041c8327915440c9833040fb037248f": {
     "model_module": "@jupyter-widgets/controls",
     "model_name": "DescriptionStyleModel",
     "state": {
      "_model_module": "@jupyter-widgets/controls",
      "_model_module_version": "1.5.0",
      "_model_name": "DescriptionStyleModel",
      "_view_count": null,
      "_view_module": "@jupyter-widgets/base",
      "_view_module_version": "1.2.0",
      "_view_name": "StyleView",
      "description_width": ""
     }
    },
    "36348eabb55e44da8c6768950ae2c31c": {
     "model_module": "@jupyter-widgets/controls",
     "model_name": "ProgressStyleModel",
     "state": {
      "_model_module": "@jupyter-widgets/controls",
      "_model_module_version": "1.5.0",
      "_model_name": "ProgressStyleModel",
      "_view_count": null,
      "_view_module": "@jupyter-widgets/base",
      "_view_module_version": "1.2.0",
      "_view_name": "StyleView",
      "bar_color": null,
      "description_width": "initial"
     }
    },
    "66aea716db514d01879df398c6969272": {
     "model_module": "@jupyter-widgets/controls",
     "model_name": "FloatProgressModel",
     "state": {
      "_dom_classes": [],
      "_model_module": "@jupyter-widgets/controls",
      "_model_module_version": "1.5.0",
      "_model_name": "FloatProgressModel",
      "_view_count": null,
      "_view_module": "@jupyter-widgets/controls",
      "_view_module_version": "1.5.0",
      "_view_name": "ProgressView",
      "bar_style": "success",
      "description": "100%",
      "description_tooltip": null,
      "layout": "IPY_MODEL_052f2d9630364b08b9832715162df718",
      "max": 10,
      "min": 0,
      "orientation": "horizontal",
      "style": "IPY_MODEL_36348eabb55e44da8c6768950ae2c31c",
      "value": 10
     }
    },
    "8ce7d46164e54e69b01984d66f2730bc": {
     "model_module": "@jupyter-widgets/base",
     "model_name": "LayoutModel",
     "state": {
      "_model_module": "@jupyter-widgets/base",
      "_model_module_version": "1.2.0",
      "_model_name": "LayoutModel",
      "_view_count": null,
      "_view_module": "@jupyter-widgets/base",
      "_view_module_version": "1.2.0",
      "_view_name": "LayoutView",
      "align_content": null,
      "align_items": null,
      "align_self": null,
      "border": null,
      "bottom": null,
      "display": null,
      "flex": null,
      "flex_flow": null,
      "grid_area": null,
      "grid_auto_columns": null,
      "grid_auto_flow": null,
      "grid_auto_rows": null,
      "grid_column": null,
      "grid_gap": null,
      "grid_row": null,
      "grid_template_areas": null,
      "grid_template_columns": null,
      "grid_template_rows": null,
      "height": null,
      "justify_content": null,
      "justify_items": null,
      "left": null,
      "margin": null,
      "max_height": null,
      "max_width": null,
      "min_height": null,
      "min_width": null,
      "object_fit": null,
      "object_position": null,
      "order": null,
      "overflow": null,
      "overflow_x": null,
      "overflow_y": null,
      "padding": null,
      "right": null,
      "top": null,
      "visibility": null,
      "width": null
     }
    },
    "edd7ff835b974970acb71b322457f4dc": {
     "model_module": "@jupyter-widgets/controls",
     "model_name": "HBoxModel",
     "state": {
      "_dom_classes": [],
      "_model_module": "@jupyter-widgets/controls",
      "_model_module_version": "1.5.0",
      "_model_name": "HBoxModel",
      "_view_count": null,
      "_view_module": "@jupyter-widgets/controls",
      "_view_module_version": "1.5.0",
      "_view_name": "HBoxView",
      "box_style": "",
      "children": [
       "IPY_MODEL_66aea716db514d01879df398c6969272",
       "IPY_MODEL_1bc14a3664384f9f9375697ae221fbbb"
      ],
      "layout": "IPY_MODEL_1d61d51e6c994320aeeeb9b26fe176dc"
     }
    }
   }
  }
 },
 "nbformat": 4,
 "nbformat_minor": 1
}