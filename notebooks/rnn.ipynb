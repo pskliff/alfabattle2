{
 "cells": [
  {
   "cell_type": "code",
   "execution_count": 1,
   "metadata": {},
   "outputs": [],
   "source": [
    "import tensorflow as tf\n",
    "physical_devices = tf.config.list_physical_devices('GPU')\n",
    "tf.config.experimental.set_memory_growth(physical_devices[0], True)"
   ]
  },
  {
   "cell_type": "code",
   "execution_count": 101,
   "metadata": {},
   "outputs": [],
   "source": [
    "tf.compat.v1.reset_default_graph()\n",
    "tf.keras.backend.clear_session()"
   ]
  },
  {
   "cell_type": "code",
   "execution_count": 102,
   "metadata": {
    "colab": {
     "base_uri": "https://localhost:8080/"
    },
    "id": "IYzwTqaEmeq5",
    "outputId": "99ca16b1-7def-4c74-c8c5-e901e693390f"
   },
   "outputs": [
    {
     "name": "stdout",
     "output_type": "stream",
     "text": [
      "Fri Jan 29 14:14:04 2021       \n",
      "+-----------------------------------------------------------------------------+\n",
      "| NVIDIA-SMI 450.80.02    Driver Version: 450.80.02    CUDA Version: 11.0     |\n",
      "|-------------------------------+----------------------+----------------------+\n",
      "| GPU  Name        Persistence-M| Bus-Id        Disp.A | Volatile Uncorr. ECC |\n",
      "| Fan  Temp  Perf  Pwr:Usage/Cap|         Memory-Usage | GPU-Util  Compute M. |\n",
      "|                               |                      |               MIG M. |\n",
      "|===============================+======================+======================|\n",
      "|   0  GeForce RTX 2080    On   | 00000000:09:00.0 Off |                  N/A |\n",
      "|  0%   31C    P8     2W / 110W |    484MiB /  7982MiB |      0%      Default |\n",
      "|                               |                      |                  N/A |\n",
      "+-------------------------------+----------------------+----------------------+\n",
      "                                                                               \n",
      "+-----------------------------------------------------------------------------+\n",
      "| Processes:                                                                  |\n",
      "|  GPU   GI   CI        PID   Type   Process name                  GPU Memory |\n",
      "|        ID   ID                                                   Usage      |\n",
      "|=============================================================================|\n",
      "+-----------------------------------------------------------------------------+\n"
     ]
    }
   ],
   "source": [
    "gpu_info = !nvidia-smi\n",
    "gpu_info = '\\n'.join(gpu_info)\n",
    "if gpu_info.find('failed') >= 0:\n",
    "  print('Select the Runtime > \"Change runtime type\" menu to enable a GPU accelerator, ')\n",
    "  print('and then re-execute this cell.')\n",
    "else:\n",
    "  print(gpu_info)"
   ]
  },
  {
   "cell_type": "code",
   "execution_count": null,
   "metadata": {},
   "outputs": [],
   "source": []
  },
  {
   "cell_type": "code",
   "execution_count": 4,
   "metadata": {},
   "outputs": [
    {
     "name": "stdout",
     "output_type": "stream",
     "text": [
      "Total 202.74 gigabytes RAM\n",
      "\n",
      "available 125.03 gigabytes RAM\n",
      "\n",
      "free 80.02 gigabytes RAM\n",
      "\n"
     ]
    }
   ],
   "source": [
    "from psutil import virtual_memory\n",
    "vmem = virtual_memory()\n",
    "\n",
    "print('Total {:.2f} gigabytes RAM\\n'.format(virtual_memory().total / 1e9))\n",
    "print('available {:.2f} gigabytes RAM\\n'.format(virtual_memory().available / 1e9))\n",
    "print('free {:.2f} gigabytes RAM\\n'.format(virtual_memory().free / 1e9))"
   ]
  },
  {
   "cell_type": "markdown",
   "metadata": {
    "id": "6aiDV6M2nYs7"
   },
   "source": [
    "# Imports"
   ]
  },
  {
   "cell_type": "code",
   "execution_count": 7,
   "metadata": {
    "id": "bah8Z39qnZVX"
   },
   "outputs": [],
   "source": [
    "import os\n",
    "import sys\n",
    "import gc\n",
    "import random\n",
    "import datetime\n",
    "import pickle\n",
    "import logging\n",
    "import typing as T\n",
    "from typing import (\n",
    "    List, Optional,\n",
    "    Union, Tuple\n",
    ")\n",
    "\n",
    "import numpy as np\n",
    "import pandas as pd\n",
    "import matplotlib.pyplot as plt\n",
    "import seaborn as sns\n",
    "from tqdm.notebook import tqdm\n",
    "from IPython.display import clear_output\n",
    "from sklearn.metrics import accuracy_score, f1_score\n",
    "\n",
    "import tensorflow.keras.layers as L\n",
    "import tensorflow_addons as tfa"
   ]
  },
  {
   "cell_type": "code",
   "execution_count": 10,
   "metadata": {
    "colab": {
     "base_uri": "https://localhost:8080/",
     "height": 35
    },
    "id": "EC-fhd93nZv8",
    "outputId": "ac880f7c-359d-4764-9242-98d52f3cf1f8"
   },
   "outputs": [
    {
     "data": {
      "text/plain": [
       "'2.4.1'"
      ]
     },
     "execution_count": 10,
     "metadata": {},
     "output_type": "execute_result"
    }
   ],
   "source": [
    "tf.__version__"
   ]
  },
  {
   "cell_type": "markdown",
   "metadata": {
    "id": "Mpm5O1yNn6Xj"
   },
   "source": [
    "# Methods"
   ]
  },
  {
   "cell_type": "code",
   "execution_count": 11,
   "metadata": {
    "id": "6dnlMYv9nZx6"
   },
   "outputs": [],
   "source": [
    "def save_pickle(a, filepath):\n",
    "    with open(filepath, 'wb') as handle:\n",
    "        pickle.dump(a, handle, protocol=pickle.HIGHEST_PROTOCOL)\n",
    "        \n",
    "        \n",
    "def load_pickle(filepath):\n",
    "    with open(filepath, 'rb') as handle:\n",
    "        b = pickle.load(handle)\n",
    "        \n",
    "    return b"
   ]
  },
  {
   "cell_type": "code",
   "execution_count": 12,
   "metadata": {
    "id": "N6drTF8g8GKU"
   },
   "outputs": [],
   "source": [
    "def get_full_dataset(\n",
    "    data_path: str,\n",
    "    part_names: T.List[str],\n",
    "    columns: T.Optional[T.List[str]] = None\n",
    "    ) -> pd.DataFrame:\n",
    "    df = pd.DataFrame(columns=columns)\n",
    "    for part in tqdm(part_names):\n",
    "        dft = load_pickle(os.path.join(data_path, part))\n",
    "        if columns:\n",
    "            dft = dft[columns]\n",
    "        df = pd.concat((df, dft))\n",
    "        del dft\n",
    "        collected_gc = gc.collect()\n",
    "        logger.info(f\"Partition read: {part}; gc.collect: {collected_gc}\")\n",
    "    return df.reset_index(drop=True)"
   ]
  },
  {
   "cell_type": "code",
   "execution_count": 13,
   "metadata": {
    "id": "CVW-5trB54kz"
   },
   "outputs": [],
   "source": [
    "def show_df_memory_usage_gb(df: pd.DataFrame): \n",
    "    memory_usage = df.memory_usage(index=True, deep=True).sum() / 1024**3\n",
    "    print(f'RAM memory usage: {round(memory_usage, 4)} Gb')"
   ]
  },
  {
   "cell_type": "markdown",
   "metadata": {
    "id": "24pNK2zun_H0"
   },
   "source": [
    "# Settings"
   ]
  },
  {
   "cell_type": "code",
   "execution_count": 21,
   "metadata": {
    "id": "i-NlXkZxywoW"
   },
   "outputs": [],
   "source": [
    "PROJ_PATH = \"..\"\n",
    "DATA_PATH = os.path.join(PROJ_PATH, \"data\")\n",
    "MODELS_PATH = os.path.join(PROJ_PATH, 'models')\n",
    "\n",
    "PREPROCESSED_DATA_PATH = os.path.join(DATA_PATH, \"preprocessed\")\n",
    "SEQ_DATA_PATH = os.path.join(PREPROCESSED_DATA_PATH, \"sequence\", \"train\")\n",
    "SEQ_TEST_DATA_PATH = os.path.join(PREPROCESSED_DATA_PATH, \"sequence\", \"test\")\n",
    "\n"
   ]
  },
  {
   "cell_type": "code",
   "execution_count": 16,
   "metadata": {
    "id": "zUTQ5BbSqCb3"
   },
   "outputs": [],
   "source": [
    "def seed_everything(seed=42):\n",
    "    random.seed(seed)\n",
    "    os.environ['PYTHONHASHSEED'] = str(seed)\n",
    "    np.random.seed(seed)\n",
    "    tf.random.set_seed(seed)"
   ]
  },
  {
   "cell_type": "code",
   "execution_count": 17,
   "metadata": {
    "id": "khvQVZy7qM6A"
   },
   "outputs": [],
   "source": [
    "SEED = 42\n",
    "seed_everything(seed=SEED)"
   ]
  },
  {
   "cell_type": "code",
   "execution_count": 19,
   "metadata": {
    "id": "Tf3oAQBYnZ85"
   },
   "outputs": [],
   "source": [
    "y_column = 'multi_class_target'"
   ]
  },
  {
   "cell_type": "code",
   "execution_count": 20,
   "metadata": {
    "id": "KgDBBD3dhfyU"
   },
   "outputs": [],
   "source": [
    "logger = logging.getLogger(name=__name__)\n",
    "logging.basicConfig(format = u'%(filename)s[LINE:%(lineno)d] # [%(levelname)-8s] [%(asctime)s]  %(message)s', level = logging.INFO)\n"
   ]
  },
  {
   "cell_type": "markdown",
   "metadata": {
    "id": "xk2QJcHPoP9L"
   },
   "source": [
    "# Get data"
   ]
  },
  {
   "cell_type": "code",
   "execution_count": 22,
   "metadata": {
    "id": "ieGut42t8VV9"
   },
   "outputs": [],
   "source": [
    "part_names = [\n",
    "\"preprocessed_df_april.pickle\",\n",
    "\"preprocessed_df_july.pickle\",\n",
    "\"preprocessed_df_sep.pickle\",\n",
    "                ]"
   ]
  },
  {
   "cell_type": "code",
   "execution_count": 23,
   "metadata": {},
   "outputs": [],
   "source": [
    "cols = ['session_id', 'timestamp', 'client',\n",
    "       'multi_class_target', 'prev_time_diffs_token',\n",
    "       'prev_sess_length_seconds_token', 'prev_target_token', 'prev_net_token',\n",
    "       'prev_event_type_seq_token', 'prev_event_category_seq_token',\n",
    "       'prev_event_device_screen_name_seq_token']"
   ]
  },
  {
   "cell_type": "code",
   "execution_count": 26,
   "metadata": {
    "colab": {
     "base_uri": "https://localhost:8080/",
     "height": 234,
     "referenced_widgets": [
      "ffbfcbb1ce49455d8c695d7344387f93",
      "cb4cff64cae4457086d653534115b3d8",
      "3e04318ec31749f98bb9ae7eed771d1e",
      "01ebdcb1eb9b4b5faa61a911f951eb3e",
      "01ad64b01a90459a850bab3b3861b7d6",
      "e21e9ed798214ffb9c16f72a7c1c0088",
      "a97687f1afa94352b3e7c1438cdbda0c",
      "05f45225adcf4a83b89abf0eb1a59ad1"
     ]
    },
    "id": "Jem-BIdf8VYq",
    "outputId": "675193d9-2c4a-4a5d-ccd9-cdd57a000728"
   },
   "outputs": [
    {
     "data": {
      "application/vnd.jupyter.widget-view+json": {
       "model_id": "afb451bfeec14a83a08eab5bb7a5357f",
       "version_major": 2,
       "version_minor": 0
      },
      "text/plain": [
       "HBox(children=(FloatProgress(value=0.0, max=3.0), HTML(value='')))"
      ]
     },
     "metadata": {},
     "output_type": "display_data"
    },
    {
     "name": "stderr",
     "output_type": "stream",
     "text": [
      "<ipython-input-12-53a93e6578b2>[LINE:14] # [INFO    ] [2021-01-29 13:29:51,841]  Partition read: preprocessed_df_april.pickle; gc.collect: 0\n",
      "<ipython-input-12-53a93e6578b2>[LINE:14] # [INFO    ] [2021-01-29 13:34:06,183]  Partition read: preprocessed_df_july.pickle; gc.collect: 0\n",
      "<ipython-input-12-53a93e6578b2>[LINE:14] # [INFO    ] [2021-01-29 13:38:03,138]  Partition read: preprocessed_df_sep.pickle; gc.collect: 0\n"
     ]
    },
    {
     "name": "stdout",
     "output_type": "stream",
     "text": [
      "\n"
     ]
    }
   ],
   "source": [
    "df = get_full_dataset(\n",
    "    data_path=SEQ_DATA_PATH, part_names=part_names, columns=cols\n",
    ")\n",
    "df.shape"
   ]
  },
  {
   "cell_type": "code",
   "execution_count": 29,
   "metadata": {
    "id": "A0PEcGC3-kDi"
   },
   "outputs": [],
   "source": [
    "df = df.sort_values(by=['client', 'timestamp']).reset_index(drop=True)\n",
    "df_train = df"
   ]
  },
  {
   "cell_type": "markdown",
   "metadata": {},
   "source": [
    "## Test data"
   ]
  },
  {
   "cell_type": "code",
   "execution_count": 31,
   "metadata": {},
   "outputs": [],
   "source": [
    "df_test = load_pickle(os.path.join(SEQ_TEST_DATA_PATH, 'df_test.pickle'))\n",
    "df_test.shape"
   ]
  },
  {
   "cell_type": "markdown",
   "metadata": {
    "id": "r6BS8f77o9Dv"
   },
   "source": [
    "# Get columns"
   ]
  },
  {
   "cell_type": "code",
   "execution_count": 40,
   "metadata": {
    "id": "8lgmyxogt_iW"
   },
   "outputs": [],
   "source": [
    "train_data = {\n",
    "    \"event_types\": np.vstack(df_train['prev_event_type_seq_token']).reshape(-1, 60, 10),\n",
    "    \"event_categories\": np.vstack(df_train['prev_event_category_seq_token']).reshape(-1, 60, 10),\n",
    "    \"screens\": np.vstack(df_train['prev_event_device_screen_name_seq_token']).reshape(-1, 60, 10),\n",
    "    \"targets\": np.vstack(df_train['prev_target_token']),\n",
    "    \"lengths\": np.vstack(df_train['prev_sess_length_seconds_token']),\n",
    "    \"time_diffs\": np.vstack(df_train['prev_time_diffs_token']),\n",
    "    \"nets\": np.vstack(df_train['prev_net_token'])\n",
    "}"
   ]
  },
  {
   "cell_type": "code",
   "execution_count": 42,
   "metadata": {
    "id": "ksRMO0Ldt_lP"
   },
   "outputs": [],
   "source": [
    "test_data = {\n",
    "    \"event_types\": np.vstack(df_test['prev_event_type_seq_token']).reshape(-1, 60, 10),\n",
    "    \"event_categories\": np.vstack(df_test['prev_event_category_seq_token']).reshape(-1, 60, 10),\n",
    "    \"screens\": np.vstack(df_test['prev_event_device_screen_name_seq_token']).reshape(-1, 60, 10),\n",
    "    \"targets\": np.vstack(df_test['prev_target_token']),\n",
    "    \"lengths\": np.vstack(df_test['prev_sess_length_seconds_token']),\n",
    "    \"time_diffs\": np.vstack(df_test['prev_time_diffs_token']),\n",
    "    \"nets\": np.vstack(df_test['prev_net_token'])\n",
    "}"
   ]
  },
  {
   "cell_type": "markdown",
   "metadata": {
    "id": "OwkQJtRrptiU"
   },
   "source": [
    "## Target"
   ]
  },
  {
   "cell_type": "code",
   "execution_count": 43,
   "metadata": {
    "id": "dkqY2baCpEQo"
   },
   "outputs": [],
   "source": [
    "y_train = np.array(df_train[y_column])"
   ]
  },
  {
   "cell_type": "markdown",
   "metadata": {
    "id": "tDZ6CzFjpwln"
   },
   "source": [
    "# Preprocess labels"
   ]
  },
  {
   "cell_type": "code",
   "execution_count": 45,
   "metadata": {},
   "outputs": [],
   "source": [
    "label_encoders = load_pickle(\n",
    "    os.path.join(\n",
    "        PREPROCESSED_DATA_PATH, \"mappers\", \"label_encoders_from_pop_vals_50k.pickle\"\n",
    "        )\n",
    "    )"
   ]
  },
  {
   "cell_type": "code",
   "execution_count": 44,
   "metadata": {
    "colab": {
     "base_uri": "https://localhost:8080/"
    },
    "id": "5A8TDSyNpv0z",
    "outputId": "63d733a6-c354-4b6e-df2b-479e34bc7616"
   },
   "outputs": [
    {
     "name": "stdout",
     "output_type": "stream",
     "text": [
      "{0: 0, 1: 1, 2: 2, 3: 3, 4: 4, 5: 5, 6: 6, 7: 8, 8: 9, 9: 10}\n"
     ]
    }
   ],
   "source": [
    "label_list = list(np.unique(y_train))\n",
    "label_map = {label: i for i, label in enumerate(label_list)}\n",
    "reverse_label_map = {i: label for label, i in label_map.items()}\n",
    "print(reverse_label_map)\n",
    "label_map_func = lambda label: label_map[label]\n",
    "\n",
    "y_train = np.array(list(map(label_map_func, y_train)))\n",
    "\n",
    "y_train_ohe = tf.keras.utils.to_categorical(y_train)"
   ]
  },
  {
   "cell_type": "code",
   "execution_count": 47,
   "metadata": {},
   "outputs": [],
   "source": [
    "y_test_true = label_encoders['multi_class_target'].transform(df_test['target'])\n",
    "y_tst = np.array(list(map(label_map_func, y_test_true)))\n",
    "y_test_ohe = tf.keras.utils.to_categorical(y_tst)"
   ]
  },
  {
   "cell_type": "markdown",
   "metadata": {
    "id": "n7jnalJfqDfa"
   },
   "source": [
    "# Model"
   ]
  },
  {
   "cell_type": "markdown",
   "metadata": {
    "id": "dydXNzxsqFXU"
   },
   "source": [
    "## Time embedding"
   ]
  },
  {
   "cell_type": "code",
   "execution_count": 48,
   "metadata": {
    "id": "9fe2WUJMpEcZ"
   },
   "outputs": [],
   "source": [
    "class TimeEmbedding(L.Layer):\n",
    "    def __init__(self, hidden_embedding_size, output_dim, **kwargs):\n",
    "        super(TimeEmbedding, self).__init__(**kwargs)\n",
    "        self.output_dim = output_dim\n",
    "        self.hidden_embedding_size = hidden_embedding_size\n",
    "\n",
    "\n",
    "    def build(self, input_shape):\n",
    "        self.emb_weights = self.add_weight(name='weights', shape=(self.hidden_embedding_size,), initializer='uniform',\n",
    "                                           trainable=True)\n",
    "        self.emb_biases = self.add_weight(name='biases', shape=(self.hidden_embedding_size,), initializer='uniform',\n",
    "                                          trainable=True)\n",
    "        self.emb_final = self.add_weight(name='embedding_matrix', shape=(self.hidden_embedding_size, self.output_dim),\n",
    "                                         initializer='uniform', trainable=True)\n",
    "\n",
    "\n",
    "    def call(self, x):\n",
    "        x = tf.keras.backend.expand_dims(x)\n",
    "        x = tf.keras.activations.softmax(x * self.emb_weights + self.emb_biases)\n",
    "        x = tf.einsum('bsv,vi->bsi', x, self.emb_final)\n",
    "        return x\n",
    "\n",
    "\n",
    "    def get_config(self):\n",
    "        config = super(TimeEmbedding, self).get_config()\n",
    "        config.update({'time_dims': self.output_dim, 'hidden_embedding_size': self.hidden_embedding_size})\n",
    "        return config\n"
   ]
  },
  {
   "cell_type": "markdown",
   "metadata": {
    "id": "vQ9f-AuoqQGh"
   },
   "source": [
    "## Basic embedding"
   ]
  },
  {
   "cell_type": "code",
   "execution_count": 50,
   "metadata": {
    "id": "rfkIGn80pEXk"
   },
   "outputs": [],
   "source": [
    "class BasicEmbedding(L.Layer):\n",
    "    def __init__(\n",
    "        self,\n",
    "        vocab_size: int,\n",
    "        embed_size: int,\n",
    "        embedding_matrix: np.ndarray = None,\n",
    "        is_embedding_trainable: bool = False,\n",
    "        **kwargs\n",
    "    ):\n",
    "        super(BasicEmbedding, self).__init__(**kwargs)\n",
    "        self.vocab_size = vocab_size\n",
    "        self.embed_size = embed_size\n",
    "        self.embedding_matrix = embedding_matrix\n",
    "        self.is_embedding_trainable = is_embedding_trainable\n",
    "\n",
    "\n",
    "    def build(self, input_shape):\n",
    "        input_length = input_shape[-1]\n",
    "        if self.embedding_matrix is None:\n",
    "            self.embedding = L.Embedding(\n",
    "                input_dim=self.vocab_size,\n",
    "                output_dim=self.embed_size,\n",
    "                input_length=input_length\n",
    "            )\n",
    "        else:\n",
    "            self.embedding = L.Embedding(\n",
    "                input_dim=self.vocab_size,\n",
    "                output_dim=self.embed_size,\n",
    "                weights=[self.embedding_matrix],\n",
    "                mask_zero=False,\n",
    "                trainable=self.is_embedding_trainable,\n",
    "                input_length=input_length\n",
    "            )\n",
    "        \n",
    "\n",
    "\n",
    "    def call(self, input_tensor, training=False):\n",
    "        x = self.embedding(input_tensor, training=training)\n",
    "        return x\n"
   ]
  },
  {
   "cell_type": "markdown",
   "metadata": {
    "id": "3V7_yv5LqZKA"
   },
   "source": [
    "## Event embedding"
   ]
  },
  {
   "cell_type": "code",
   "execution_count": 52,
   "metadata": {
    "id": "6L6S091RqM6u"
   },
   "outputs": [],
   "source": [
    "class EventEmbedding(BasicEmbedding):\n",
    "    def __init__(\n",
    "        self,\n",
    "        vocab_size: int,\n",
    "        embed_size: int,\n",
    "        embedding_matrix: np.ndarray = None,\n",
    "        is_embedding_trainable: bool = False,\n",
    "        **kwargs\n",
    "    ):\n",
    "        super(EventEmbedding, self).__init__(\n",
    "            vocab_size,\n",
    "            embed_size,\n",
    "            embedding_matrix,\n",
    "            is_embedding_trainable,\n",
    "            **kwargs\n",
    "        )    \n",
    "\n",
    "\n",
    "    def call(self, input_tensor, training=False):\n",
    "        x = self.embedding(input_tensor, training=training)\n",
    "        # x = tf.reduce_mean(x, axis=2)\n",
    "        # x = tf.concat(x, axis=2)\n",
    "        concat_shape = [-1] + [x.shape[1]] + [x.shape[2]*x.shape[3]]\n",
    "        x = tf.reshape(x, concat_shape)\n",
    "        return x\n"
   ]
  },
  {
   "cell_type": "markdown",
   "metadata": {},
   "source": [
    "## Embeddings class"
   ]
  },
  {
   "cell_type": "code",
   "execution_count": 70,
   "metadata": {},
   "outputs": [],
   "source": [
    "class ContextSessionEmbeddings(L.Layer):\n",
    "    def __init__(\n",
    "        self,\n",
    "        event_type_vocab_size: int,\n",
    "        event_category_vocab_size: int,\n",
    "        screens_vocab_size: int,\n",
    "        target_vocab_size: int,\n",
    "        net_vocab_size: int,\n",
    "        time_projection_size: int,\n",
    "        embed_size: int,\n",
    "        reduced_embed_size: int,\n",
    "        dropout_rate: float = 0.2,\n",
    "        layer_norm_eps: float = 1e-12,\n",
    "        **kwargs\n",
    "    ):\n",
    "        super(ContextSessionEmbeddings, self).__init__(**kwargs)\n",
    "        \n",
    "        # events\n",
    "        self.event_type_embedding = EventEmbedding(\n",
    "            vocab_size=event_type_vocab_size,\n",
    "            embed_size=embed_size,\n",
    "            embedding_matrix=None,\n",
    "            is_embedding_trainable=True\n",
    "        )\n",
    "        self.event_category_embedding = EventEmbedding(\n",
    "            vocab_size=event_category_vocab_size,\n",
    "            embed_size=embed_size,\n",
    "            embedding_matrix=None,\n",
    "            is_embedding_trainable=True\n",
    "        )\n",
    "        self.screen_embedding = EventEmbedding(\n",
    "            vocab_size=screens_vocab_size,\n",
    "            embed_size=embed_size,\n",
    "            embedding_matrix=None,\n",
    "            is_embedding_trainable=True\n",
    "        )\n",
    "        \n",
    "        \n",
    "        # aka texts\n",
    "        self.target_embedding = BasicEmbedding(\n",
    "            vocab_size=target_vocab_size,\n",
    "            embed_size=embed_size,\n",
    "            embedding_matrix=None,\n",
    "            is_embedding_trainable=True\n",
    "        )\n",
    "        self.net_embedding = BasicEmbedding(\n",
    "            vocab_size=net_vocab_size,\n",
    "            embed_size=embed_size,\n",
    "            embedding_matrix=None,\n",
    "            is_embedding_trainable=True\n",
    "        )\n",
    "        \n",
    "        \n",
    "        # Time\n",
    "        self.time_diff_embedding = TimeEmbedding(\n",
    "            hidden_embedding_size=time_projection_size,\n",
    "            output_dim=embed_size\n",
    "        )\n",
    "        self.time_embedding = TimeEmbedding(\n",
    "            hidden_embedding_size=time_projection_size,\n",
    "            output_dim=embed_size\n",
    "        )\n",
    "        \n",
    "        \n",
    "        # Projection\n",
    "        self.dense_reduction = L.Dense(reduced_embed_size, activation='linear')\n",
    "        self.layer_norm = L.LayerNormalization(epsilon=layer_norm_eps)\n",
    "        self.embed_dropout = L.Dropout(dropout_rate)\n",
    "        \n",
    "\n",
    "    def call(self, input_dict, training=False):\n",
    "        ## get cols\n",
    "        \n",
    "        # events\n",
    "        event_types = input_dict[\"event_types\"]\n",
    "        event_categories = input_dict[\"event_categories\"]\n",
    "        screens = input_dict[\"screens\"]\n",
    "        \n",
    "        # texts\n",
    "        targets = input_dict[\"targets\"]\n",
    "        nets = input_dict[\"nets\"]\n",
    "        \n",
    "        # nums\n",
    "        lengths = input_dict[\"lengths\"]\n",
    "        time_diffs = input_dict[\"time_diffs\"]\n",
    "        \n",
    "        \n",
    "        ## Get tensors\n",
    "        # lists\n",
    "        event_type_embs = self.event_type_embedding(event_types, training=training)\n",
    "        event_category_embs = self.event_category_embedding(event_categories, training=training)\n",
    "        screen_embs = self.screen_embedding(screens, training=training)\n",
    "\n",
    "        # texts\n",
    "        target_embs = self.target_embedding(targets, training=training)\n",
    "        net_embs = self.net_embedding(nets, training=training)\n",
    "        \n",
    "        # nums\n",
    "        time_embs = self.time_embedding(lengths, training=training)\n",
    "        time_diff_embs = self.time_diff_embedding(time_diffs, training=training)\n",
    "        \n",
    "        \n",
    "        ## concat\n",
    "        embs = tf.concat([\n",
    "                          event_type_embs, event_category_embs, screen_embs,\n",
    "                            target_embs, net_embs, time_embs,\n",
    "                          time_diff_embs\n",
    "                          ], axis=2)\n",
    "        \n",
    "        ## project\n",
    "        x = self.dense_reduction(embs, training=training)\n",
    "        x = self.layer_norm(x, training=training)\n",
    "        x = self.embed_dropout(x, training=training)\n",
    "        \n",
    "        return x"
   ]
  },
  {
   "cell_type": "markdown",
   "metadata": {
    "id": "GCRz7KPmqjIH"
   },
   "source": [
    "## ContextSessionLstmAvg model"
   ]
  },
  {
   "cell_type": "code",
   "execution_count": 71,
   "metadata": {
    "id": "UlUJCFWxsk1k"
   },
   "outputs": [],
   "source": [
    "class ContextSessionLstmAvg(tf.keras.Model):\n",
    "    def __init__(\n",
    "        self,\n",
    "        event_type_vocab_size: int,\n",
    "        event_category_vocab_size: int,\n",
    "        screens_vocab_size: int,\n",
    "        target_vocab_size: int,\n",
    "        net_vocab_size: int,\n",
    "        time_projection_size: int,\n",
    "        embed_size: int,\n",
    "        reduced_embed_size: int,\n",
    "        output_size: int,\n",
    "        lstm_units: int,\n",
    "        dense_units: int,\n",
    "        dropout_rate: float = 0.2,\n",
    "        activation: str = 'relu'\n",
    "    ):\n",
    "        super(ContextSessionLstmAvg, self).__init__()\n",
    "        \n",
    "        self.embedder = ContextSessionEmbeddings(\n",
    "            event_type_vocab_size=event_type_vocab_size,\n",
    "            event_category_vocab_size=event_category_vocab_size,\n",
    "            screens_vocab_size=screens_vocab_size,\n",
    "            target_vocab_size=target_vocab_size,\n",
    "            net_vocab_size=net_vocab_size,\n",
    "            time_projection_size=time_projection_size,\n",
    "            embed_size=embed_size,\n",
    "            reduced_embed_size=reduced_embed_size,\n",
    "            dropout_rate=dropout_rate,\n",
    "            layer_norm_eps=1e-12\n",
    "        )\n",
    "        \n",
    "        self.sess_lstm = L.Bidirectional(L.LSTM(lstm_units, return_sequences=True))\n",
    "        self.lstm = L.Bidirectional(L.LSTM(lstm_units, return_sequences=True))    \n",
    "        self.global_avg_pool = L.GlobalAveragePooling1D()\n",
    "        self.dense = L.Dense(dense_units, activation=activation)\n",
    "        self.dropout = L.Dropout(dropout_rate)\n",
    "        self.head = L.Dense(output_size)\n",
    "    \n",
    "    \n",
    "    \n",
    "    def call(self, input_dict, training=False):\n",
    "        embeddings = self.embedder(input_dict, training=training)\n",
    "        x = self.sess_lstm(embeddings, training=training)\n",
    "        x = self.lstm(x, training=training)\n",
    "        x = self.global_avg_pool(x, training=training)\n",
    "        x = self.dense(x, training=training)\n",
    "        x = self.dropout(x, training=training)\n",
    "        x = self.head(x, training=training)\n",
    "        return x\n",
    "    \n"
   ]
  },
  {
   "cell_type": "markdown",
   "metadata": {
    "id": "bIb1dKLcqvYG"
   },
   "source": [
    "# Train model"
   ]
  },
  {
   "cell_type": "markdown",
   "metadata": {
    "id": "4JCI-xykq32t"
   },
   "source": [
    "## Create model"
   ]
  },
  {
   "cell_type": "code",
   "execution_count": 112,
   "metadata": {},
   "outputs": [
    {
     "name": "stdout",
     "output_type": "stream",
     "text": [
      "Fri Jan 29 14:21:07 2021       \n",
      "+-----------------------------------------------------------------------------+\n",
      "| NVIDIA-SMI 450.80.02    Driver Version: 450.80.02    CUDA Version: 11.0     |\n",
      "|-------------------------------+----------------------+----------------------+\n",
      "| GPU  Name        Persistence-M| Bus-Id        Disp.A | Volatile Uncorr. ECC |\n",
      "| Fan  Temp  Perf  Pwr:Usage/Cap|         Memory-Usage | GPU-Util  Compute M. |\n",
      "|                               |                      |               MIG M. |\n",
      "|===============================+======================+======================|\n",
      "|   0  GeForce RTX 2080    On   | 00000000:09:00.0 Off |                  N/A |\n",
      "|  0%   36C    P8     2W / 110W |   1130MiB /  7982MiB |      0%      Default |\n",
      "|                               |                      |                  N/A |\n",
      "+-------------------------------+----------------------+----------------------+\n",
      "                                                                               \n",
      "+-----------------------------------------------------------------------------+\n",
      "| Processes:                                                                  |\n",
      "|  GPU   GI   CI        PID   Type   Process name                  GPU Memory |\n",
      "|        ID   ID                                                   Usage      |\n",
      "|=============================================================================|\n",
      "+-----------------------------------------------------------------------------+\n"
     ]
    }
   ],
   "source": [
    "tf.compat.v1.reset_default_graph()\n",
    "tf.keras.backend.clear_session()\n",
    "\n",
    "gpu_info = !nvidia-smi\n",
    "gpu_info = '\\n'.join(gpu_info)\n",
    "if gpu_info.find('failed') >= 0:\n",
    "  print('Select the Runtime > \"Change runtime type\" menu to enable a GPU accelerator, ')\n",
    "  print('and then re-execute this cell.')\n",
    "else:\n",
    "  print(gpu_info)"
   ]
  },
  {
   "cell_type": "code",
   "execution_count": 113,
   "metadata": {},
   "outputs": [],
   "source": [
    "embedding_args = dict(\n",
    "        event_type_vocab_size=8,\n",
    "        event_category_vocab_size=66,\n",
    "        screens_vocab_size=131,\n",
    "        target_vocab_size=12,\n",
    "        net_vocab_size=14,\n",
    "        time_projection_size=32,\n",
    "        embed_size=64,\n",
    "        reduced_embed_size=256,\n",
    "        dropout_rate=0.2\n",
    ")\n",
    "model_args = dict(\n",
    "    output_size=10,\n",
    "    lstm_units=64,\n",
    "    dense_units=64,\n",
    "    activation='relu'\n",
    ")\n",
    "\n",
    "args = {**embedding_args, **model_args}\n",
    "\n",
    "sess_model = ContextSessionLstmAvg(\n",
    "        **args\n",
    ")\n",
    "labels = np.unique(y_train)"
   ]
  },
  {
   "cell_type": "code",
   "execution_count": 78,
   "metadata": {},
   "outputs": [],
   "source": [
    "class_popularity_max = pd.Series(y_train).value_counts().max()\n",
    "class_popularity = pd.Series(y_train).value_counts()"
   ]
  },
  {
   "cell_type": "code",
   "execution_count": 80,
   "metadata": {},
   "outputs": [],
   "source": [
    "class_weights = dict((class_popularity_max/ class_popularity) ** 0.4)\n",
    "class_weights"
   ]
  },
  {
   "cell_type": "markdown",
   "metadata": {
    "id": "nNkHbMRtq7Dh"
   },
   "source": [
    "## Compile model"
   ]
  },
  {
   "cell_type": "code",
   "execution_count": 115,
   "metadata": {
    "id": "szYF_-F3qNeM"
   },
   "outputs": [],
   "source": [
    "LR = 1e-3\n",
    "EPSILON = 1e-08\n",
    "\n",
    "\n",
    "loss_fn = tf.keras.losses.CategoricalCrossentropy(from_logits=True)\n",
    "\n",
    "# 1-1; 2-3; 4-7; 8-15; 16-31;\n",
    "scheduler = tf.keras.experimental.CosineDecayRestarts(\n",
    "    initial_learning_rate=LR,\n",
    "    first_decay_steps=3907,\n",
    "    t_mul=2.0, m_mul=1.0, alpha=0.0\n",
    ")\n",
    "optimizer = tf.keras.optimizers.Adam(learning_rate=LR, epsilon=EPSILON)\n",
    "reduce_lr = tf.keras.callbacks.ReduceLROnPlateau(monitor='val_loss', factor=0.6,\n",
    "                              patience=1, min_lr=1e-7, verbose=1)\n",
    "\n",
    "\n",
    "acc_metric = tf.keras.metrics.CategoricalAccuracy(name='categorical_accuracy')\n",
    "acc_k_metric = tf.keras.metrics.TopKCategoricalAccuracy(k=3)\n",
    "\n",
    "\n",
    "f1_metric_macro = tfa.metrics.F1Score(num_classes=len(labels), average='macro', name='f1_macro', )\n",
    "f1_metric_weighted = tfa.metrics.F1Score(num_classes=len(labels), average='weighted', name='f1_weight')\n",
    "\n",
    "sess_model.compile(\n",
    "    optimizer=optimizer,\n",
    "    loss=loss_fn,\n",
    "    metrics=[\n",
    "        acc_metric,\n",
    "        acc_k_metric,\n",
    "        f1_metric_macro,\n",
    "        f1_metric_weighted\n",
    "    ])\n"
   ]
  },
  {
   "cell_type": "markdown",
   "metadata": {
    "id": "rAHDncbDrA4i"
   },
   "source": [
    "## Fit model"
   ]
  },
  {
   "cell_type": "code",
   "execution_count": 116,
   "metadata": {
    "id": "ansiDA9Qk1kq"
   },
   "outputs": [],
   "source": [
    "logdir = os.path.join(\"logs\", datetime.datetime.now().strftime(\"%Y%m%d-%H%M%S\"))\n",
    "tensorboard_callback = tf.keras.callbacks.TensorBoard(logdir, histogram_freq=1)"
   ]
  },
  {
   "cell_type": "code",
   "execution_count": null,
   "metadata": {
    "colab": {
     "base_uri": "https://localhost:8080/"
    },
    "id": "-paY3aAKqNil",
    "outputId": "ad420f57-4cc0-4034-ada6-956a6aaa72b5"
   },
   "outputs": [
    {
     "name": "stdout",
     "output_type": "stream",
     "text": [
      "Epoch 1/5\n",
      "19787/19787 [==============================] - 1616s 81ms/step - loss: 2.2883 - categorical_accuracy: 0.5691 - top_k_categorical_accuracy: 0.8573 - f1_macro: 0.4427 - f1_weight: 0.5642 - val_loss: 1.3851 - val_categorical_accuracy: 0.5240 - val_top_k_categorical_accuracy: 0.8296 - val_f1_macro: 0.3988 - val_f1_weight: 0.5192\n",
      "Epoch 2/5\n",
      "19787/19787 [==============================] - 1604s 81ms/step - loss: 2.2051 - categorical_accuracy: 0.5823 - top_k_categorical_accuracy: 0.8666 - f1_macro: 0.4592 - f1_weight: 0.5779 - val_loss: 1.3637 - val_categorical_accuracy: 0.5335 - val_top_k_categorical_accuracy: 0.8337 - val_f1_macro: 0.4027 - val_f1_weight: 0.5219\n",
      "Epoch 3/5\n",
      "19787/19787 [==============================] - 1605s 81ms/step - loss: 2.1899 - categorical_accuracy: 0.5848 - top_k_categorical_accuracy: 0.8679 - f1_macro: 0.4625 - f1_weight: 0.5803 - val_loss: 1.3714 - val_categorical_accuracy: 0.5295 - val_top_k_categorical_accuracy: 0.8313 - val_f1_macro: 0.3991 - val_f1_weight: 0.5200\n",
      "\n",
      "Epoch 00003: ReduceLROnPlateau reducing learning rate to 0.0006000000284984708.\n",
      "Epoch 4/5\n",
      "19787/19787 [==============================] - 1606s 81ms/step - loss: 2.1759 - categorical_accuracy: 0.5870 - top_k_categorical_accuracy: 0.8697 - f1_macro: 0.4653 - f1_weight: 0.5826 - val_loss: 1.3670 - val_categorical_accuracy: 0.5313 - val_top_k_categorical_accuracy: 0.8329 - val_f1_macro: 0.3980 - val_f1_weight: 0.5188\n",
      "\n",
      "Epoch 00004: ReduceLROnPlateau reducing learning rate to 0.0003600000170990825.\n",
      "Epoch 5/5\n",
      " 5020/19787 [======>.......................] - ETA: 19:49 - loss: 2.1705 - categorical_accuracy: 0.5877 - top_k_categorical_accuracy: 0.8704 - f1_macro: 0.4652 - f1_weight: 0.5832"
     ]
    }
   ],
   "source": [
    "EPOCHS = 5\n",
    "BATCH_SIZE = 256\n",
    "EVAL_BATCH_SIZE = BATCH_SIZE\n",
    "\n",
    "history = sess_model.fit(train_data,\n",
    "          y_train_ohe,\n",
    "          batch_size=BATCH_SIZE,\n",
    "          validation_batch_size=EVAL_BATCH_SIZE,\n",
    "          epochs=EPOCHS,\n",
    "          validation_data=(test_data, y_test_ohe),\n",
    "          verbose = 1,\n",
    "          shuffle=True,\n",
    "          class_weight=class_weights,\n",
    "          callbacks=[tensorboard_callback, reduce_lr]) #, reduce_lr"
   ]
  },
  {
   "cell_type": "code",
   "execution_count": null,
   "metadata": {
    "colab": {
     "base_uri": "https://localhost:8080/"
    },
    "id": "k-nBHyvOqNnr",
    "outputId": "f5effc2a-c584-43a6-ad03-fad6119ca926"
   },
   "outputs": [
    {
     "name": "stdout",
     "output_type": "stream",
     "text": [
      "Model: \"context_session_lstm_avg_5\"\n",
      "_________________________________________________________________\n",
      "Layer (type)                 Output Shape              Param #   \n",
      "=================================================================\n",
      "event_embedding_5 (EventEmbe multiple                  13376     \n",
      "_________________________________________________________________\n",
      "basic_embedding_5 (BasicEmbe multiple                  768       \n",
      "_________________________________________________________________\n",
      "time_embedding_5 (TimeEmbedd multiple                  2112      \n",
      "_________________________________________________________________\n",
      "dense_12 (Dense)             multiple                  230700    \n",
      "_________________________________________________________________\n",
      "layer_normalization_1 (Layer multiple                  600       \n",
      "_________________________________________________________________\n",
      "bidirectional_5 (Bidirection multiple                  186880    \n",
      "_________________________________________________________________\n",
      "bidirectional_6 (Bidirection multiple                  98816     \n",
      "_________________________________________________________________\n",
      "global_average_pooling1d_5 ( multiple                  0         \n",
      "_________________________________________________________________\n",
      "dense_13 (Dense)             multiple                  8256      \n",
      "_________________________________________________________________\n",
      "dropout_5 (Dropout)          multiple                  0         \n",
      "_________________________________________________________________\n",
      "dense_14 (Dense)             multiple                  650       \n",
      "=================================================================\n",
      "Total params: 542,158\n",
      "Trainable params: 542,158\n",
      "Non-trainable params: 0\n",
      "_________________________________________________________________\n"
     ]
    }
   ],
   "source": [
    "sess_model.summary()"
   ]
  },
  {
   "cell_type": "markdown",
   "metadata": {
    "id": "v-9HKJrgrH1H"
   },
   "source": [
    "# Validate"
   ]
  },
  {
   "cell_type": "code",
   "execution_count": null,
   "metadata": {
    "id": "fkIOx3YZvSIC"
   },
   "outputs": [],
   "source": [
    "y_pred = sess_model.predict(dev_data)"
   ]
  },
  {
   "cell_type": "code",
   "execution_count": null,
   "metadata": {
    "id": "JID00IdxvZHk"
   },
   "outputs": [],
   "source": [
    "y_pred = y_pred.argmax(axis=1)"
   ]
  },
  {
   "cell_type": "code",
   "execution_count": null,
   "metadata": {
    "colab": {
     "base_uri": "https://localhost:8080/"
    },
    "id": "sdqPZhaxqNhV",
    "outputId": "6e75d2d8-e068-4c42-ef32-a6ed80fb27b9"
   },
   "outputs": [
    {
     "data": {
      "text/plain": [
       "0.5383166155605218"
      ]
     },
     "execution_count": 111,
     "metadata": {
      "tags": []
     },
     "output_type": "execute_result"
    }
   ],
   "source": [
    "accuracy_score(y_dev, y_pred)"
   ]
  },
  {
   "cell_type": "code",
   "execution_count": null,
   "metadata": {
    "colab": {
     "base_uri": "https://localhost:8080/"
    },
    "id": "iCmF5x6WqNb9",
    "outputId": "111225df-0cc8-4a6c-d933-f60a353199ae"
   },
   "outputs": [
    {
     "data": {
      "text/plain": [
       "0.41616054990688933"
      ]
     },
     "execution_count": 112,
     "metadata": {
      "tags": []
     },
     "output_type": "execute_result"
    }
   ],
   "source": [
    "f1_score(y_dev, y_pred, average='macro')"
   ]
  },
  {
   "cell_type": "markdown",
   "metadata": {
    "id": "N3eOKeLB5HvT"
   },
   "source": [
    "# Plot"
   ]
  },
  {
   "cell_type": "code",
   "execution_count": null,
   "metadata": {
    "id": "pRkc-lqb5GzC"
   },
   "outputs": [],
   "source": [
    "from typing import Union, Optional, Tuple, Any\n",
    "import pandas as pd\n",
    "import numpy as np\n",
    "import matplotlib.pyplot as plt\n",
    "import seaborn as sns\n",
    "from sklearn.metrics import confusion_matrix\n",
    "\n",
    "\n",
    "class ConfusionMatrixPlotter():\n",
    "\n",
    "    def plot(\n",
    "        self,\n",
    "        y_true: Union[np.ndarray, list],\n",
    "        y_pred: Union[np.ndarray, list],\n",
    "        labels: Union[np.ndarray, list],\n",
    "        dpi: Optional[int] = 150,\n",
    "        figsize: Optional[Tuple[int, int]] = (18, 15),\n",
    "        filepath: Optional[str] = None,\n",
    "        normalize: Optional[bool] = True,\n",
    "        ax: Optional[Any] = None\n",
    "        ):\n",
    "        \"\"\"Plots confusion matrix\n",
    "\n",
    "        Parameters\n",
    "        ----------\n",
    "        y_true : Union[np.ndarray, list]\n",
    "        y_pred : Union[np.ndarray, list]\n",
    "        labels : Union[np.ndarray, list]\n",
    "            class names to write on axes\n",
    "        dpi : Optional[int], optional\n",
    "            by default 150\n",
    "        figsize : Optional[Tuple[int, int]], optional\n",
    "            by default (18, 15)\n",
    "        filepath : Optional[str], optional\n",
    "            to save figure, if None then figure is not saved, by default None\n",
    "        normalize : Optional[bool], optional\n",
    "            normalize matrix values by rows or not, by default True\n",
    "        ax : Optional[Any], optional\n",
    "            by default None\n",
    "        \"\"\"\n",
    "        cm = confusion_matrix(y_true, y_pred, labels=labels)\n",
    "        if normalize:\n",
    "            cm = cm.astype('float') / cm.sum(axis=1)[:, np.newaxis]\n",
    "        cm_df = pd.DataFrame(cm, labels, labels)\n",
    "        \n",
    "        if not ax:\n",
    "            plt.figure(figsize=figsize, dpi=dpi)\n",
    "\n",
    "        if filepath is not None:\n",
    "            sns.heatmap(cm_df, annot=True, fmt='.1g', cmap=sns.color_palette(\"Blues\"), ax=ax);\n",
    "        else:\n",
    "            sns.heatmap(cm_df, annot=True, cmap=sns.color_palette(\"Blues\"), ax=ax)\n",
    "        \n",
    "        if not ax:\n",
    "            plt.yticks(rotation=0)\n",
    "        else:\n",
    "            ax.tick_params(axis='y', rotation=0)\n",
    "        \n",
    "        if filepath is not None:\n",
    "            plt.savefig(filepath)"
   ]
  },
  {
   "cell_type": "code",
   "execution_count": null,
   "metadata": {
    "id": "pjItTnEs5G33"
   },
   "outputs": [],
   "source": []
  },
  {
   "cell_type": "code",
   "execution_count": null,
   "metadata": {
    "id": "Gom_Tsx55G12"
   },
   "outputs": [],
   "source": []
  },
  {
   "cell_type": "code",
   "execution_count": null,
   "metadata": {
    "id": "lNWt49Nb5Gwz"
   },
   "outputs": [],
   "source": []
  },
  {
   "cell_type": "code",
   "execution_count": null,
   "metadata": {
    "id": "6R0RLK0JqNYa"
   },
   "outputs": [],
   "source": [
    "\n",
    "y_dev_txt = np.array(list(map(lambda x: reverse_label_map[x], y_dev)))\n",
    "y_pred_txt = np.array(list(map(lambda x: reverse_label_map[x], y_pred)))\n",
    "\n"
   ]
  },
  {
   "cell_type": "code",
   "execution_count": null,
   "metadata": {
    "id": "i5dyEKkTqNTZ"
   },
   "outputs": [],
   "source": [
    "\n",
    "cm = ConfusionMatrixPlotter()\n"
   ]
  },
  {
   "cell_type": "code",
   "execution_count": null,
   "metadata": {
    "colab": {
     "base_uri": "https://localhost:8080/",
     "height": 664
    },
    "id": "QlqpLHH0qNM9",
    "outputId": "5930f9f0-8216-4ee8-cf84-724c7b7c5e4a"
   },
   "outputs": [
    {
     "data": {
      "image/png": "[encoded data removed]",
      "text/plain": [
       "<Figure size 900x800 with 2 Axes>"
      ]
     },
     "metadata": {
      "needs_background": "light",
      "tags": []
     },
     "output_type": "display_data"
    }
   ],
   "source": [
    "cm.plot(y_true=y_dev_txt, y_pred=y_pred_txt, labels=label_list, normalize=True, figsize=(9, 8), dpi=100)\n"
   ]
  },
  {
   "cell_type": "code",
   "execution_count": null,
   "metadata": {
    "id": "_4lFSlhHMPQx"
   },
   "outputs": [],
   "source": []
  }
 ],
 "metadata": {
  "accelerator": "GPU",
  "colab": {
   "collapsed_sections": [
    "dX42Vh2up-wO",
    "dydXNzxsqFXU",
    "vQ9f-AuoqQGh",
    "3V7_yv5LqZKA",
    "GCRz7KPmqjIH"
   ],
   "machine_shape": "hm",
   "name": "matrix_data_seq_on_seq_all_parts.ipynb",
   "provenance": []
  },
  "kernelspec": {
   "display_name": "Python 3",
   "language": "python",
   "name": "python3"
  },
  "language_info": {
   "codemirror_mode": {
    "name": "ipython",
    "version": 3
   },
   "file_extension": ".py",
   "mimetype": "text/x-python",
   "name": "python",
   "nbconvert_exporter": "python",
   "pygments_lexer": "ipython3",
   "version": "3.6.9"
  },
  "widgets": {
   "application/vnd.jupyter.widget-state+json": {
    "01ad64b01a90459a850bab3b3861b7d6": {
     "model_module": "@jupyter-widgets/controls",
     "model_name": "ProgressStyleModel",
     "state": {
      "_model_module": "@jupyter-widgets/controls",
      "_model_module_version": "1.5.0",
      "_model_name": "ProgressStyleModel",
      "_view_count": null,
      "_view_module": "@jupyter-widgets/base",
      "_view_module_version": "1.2.0",
      "_view_name": "StyleView",
      "bar_color": null,
      "description_width": "initial"
     }
    },
    "01ebdcb1eb9b4b5faa61a911f951eb3e": {
     "model_module": "@jupyter-widgets/controls",
     "model_name": "HTMLModel",
     "state": {
      "_dom_classes": [],
      "_model_module": "@jupyter-widgets/controls",
      "_model_module_version": "1.5.0",
      "_model_name": "HTMLModel",
      "_view_count": null,
      "_view_module": "@jupyter-widgets/controls",
      "_view_module_version": "1.5.0",
      "_view_name": "HTMLView",
      "description": "",
      "description_tooltip": null,
      "layout": "IPY_MODEL_05f45225adcf4a83b89abf0eb1a59ad1",
      "placeholder": "​",
      "style": "IPY_MODEL_a97687f1afa94352b3e7c1438cdbda0c",
      "value": " 10/10 [06:39&lt;00:00, 39.95s/it]"
     }
    },
    "05f45225adcf4a83b89abf0eb1a59ad1": {
     "model_module": "@jupyter-widgets/base",
     "model_name": "LayoutModel",
     "state": {
      "_model_module": "@jupyter-widgets/base",
      "_model_module_version": "1.2.0",
      "_model_name": "LayoutModel",
      "_view_count": null,
      "_view_module": "@jupyter-widgets/base",
      "_view_module_version": "1.2.0",
      "_view_name": "LayoutView",
      "align_content": null,
      "align_items": null,
      "align_self": null,
      "border": null,
      "bottom": null,
      "display": null,
      "flex": null,
      "flex_flow": null,
      "grid_area": null,
      "grid_auto_columns": null,
      "grid_auto_flow": null,
      "grid_auto_rows": null,
      "grid_column": null,
      "grid_gap": null,
      "grid_row": null,
      "grid_template_areas": null,
      "grid_template_columns": null,
      "grid_template_rows": null,
      "height": null,
      "justify_content": null,
      "justify_items": null,
      "left": null,
      "margin": null,
      "max_height": null,
      "max_width": null,
      "min_height": null,
      "min_width": null,
      "object_fit": null,
      "object_position": null,
      "order": null,
      "overflow": null,
      "overflow_x": null,
      "overflow_y": null,
      "padding": null,
      "right": null,
      "top": null,
      "visibility": null,
      "width": null
     }
    },
    "3e04318ec31749f98bb9ae7eed771d1e": {
     "model_module": "@jupyter-widgets/controls",
     "model_name": "FloatProgressModel",
     "state": {
      "_dom_classes": [],
      "_model_module": "@jupyter-widgets/controls",
      "_model_module_version": "1.5.0",
      "_model_name": "FloatProgressModel",
      "_view_count": null,
      "_view_module": "@jupyter-widgets/controls",
      "_view_module_version": "1.5.0",
      "_view_name": "ProgressView",
      "bar_style": "success",
      "description": "100%",
      "description_tooltip": null,
      "layout": "IPY_MODEL_e21e9ed798214ffb9c16f72a7c1c0088",
      "max": 10,
      "min": 0,
      "orientation": "horizontal",
      "style": "IPY_MODEL_01ad64b01a90459a850bab3b3861b7d6",
      "value": 10
     }
    },
    "a97687f1afa94352b3e7c1438cdbda0c": {
     "model_module": "@jupyter-widgets/controls",
     "model_name": "DescriptionStyleModel",
     "state": {
      "_model_module": "@jupyter-widgets/controls",
      "_model_module_version": "1.5.0",
      "_model_name": "DescriptionStyleModel",
      "_view_count": null,
      "_view_module": "@jupyter-widgets/base",
      "_view_module_version": "1.2.0",
      "_view_name": "StyleView",
      "description_width": ""
     }
    },
    "cb4cff64cae4457086d653534115b3d8": {
     "model_module": "@jupyter-widgets/base",
     "model_name": "LayoutModel",
     "state": {
      "_model_module": "@jupyter-widgets/base",
      "_model_module_version": "1.2.0",
      "_model_name": "LayoutModel",
      "_view_count": null,
      "_view_module": "@jupyter-widgets/base",
      "_view_module_version": "1.2.0",
      "_view_name": "LayoutView",
      "align_content": null,
      "align_items": null,
      "align_self": null,
      "border": null,
      "bottom": null,
      "display": null,
      "flex": null,
      "flex_flow": null,
      "grid_area": null,
      "grid_auto_columns": null,
      "grid_auto_flow": null,
      "grid_auto_rows": null,
      "grid_column": null,
      "grid_gap": null,
      "grid_row": null,
      "grid_template_areas": null,
      "grid_template_columns": null,
      "grid_template_rows": null,
      "height": null,
      "justify_content": null,
      "justify_items": null,
      "left": null,
      "margin": null,
      "max_height": null,
      "max_width": null,
      "min_height": null,
      "min_width": null,
      "object_fit": null,
      "object_position": null,
      "order": null,
      "overflow": null,
      "overflow_x": null,
      "overflow_y": null,
      "padding": null,
      "right": null,
      "top": null,
      "visibility": null,
      "width": null
     }
    },
    "e21e9ed798214ffb9c16f72a7c1c0088": {
     "model_module": "@jupyter-widgets/base",
     "model_name": "LayoutModel",
     "state": {
      "_model_module": "@jupyter-widgets/base",
      "_model_module_version": "1.2.0",
      "_model_name": "LayoutModel",
      "_view_count": null,
      "_view_module": "@jupyter-widgets/base",
      "_view_module_version": "1.2.0",
      "_view_name": "LayoutView",
      "align_content": null,
      "align_items": null,
      "align_self": null,
      "border": null,
      "bottom": null,
      "display": null,
      "flex": null,
      "flex_flow": null,
      "grid_area": null,
      "grid_auto_columns": null,
      "grid_auto_flow": null,
      "grid_auto_rows": null,
      "grid_column": null,
      "grid_gap": null,
      "grid_row": null,
      "grid_template_areas": null,
      "grid_template_columns": null,
      "grid_template_rows": null,
      "height": null,
      "justify_content": null,
      "justify_items": null,
      "left": null,
      "margin": null,
      "max_height": null,
      "max_width": null,
      "min_height": null,
      "min_width": null,
      "object_fit": null,
      "object_position": null,
      "order": null,
      "overflow": null,
      "overflow_x": null,
      "overflow_y": null,
      "padding": null,
      "right": null,
      "top": null,
      "visibility": null,
      "width": null
     }
    },
    "ffbfcbb1ce49455d8c695d7344387f93": {
     "model_module": "@jupyter-widgets/controls",
     "model_name": "HBoxModel",
     "state": {
      "_dom_classes": [],
      "_model_module": "@jupyter-widgets/controls",
      "_model_module_version": "1.5.0",
      "_model_name": "HBoxModel",
      "_view_count": null,
      "_view_module": "@jupyter-widgets/controls",
      "_view_module_version": "1.5.0",
      "_view_name": "HBoxView",
      "box_style": "",
      "children": [
       "IPY_MODEL_3e04318ec31749f98bb9ae7eed771d1e",
       "IPY_MODEL_01ebdcb1eb9b4b5faa61a911f951eb3e"
      ],
      "layout": "IPY_MODEL_cb4cff64cae4457086d653534115b3d8"
     }
    }
   }
  }
 },
 "nbformat": 4,
 "nbformat_minor": 1
}